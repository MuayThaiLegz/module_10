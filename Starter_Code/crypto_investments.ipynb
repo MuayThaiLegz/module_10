{
 "cells": [
  {
   "cell_type": "markdown",
   "metadata": {},
   "source": [
    "# Module 10 Application\n",
    "\n",
    "## Challenge: Crypto Investments\n",
    "\n",
    "In this Challenge, you’ll combine your financial Python programming skills with the new unsupervised learning skills that you acquired in this module.\n",
    "\n",
    "The CSV file provided for this challenge contains price change data of cryptocurrencies in different periods.\n",
    "\n",
    "The steps for this challenge are broken out into the following sections:\n",
    "\n",
    "* Import the Data (provided in the starter code)\n",
    "* Prepare the Data (provided in the starter code)\n",
    "* Cluster Cryptocurrencies with K-means\n",
    "* Find the Best Value for k\n",
    "* Optimize Clusters with Principal Component Analysis\n",
    "* Visualize the Results"
   ]
  },
  {
   "cell_type": "markdown",
   "metadata": {},
   "source": [
    "### Import the Data\n",
    "\n",
    "This section imports the data into a new DataFrame. It follows these steps:\n",
    "\n",
    "1. Read  the “crypto_market_data.csv” file from the Resources folder into a DataFrame, and use `index_col=\"coin_id\"` to set the cryptocurrency name as the index. Review the DataFrame.\n",
    "\n",
    "2. Generate the summary statistics, and and use HvPlot to visualize your data to observe what your DataFrame contains.\n",
    "\n",
    "\n",
    "> **Rewind:** The [Pandas`describe()`function](https://pandas.pydata.org/pandas-docs/stable/reference/api/pandas.DataFrame.describe.html) generates summary statistics for a DataFrame. "
   ]
  },
  {
   "cell_type": "code",
   "execution_count": 60,
   "metadata": {},
   "outputs": [],
   "source": [
    "# Import required libraries and dependencies\n",
    "import pandas as pd\n",
    "import hvplot.pandas\n",
    "from path import Path\n",
    "from sklearn.cluster import KMeans\n",
    "from sklearn.decomposition import PCA\n",
    "from sklearn.preprocessing import StandardScaler"
   ]
  },
  {
   "cell_type": "code",
   "execution_count": 61,
   "metadata": {},
   "outputs": [
    {
     "data": {
      "text/html": [
       "<div>\n",
       "<style scoped>\n",
       "    .dataframe tbody tr th:only-of-type {\n",
       "        vertical-align: middle;\n",
       "    }\n",
       "\n",
       "    .dataframe tbody tr th {\n",
       "        vertical-align: top;\n",
       "    }\n",
       "\n",
       "    .dataframe thead th {\n",
       "        text-align: right;\n",
       "    }\n",
       "</style>\n",
       "<table border=\"1\" class=\"dataframe\">\n",
       "  <thead>\n",
       "    <tr style=\"text-align: right;\">\n",
       "      <th></th>\n",
       "      <th>price_change_percentage_24h</th>\n",
       "      <th>price_change_percentage_7d</th>\n",
       "      <th>price_change_percentage_14d</th>\n",
       "      <th>price_change_percentage_30d</th>\n",
       "      <th>price_change_percentage_60d</th>\n",
       "      <th>price_change_percentage_200d</th>\n",
       "      <th>price_change_percentage_1y</th>\n",
       "    </tr>\n",
       "    <tr>\n",
       "      <th>coin_id</th>\n",
       "      <th></th>\n",
       "      <th></th>\n",
       "      <th></th>\n",
       "      <th></th>\n",
       "      <th></th>\n",
       "      <th></th>\n",
       "      <th></th>\n",
       "    </tr>\n",
       "  </thead>\n",
       "  <tbody>\n",
       "    <tr>\n",
       "      <th>bitcoin</th>\n",
       "      <td>1.08388</td>\n",
       "      <td>7.60278</td>\n",
       "      <td>6.57509</td>\n",
       "      <td>7.67258</td>\n",
       "      <td>-3.25185</td>\n",
       "      <td>83.51840</td>\n",
       "      <td>37.51761</td>\n",
       "    </tr>\n",
       "    <tr>\n",
       "      <th>ethereum</th>\n",
       "      <td>0.22392</td>\n",
       "      <td>10.38134</td>\n",
       "      <td>4.80849</td>\n",
       "      <td>0.13169</td>\n",
       "      <td>-12.88890</td>\n",
       "      <td>186.77418</td>\n",
       "      <td>101.96023</td>\n",
       "    </tr>\n",
       "    <tr>\n",
       "      <th>tether</th>\n",
       "      <td>-0.21173</td>\n",
       "      <td>0.04935</td>\n",
       "      <td>0.00640</td>\n",
       "      <td>-0.04237</td>\n",
       "      <td>0.28037</td>\n",
       "      <td>-0.00542</td>\n",
       "      <td>0.01954</td>\n",
       "    </tr>\n",
       "    <tr>\n",
       "      <th>ripple</th>\n",
       "      <td>-0.37819</td>\n",
       "      <td>-0.60926</td>\n",
       "      <td>2.24984</td>\n",
       "      <td>0.23455</td>\n",
       "      <td>-17.55245</td>\n",
       "      <td>39.53888</td>\n",
       "      <td>-16.60193</td>\n",
       "    </tr>\n",
       "    <tr>\n",
       "      <th>bitcoin-cash</th>\n",
       "      <td>2.90585</td>\n",
       "      <td>17.09717</td>\n",
       "      <td>14.75334</td>\n",
       "      <td>15.74903</td>\n",
       "      <td>-13.71793</td>\n",
       "      <td>21.66042</td>\n",
       "      <td>14.49384</td>\n",
       "    </tr>\n",
       "    <tr>\n",
       "      <th>binancecoin</th>\n",
       "      <td>2.10423</td>\n",
       "      <td>12.85511</td>\n",
       "      <td>6.80688</td>\n",
       "      <td>0.05865</td>\n",
       "      <td>36.33486</td>\n",
       "      <td>155.61937</td>\n",
       "      <td>69.69195</td>\n",
       "    </tr>\n",
       "    <tr>\n",
       "      <th>chainlink</th>\n",
       "      <td>-0.23935</td>\n",
       "      <td>20.69459</td>\n",
       "      <td>9.30098</td>\n",
       "      <td>-11.21747</td>\n",
       "      <td>-43.69522</td>\n",
       "      <td>403.22917</td>\n",
       "      <td>325.13186</td>\n",
       "    </tr>\n",
       "    <tr>\n",
       "      <th>cardano</th>\n",
       "      <td>0.00322</td>\n",
       "      <td>13.99302</td>\n",
       "      <td>5.55476</td>\n",
       "      <td>10.10553</td>\n",
       "      <td>-22.84776</td>\n",
       "      <td>264.51418</td>\n",
       "      <td>156.09756</td>\n",
       "    </tr>\n",
       "    <tr>\n",
       "      <th>litecoin</th>\n",
       "      <td>-0.06341</td>\n",
       "      <td>6.60221</td>\n",
       "      <td>7.28931</td>\n",
       "      <td>1.21662</td>\n",
       "      <td>-17.23960</td>\n",
       "      <td>27.49919</td>\n",
       "      <td>-12.66408</td>\n",
       "    </tr>\n",
       "    <tr>\n",
       "      <th>bitcoin-cash-sv</th>\n",
       "      <td>0.92530</td>\n",
       "      <td>3.29641</td>\n",
       "      <td>-1.86656</td>\n",
       "      <td>2.88926</td>\n",
       "      <td>-24.87434</td>\n",
       "      <td>7.42562</td>\n",
       "      <td>93.73082</td>\n",
       "    </tr>\n",
       "  </tbody>\n",
       "</table>\n",
       "</div>"
      ],
      "text/plain": [
       "                 price_change_percentage_24h  price_change_percentage_7d  \\\n",
       "coin_id                                                                    \n",
       "bitcoin                              1.08388                     7.60278   \n",
       "ethereum                             0.22392                    10.38134   \n",
       "tether                              -0.21173                     0.04935   \n",
       "ripple                              -0.37819                    -0.60926   \n",
       "bitcoin-cash                         2.90585                    17.09717   \n",
       "binancecoin                          2.10423                    12.85511   \n",
       "chainlink                           -0.23935                    20.69459   \n",
       "cardano                              0.00322                    13.99302   \n",
       "litecoin                            -0.06341                     6.60221   \n",
       "bitcoin-cash-sv                      0.92530                     3.29641   \n",
       "\n",
       "                 price_change_percentage_14d  price_change_percentage_30d  \\\n",
       "coin_id                                                                     \n",
       "bitcoin                              6.57509                      7.67258   \n",
       "ethereum                             4.80849                      0.13169   \n",
       "tether                               0.00640                     -0.04237   \n",
       "ripple                               2.24984                      0.23455   \n",
       "bitcoin-cash                        14.75334                     15.74903   \n",
       "binancecoin                          6.80688                      0.05865   \n",
       "chainlink                            9.30098                    -11.21747   \n",
       "cardano                              5.55476                     10.10553   \n",
       "litecoin                             7.28931                      1.21662   \n",
       "bitcoin-cash-sv                     -1.86656                      2.88926   \n",
       "\n",
       "                 price_change_percentage_60d  price_change_percentage_200d  \\\n",
       "coin_id                                                                      \n",
       "bitcoin                             -3.25185                      83.51840   \n",
       "ethereum                           -12.88890                     186.77418   \n",
       "tether                               0.28037                      -0.00542   \n",
       "ripple                             -17.55245                      39.53888   \n",
       "bitcoin-cash                       -13.71793                      21.66042   \n",
       "binancecoin                         36.33486                     155.61937   \n",
       "chainlink                          -43.69522                     403.22917   \n",
       "cardano                            -22.84776                     264.51418   \n",
       "litecoin                           -17.23960                      27.49919   \n",
       "bitcoin-cash-sv                    -24.87434                       7.42562   \n",
       "\n",
       "                 price_change_percentage_1y  \n",
       "coin_id                                      \n",
       "bitcoin                            37.51761  \n",
       "ethereum                          101.96023  \n",
       "tether                              0.01954  \n",
       "ripple                            -16.60193  \n",
       "bitcoin-cash                       14.49384  \n",
       "binancecoin                        69.69195  \n",
       "chainlink                         325.13186  \n",
       "cardano                           156.09756  \n",
       "litecoin                          -12.66408  \n",
       "bitcoin-cash-sv                    93.73082  "
      ]
     },
     "execution_count": 61,
     "metadata": {},
     "output_type": "execute_result"
    }
   ],
   "source": [
    "# Load the data into a Pandas DataFrame\n",
    "df_market_data = pd.read_csv(\n",
    "    Path(\"Resources/crypto_market_data.csv\"),\n",
    "    index_col=\"coin_id\")\n",
    "\n",
    "# Display sample data\n",
    "df_market_data.head(10)"
   ]
  },
  {
   "cell_type": "code",
   "execution_count": 62,
   "metadata": {},
   "outputs": [
    {
     "data": {
      "text/html": [
       "<div>\n",
       "<style scoped>\n",
       "    .dataframe tbody tr th:only-of-type {\n",
       "        vertical-align: middle;\n",
       "    }\n",
       "\n",
       "    .dataframe tbody tr th {\n",
       "        vertical-align: top;\n",
       "    }\n",
       "\n",
       "    .dataframe thead th {\n",
       "        text-align: right;\n",
       "    }\n",
       "</style>\n",
       "<table border=\"1\" class=\"dataframe\">\n",
       "  <thead>\n",
       "    <tr style=\"text-align: right;\">\n",
       "      <th></th>\n",
       "      <th>price_change_percentage_24h</th>\n",
       "      <th>price_change_percentage_7d</th>\n",
       "      <th>price_change_percentage_14d</th>\n",
       "      <th>price_change_percentage_30d</th>\n",
       "      <th>price_change_percentage_60d</th>\n",
       "      <th>price_change_percentage_200d</th>\n",
       "      <th>price_change_percentage_1y</th>\n",
       "    </tr>\n",
       "  </thead>\n",
       "  <tbody>\n",
       "    <tr>\n",
       "      <th>count</th>\n",
       "      <td>41.000000</td>\n",
       "      <td>41.000000</td>\n",
       "      <td>41.000000</td>\n",
       "      <td>41.000000</td>\n",
       "      <td>41.000000</td>\n",
       "      <td>41.000000</td>\n",
       "      <td>41.000000</td>\n",
       "    </tr>\n",
       "    <tr>\n",
       "      <th>mean</th>\n",
       "      <td>-0.269686</td>\n",
       "      <td>4.497147</td>\n",
       "      <td>0.185787</td>\n",
       "      <td>1.545693</td>\n",
       "      <td>-0.094119</td>\n",
       "      <td>236.537432</td>\n",
       "      <td>347.667956</td>\n",
       "    </tr>\n",
       "    <tr>\n",
       "      <th>std</th>\n",
       "      <td>2.694793</td>\n",
       "      <td>6.375218</td>\n",
       "      <td>8.376939</td>\n",
       "      <td>26.344218</td>\n",
       "      <td>47.365803</td>\n",
       "      <td>435.225304</td>\n",
       "      <td>1247.842884</td>\n",
       "    </tr>\n",
       "    <tr>\n",
       "      <th>min</th>\n",
       "      <td>-13.527860</td>\n",
       "      <td>-6.094560</td>\n",
       "      <td>-18.158900</td>\n",
       "      <td>-34.705480</td>\n",
       "      <td>-44.822480</td>\n",
       "      <td>-0.392100</td>\n",
       "      <td>-17.567530</td>\n",
       "    </tr>\n",
       "    <tr>\n",
       "      <th>25%</th>\n",
       "      <td>-0.608970</td>\n",
       "      <td>0.047260</td>\n",
       "      <td>-5.026620</td>\n",
       "      <td>-10.438470</td>\n",
       "      <td>-25.907990</td>\n",
       "      <td>21.660420</td>\n",
       "      <td>0.406170</td>\n",
       "    </tr>\n",
       "    <tr>\n",
       "      <th>50%</th>\n",
       "      <td>-0.063410</td>\n",
       "      <td>3.296410</td>\n",
       "      <td>0.109740</td>\n",
       "      <td>-0.042370</td>\n",
       "      <td>-7.544550</td>\n",
       "      <td>83.905200</td>\n",
       "      <td>69.691950</td>\n",
       "    </tr>\n",
       "    <tr>\n",
       "      <th>75%</th>\n",
       "      <td>0.612090</td>\n",
       "      <td>7.602780</td>\n",
       "      <td>5.510740</td>\n",
       "      <td>4.578130</td>\n",
       "      <td>0.657260</td>\n",
       "      <td>216.177610</td>\n",
       "      <td>168.372510</td>\n",
       "    </tr>\n",
       "    <tr>\n",
       "      <th>max</th>\n",
       "      <td>4.840330</td>\n",
       "      <td>20.694590</td>\n",
       "      <td>24.239190</td>\n",
       "      <td>140.795700</td>\n",
       "      <td>223.064370</td>\n",
       "      <td>2227.927820</td>\n",
       "      <td>7852.089700</td>\n",
       "    </tr>\n",
       "  </tbody>\n",
       "</table>\n",
       "</div>"
      ],
      "text/plain": [
       "       price_change_percentage_24h  price_change_percentage_7d  \\\n",
       "count                    41.000000                   41.000000   \n",
       "mean                     -0.269686                    4.497147   \n",
       "std                       2.694793                    6.375218   \n",
       "min                     -13.527860                   -6.094560   \n",
       "25%                      -0.608970                    0.047260   \n",
       "50%                      -0.063410                    3.296410   \n",
       "75%                       0.612090                    7.602780   \n",
       "max                       4.840330                   20.694590   \n",
       "\n",
       "       price_change_percentage_14d  price_change_percentage_30d  \\\n",
       "count                    41.000000                    41.000000   \n",
       "mean                      0.185787                     1.545693   \n",
       "std                       8.376939                    26.344218   \n",
       "min                     -18.158900                   -34.705480   \n",
       "25%                      -5.026620                   -10.438470   \n",
       "50%                       0.109740                    -0.042370   \n",
       "75%                       5.510740                     4.578130   \n",
       "max                      24.239190                   140.795700   \n",
       "\n",
       "       price_change_percentage_60d  price_change_percentage_200d  \\\n",
       "count                    41.000000                     41.000000   \n",
       "mean                     -0.094119                    236.537432   \n",
       "std                      47.365803                    435.225304   \n",
       "min                     -44.822480                     -0.392100   \n",
       "25%                     -25.907990                     21.660420   \n",
       "50%                      -7.544550                     83.905200   \n",
       "75%                       0.657260                    216.177610   \n",
       "max                     223.064370                   2227.927820   \n",
       "\n",
       "       price_change_percentage_1y  \n",
       "count                   41.000000  \n",
       "mean                   347.667956  \n",
       "std                   1247.842884  \n",
       "min                    -17.567530  \n",
       "25%                      0.406170  \n",
       "50%                     69.691950  \n",
       "75%                    168.372510  \n",
       "max                   7852.089700  "
      ]
     },
     "execution_count": 62,
     "metadata": {},
     "output_type": "execute_result"
    }
   ],
   "source": [
    "# Generate summary statistics\n",
    "df_market_data.describe()"
   ]
  },
  {
   "cell_type": "code",
   "execution_count": 63,
   "metadata": {},
   "outputs": [
    {
     "data": {},
     "metadata": {},
     "output_type": "display_data"
    },
    {
     "data": {
      "application/vnd.holoviews_exec.v0+json": "",
      "text/html": [
       "<div id='5497'>\n",
       "\n",
       "\n",
       "\n",
       "\n",
       "\n",
       "  <div class=\"bk-root\" id=\"847376e3-d633-4fbf-afdc-be1d9df471b1\" data-root-id=\"5497\"></div>\n",
       "</div>\n",
       "<script type=\"application/javascript\">(function(root) {\n",
       "  function embed_document(root) {\n",
       "    var docs_json = {\"0ddae9cd-0d46-48bd-8daa-65072e985e07\":{\"roots\":{\"references\":[{\"attributes\":{\"data\":{\"Variable\":[\"price_change_percentage_200d\",\"price_change_percentage_200d\",\"price_change_percentage_200d\",\"price_change_percentage_200d\",\"price_change_percentage_200d\",\"price_change_percentage_200d\",\"price_change_percentage_200d\",\"price_change_percentage_200d\",\"price_change_percentage_200d\",\"price_change_percentage_200d\",\"price_change_percentage_200d\",\"price_change_percentage_200d\",\"price_change_percentage_200d\",\"price_change_percentage_200d\",\"price_change_percentage_200d\",\"price_change_percentage_200d\",\"price_change_percentage_200d\",\"price_change_percentage_200d\",\"price_change_percentage_200d\",\"price_change_percentage_200d\",\"price_change_percentage_200d\",\"price_change_percentage_200d\",\"price_change_percentage_200d\",\"price_change_percentage_200d\",\"price_change_percentage_200d\",\"price_change_percentage_200d\",\"price_change_percentage_200d\",\"price_change_percentage_200d\",\"price_change_percentage_200d\",\"price_change_percentage_200d\",\"price_change_percentage_200d\",\"price_change_percentage_200d\",\"price_change_percentage_200d\",\"price_change_percentage_200d\",\"price_change_percentage_200d\",\"price_change_percentage_200d\",\"price_change_percentage_200d\",\"price_change_percentage_200d\",\"price_change_percentage_200d\",\"price_change_percentage_200d\",\"price_change_percentage_200d\"],\"coin_id\":[\"bitcoin\",\"ethereum\",\"tether\",\"ripple\",\"bitcoin-cash\",\"binancecoin\",\"chainlink\",\"cardano\",\"litecoin\",\"bitcoin-cash-sv\",\"crypto-com-chain\",\"usd-coin\",\"eos\",\"monero\",\"tron\",\"tezos\",\"okb\",\"stellar\",\"cosmos\",\"cdai\",\"neo\",\"wrapped-bitcoin\",\"leo-token\",\"huobi-token\",\"nem\",\"binance-usd\",\"iota\",\"vechain\",\"zcash\",\"theta-token\",\"dash\",\"ethereum-classic\",\"ethlend\",\"maker\",\"havven\",\"omisego\",\"celsius-degree-token\",\"ontology\",\"ftx-token\",\"true-usd\",\"digibyte\"],\"value\":{\"__ndarray__\":\"xY8xdy3hVED0piIVxlhnQBe86CtIM3a/9zsUBfrEQ0DTn/1IEak1QPTDCOHRc2NAl3MprqozeUAexM4UOohwQIB9dOrKfztAFhiyutWzHUCN7iB2plZsQIQqNXugFcS/ZHWr56QPMkALe9rhrzBlQH+8V61MnGBA5nlwd9a2RUARHm0csfpDQC+Lic3HJ1VAkj8YeO4/Z0AOvjCZKhjZv2vUQzS61GNAtRX7y+75VEC5GW7A52cwQAPso1NXHkVAKa4q+64Fa0A7NgLxun65P+TaUDHOwVdAyM1wAz7bcEAFwHgGDaNeQH3Qs1k1lYtAOUVHcvnvGEANGvonuMgkQCYZOQvbZ6FAGD4ipkSiVED5MeauZXeDQHi0ccQaSoJAC170FcTYmEB1PGagMmJLQC2yne+nvkxAndfYJaq3tr9R9wFIbSl+QA==\",\"dtype\":\"float64\",\"order\":\"little\",\"shape\":[41]}},\"selected\":{\"id\":\"5648\"},\"selection_policy\":{\"id\":\"5671\"}},\"id\":\"5647\",\"type\":\"ColumnDataSource\"},{\"attributes\":{\"line_alpha\":0.2,\"line_color\":\"#8c564b\",\"line_width\":2,\"x\":{\"field\":\"coin_id\"},\"y\":{\"field\":\"value\"}},\"id\":\"5652\",\"type\":\"Line\"},{\"attributes\":{\"line_alpha\":0.2,\"line_color\":\"#ff7e0e\",\"line_width\":2,\"x\":{\"field\":\"coin_id\"},\"y\":{\"field\":\"value\"}},\"id\":\"5564\",\"type\":\"Line\"},{\"attributes\":{},\"id\":\"5521\",\"type\":\"BasicTicker\"},{\"attributes\":{},\"id\":\"5515\",\"type\":\"LinearScale\"},{\"attributes\":{},\"id\":\"5524\",\"type\":\"SaveTool\"},{\"attributes\":{\"axis_label\":\"coin_id\",\"bounds\":\"auto\",\"formatter\":{\"id\":\"5538\"},\"major_label_orientation\":1.5707963267948966,\"ticker\":{\"id\":\"5518\"}},\"id\":\"5517\",\"type\":\"CategoricalAxis\"},{\"attributes\":{},\"id\":\"5513\",\"type\":\"CategoricalScale\"},{\"attributes\":{},\"id\":\"5525\",\"type\":\"PanTool\"},{\"attributes\":{},\"id\":\"5528\",\"type\":\"ResetTool\"},{\"attributes\":{\"line_color\":\"#1f77b3\",\"line_width\":2,\"x\":{\"field\":\"coin_id\"},\"y\":{\"field\":\"value\"}},\"id\":\"5544\",\"type\":\"Line\"},{\"attributes\":{},\"id\":\"5538\",\"type\":\"CategoricalTickFormatter\"},{\"attributes\":{},\"id\":\"5526\",\"type\":\"WheelZoomTool\"},{\"attributes\":{\"overlay\":{\"id\":\"5529\"}},\"id\":\"5527\",\"type\":\"BoxZoomTool\"},{\"attributes\":{},\"id\":\"5560\",\"type\":\"Selection\"},{\"attributes\":{\"factors\":[\"bitcoin\",\"ethereum\",\"tether\",\"ripple\",\"bitcoin-cash\",\"binancecoin\",\"chainlink\",\"cardano\",\"litecoin\",\"bitcoin-cash-sv\",\"crypto-com-chain\",\"usd-coin\",\"eos\",\"monero\",\"tron\",\"tezos\",\"okb\",\"stellar\",\"cosmos\",\"cdai\",\"neo\",\"wrapped-bitcoin\",\"leo-token\",\"huobi-token\",\"nem\",\"binance-usd\",\"iota\",\"vechain\",\"zcash\",\"theta-token\",\"dash\",\"ethereum-classic\",\"ethlend\",\"maker\",\"havven\",\"omisego\",\"celsius-degree-token\",\"ontology\",\"ftx-token\",\"true-usd\",\"digibyte\"],\"tags\":[[[\"coin_id\",\"coin_id\",null]]]},\"id\":\"5499\",\"type\":\"FactorRange\"},{\"attributes\":{\"data\":{\"Variable\":[\"price_change_percentage_1y\",\"price_change_percentage_1y\",\"price_change_percentage_1y\",\"price_change_percentage_1y\",\"price_change_percentage_1y\",\"price_change_percentage_1y\",\"price_change_percentage_1y\",\"price_change_percentage_1y\",\"price_change_percentage_1y\",\"price_change_percentage_1y\",\"price_change_percentage_1y\",\"price_change_percentage_1y\",\"price_change_percentage_1y\",\"price_change_percentage_1y\",\"price_change_percentage_1y\",\"price_change_percentage_1y\",\"price_change_percentage_1y\",\"price_change_percentage_1y\",\"price_change_percentage_1y\",\"price_change_percentage_1y\",\"price_change_percentage_1y\",\"price_change_percentage_1y\",\"price_change_percentage_1y\",\"price_change_percentage_1y\",\"price_change_percentage_1y\",\"price_change_percentage_1y\",\"price_change_percentage_1y\",\"price_change_percentage_1y\",\"price_change_percentage_1y\",\"price_change_percentage_1y\",\"price_change_percentage_1y\",\"price_change_percentage_1y\",\"price_change_percentage_1y\",\"price_change_percentage_1y\",\"price_change_percentage_1y\",\"price_change_percentage_1y\",\"price_change_percentage_1y\",\"price_change_percentage_1y\",\"price_change_percentage_1y\",\"price_change_percentage_1y\",\"price_change_percentage_1y\"],\"coin_id\":[\"bitcoin\",\"ethereum\",\"tether\",\"ripple\",\"bitcoin-cash\",\"binancecoin\",\"chainlink\",\"cardano\",\"litecoin\",\"bitcoin-cash-sv\",\"crypto-com-chain\",\"usd-coin\",\"eos\",\"monero\",\"tron\",\"tezos\",\"okb\",\"stellar\",\"cosmos\",\"cdai\",\"neo\",\"wrapped-bitcoin\",\"leo-token\",\"huobi-token\",\"nem\",\"binance-usd\",\"iota\",\"vechain\",\"zcash\",\"theta-token\",\"dash\",\"ethereum-classic\",\"ethlend\",\"maker\",\"havven\",\"omisego\",\"celsius-degree-token\",\"ontology\",\"ftx-token\",\"true-usd\",\"digibyte\"],\"value\":{\"__ndarray__\":\"kQpjC0HCQkDWqIdodH1ZQN/42jNLApQ/NXugFRiaMMDN6bKY2PwsQOcdp+hIbFFAaTo7GRxSdEC6LCY2H4NjQPnaM0sCVCnA0NA/wcVuV0CQvd798RBzQL4wmSoYlci/t39lpUmRMcDovMYuUaFhQEPKT6p9nk1A6PaSxmiAYUBdUN8yp75hQMzuycNCnStAw7ZFmQ2cVEAHsTOFzmvSvx/0bFZ9aWBAhhvw+WHEQkAN/RNcrAA1QN8Vwf9WkjhAS7A4nPkWaUAVUn5S7dPBPzUk7rH04Q/AIsMq3shbaUBf0hito7hUQPyMCwcC64VAzsKedvirA8Dwoq8gzTgmQHRGlPYWrL5Ayk+qfTpOJUDfiVkvRjaFQEfJq3MMC3RAnFCIgONmn0CsVib8Uk8pwNttF5rrC2VAyXGndLD+2T/ZfFwbKgxnQA==\",\"dtype\":\"float64\",\"order\":\"little\",\"shape\":[41]}},\"selected\":{\"id\":\"5675\"},\"selection_policy\":{\"id\":\"5700\"}},\"id\":\"5674\",\"type\":\"ColumnDataSource\"},{\"attributes\":{\"line_alpha\":0.2,\"line_color\":\"#1f77b3\",\"line_width\":2,\"x\":{\"field\":\"coin_id\"},\"y\":{\"field\":\"value\"}},\"id\":\"5546\",\"type\":\"Line\"},{\"attributes\":{\"children\":[{\"id\":\"5498\"},{\"id\":\"5508\"},{\"id\":\"5883\"}],\"margin\":[0,0,0,0],\"name\":\"Row12496\",\"tags\":[\"embedded\"]},\"id\":\"5497\",\"type\":\"Row\"},{\"attributes\":{},\"id\":\"5579\",\"type\":\"Selection\"},{\"attributes\":{},\"id\":\"5671\",\"type\":\"UnionRenderers\"},{\"attributes\":{\"data\":{\"Variable\":[\"price_change_percentage_24h\",\"price_change_percentage_24h\",\"price_change_percentage_24h\",\"price_change_percentage_24h\",\"price_change_percentage_24h\",\"price_change_percentage_24h\",\"price_change_percentage_24h\",\"price_change_percentage_24h\",\"price_change_percentage_24h\",\"price_change_percentage_24h\",\"price_change_percentage_24h\",\"price_change_percentage_24h\",\"price_change_percentage_24h\",\"price_change_percentage_24h\",\"price_change_percentage_24h\",\"price_change_percentage_24h\",\"price_change_percentage_24h\",\"price_change_percentage_24h\",\"price_change_percentage_24h\",\"price_change_percentage_24h\",\"price_change_percentage_24h\",\"price_change_percentage_24h\",\"price_change_percentage_24h\",\"price_change_percentage_24h\",\"price_change_percentage_24h\",\"price_change_percentage_24h\",\"price_change_percentage_24h\",\"price_change_percentage_24h\",\"price_change_percentage_24h\",\"price_change_percentage_24h\",\"price_change_percentage_24h\",\"price_change_percentage_24h\",\"price_change_percentage_24h\",\"price_change_percentage_24h\",\"price_change_percentage_24h\",\"price_change_percentage_24h\",\"price_change_percentage_24h\",\"price_change_percentage_24h\",\"price_change_percentage_24h\",\"price_change_percentage_24h\",\"price_change_percentage_24h\"],\"coin_id\":[\"bitcoin\",\"ethereum\",\"tether\",\"ripple\",\"bitcoin-cash\",\"binancecoin\",\"chainlink\",\"cardano\",\"litecoin\",\"bitcoin-cash-sv\",\"crypto-com-chain\",\"usd-coin\",\"eos\",\"monero\",\"tron\",\"tezos\",\"okb\",\"stellar\",\"cosmos\",\"cdai\",\"neo\",\"wrapped-bitcoin\",\"leo-token\",\"huobi-token\",\"nem\",\"binance-usd\",\"iota\",\"vechain\",\"zcash\",\"theta-token\",\"dash\",\"ethereum-classic\",\"ethlend\",\"maker\",\"havven\",\"omisego\",\"celsius-degree-token\",\"ontology\",\"ftx-token\",\"true-usd\",\"digibyte\"],\"value\":{\"__ndarray__\":\"nZ0MjpJX8T8MzXUaaanMP5mByvj3Gcu/wCZr1EM02L8ep+hILj8HQL0Yyol21QBAwhcmUwWjzr//CS5W1GBqP7JGPUSjO7C/QKTfvg6c7T8urYbEPZbjPzeJQWDl0Ma/1pC4x9KHwj87NgLxun7bP90HILWJk7M/JjYf14aK5b83iUFg5dAFwG3i5H6HIvC/5nlwd9Zu7r9i83FtqBjLP+iHEcKjjd8/M9yAzw+j8T/fGtgqweLAv+RmuAGfH9q/UdobfGEy678D7KNTVz67v8YzaOif4No/teBFX0Ga9D8G2Eenrnzjvx+duvJZPhLAoMN8eQH28L+cxCCwcmjdv667eapDDivAX5hMFYxK479EUaBP5EkQwAZkr3d/XBNA0JuKVBgbBEDqBDQRNrz1vxo09E9wseo/tI6qJoi6r79qMA3DR8QHQA==\",\"dtype\":\"float64\",\"order\":\"little\",\"shape\":[41]}},\"selected\":{\"id\":\"5542\"},\"selection_policy\":{\"id\":\"5555\"}},\"id\":\"5541\",\"type\":\"ColumnDataSource\"},{\"attributes\":{\"data_source\":{\"id\":\"5674\"},\"glyph\":{\"id\":\"5677\"},\"hover_glyph\":null,\"muted_glyph\":{\"id\":\"5679\"},\"nonselection_glyph\":{\"id\":\"5678\"},\"selection_glyph\":null,\"view\":{\"id\":\"5681\"}},\"id\":\"5680\",\"type\":\"GlyphRenderer\"},{\"attributes\":{\"line_alpha\":0.2,\"line_color\":\"#d62628\",\"line_width\":2,\"x\":{\"field\":\"coin_id\"},\"y\":{\"field\":\"value\"}},\"id\":\"5604\",\"type\":\"Line\"},{\"attributes\":{\"source\":{\"id\":\"5578\"}},\"id\":\"5585\",\"type\":\"CDSView\"},{\"attributes\":{},\"id\":\"5644\",\"type\":\"UnionRenderers\"},{\"attributes\":{\"label\":{\"value\":\"price_change_percentage_1y\"},\"renderers\":[{\"id\":\"5680\"}]},\"id\":\"5702\",\"type\":\"LegendItem\"},{\"attributes\":{\"axis\":{\"id\":\"5517\"},\"grid_line_color\":null,\"ticker\":null},\"id\":\"5519\",\"type\":\"Grid\"},{\"attributes\":{\"line_alpha\":0.1,\"line_color\":\"#2ba02b\",\"line_width\":2,\"x\":{\"field\":\"coin_id\"},\"y\":{\"field\":\"value\"}},\"id\":\"5582\",\"type\":\"Line\"},{\"attributes\":{\"source\":{\"id\":\"5647\"}},\"id\":\"5654\",\"type\":\"CDSView\"},{\"attributes\":{\"margin\":[5,5,5,5],\"name\":\"HSpacer12500\",\"sizing_mode\":\"stretch_width\"},\"id\":\"5498\",\"type\":\"Spacer\"},{\"attributes\":{\"line_alpha\":0.2,\"line_color\":\"#2ba02b\",\"line_width\":2,\"x\":{\"field\":\"coin_id\"},\"y\":{\"field\":\"value\"}},\"id\":\"5583\",\"type\":\"Line\"},{\"attributes\":{\"source\":{\"id\":\"5599\"}},\"id\":\"5606\",\"type\":\"CDSView\"},{\"attributes\":{\"label\":{\"value\":\"price_change_percentage_60d\"},\"renderers\":[{\"id\":\"5628\"}]},\"id\":\"5646\",\"type\":\"LegendItem\"},{\"attributes\":{\"data_source\":{\"id\":\"5578\"},\"glyph\":{\"id\":\"5581\"},\"hover_glyph\":null,\"muted_glyph\":{\"id\":\"5583\"},\"nonselection_glyph\":{\"id\":\"5582\"},\"selection_glyph\":null,\"view\":{\"id\":\"5585\"}},\"id\":\"5584\",\"type\":\"GlyphRenderer\"},{\"attributes\":{\"data_source\":{\"id\":\"5599\"},\"glyph\":{\"id\":\"5602\"},\"hover_glyph\":null,\"muted_glyph\":{\"id\":\"5604\"},\"nonselection_glyph\":{\"id\":\"5603\"},\"selection_glyph\":null,\"view\":{\"id\":\"5606\"}},\"id\":\"5605\",\"type\":\"GlyphRenderer\"},{\"attributes\":{\"active_drag\":\"auto\",\"active_inspect\":\"auto\",\"active_multi\":null,\"active_scroll\":\"auto\",\"active_tap\":\"auto\",\"tools\":[{\"id\":\"5501\"},{\"id\":\"5524\"},{\"id\":\"5525\"},{\"id\":\"5526\"},{\"id\":\"5527\"},{\"id\":\"5528\"}]},\"id\":\"5530\",\"type\":\"Toolbar\"},{\"attributes\":{\"line_alpha\":0.1,\"line_color\":\"#d62628\",\"line_width\":2,\"x\":{\"field\":\"coin_id\"},\"y\":{\"field\":\"value\"}},\"id\":\"5603\",\"type\":\"Line\"},{\"attributes\":{\"line_alpha\":0.1,\"line_color\":\"#ff7e0e\",\"line_width\":2,\"x\":{\"field\":\"coin_id\"},\"y\":{\"field\":\"value\"}},\"id\":\"5563\",\"type\":\"Line\"},{\"attributes\":{\"label\":{\"value\":\"price_change_percentage_200d\"},\"renderers\":[{\"id\":\"5653\"}]},\"id\":\"5673\",\"type\":\"LegendItem\"},{\"attributes\":{},\"id\":\"5619\",\"type\":\"UnionRenderers\"},{\"attributes\":{\"bottom_units\":\"screen\",\"fill_alpha\":0.5,\"fill_color\":\"lightgrey\",\"left_units\":\"screen\",\"level\":\"overlay\",\"line_alpha\":1.0,\"line_color\":\"black\",\"line_dash\":[4,4],\"line_width\":2,\"right_units\":\"screen\",\"top_units\":\"screen\"},\"id\":\"5529\",\"type\":\"BoxAnnotation\"},{\"attributes\":{\"label\":{\"value\":\"price_change_percentage_30d\"},\"renderers\":[{\"id\":\"5605\"}]},\"id\":\"5621\",\"type\":\"LegendItem\"},{\"attributes\":{},\"id\":\"5540\",\"type\":\"BasicTickFormatter\"},{\"attributes\":{\"line_color\":\"#9367bc\",\"line_width\":2,\"x\":{\"field\":\"coin_id\"},\"y\":{\"field\":\"value\"}},\"id\":\"5625\",\"type\":\"Line\"},{\"attributes\":{\"source\":{\"id\":\"5541\"}},\"id\":\"5548\",\"type\":\"CDSView\"},{\"attributes\":{\"line_alpha\":0.2,\"line_color\":\"#9367bc\",\"line_width\":2,\"x\":{\"field\":\"coin_id\"},\"y\":{\"field\":\"value\"}},\"id\":\"5627\",\"type\":\"Line\"},{\"attributes\":{\"source\":{\"id\":\"5674\"}},\"id\":\"5681\",\"type\":\"CDSView\"},{\"attributes\":{\"data_source\":{\"id\":\"5647\"},\"glyph\":{\"id\":\"5650\"},\"hover_glyph\":null,\"muted_glyph\":{\"id\":\"5652\"},\"nonselection_glyph\":{\"id\":\"5651\"},\"selection_glyph\":null,\"view\":{\"id\":\"5654\"}},\"id\":\"5653\",\"type\":\"GlyphRenderer\"},{\"attributes\":{\"source\":{\"id\":\"5559\"}},\"id\":\"5566\",\"type\":\"CDSView\"},{\"attributes\":{},\"id\":\"5623\",\"type\":\"Selection\"},{\"attributes\":{},\"id\":\"5700\",\"type\":\"UnionRenderers\"},{\"attributes\":{\"data\":{\"Variable\":[\"price_change_percentage_14d\",\"price_change_percentage_14d\",\"price_change_percentage_14d\",\"price_change_percentage_14d\",\"price_change_percentage_14d\",\"price_change_percentage_14d\",\"price_change_percentage_14d\",\"price_change_percentage_14d\",\"price_change_percentage_14d\",\"price_change_percentage_14d\",\"price_change_percentage_14d\",\"price_change_percentage_14d\",\"price_change_percentage_14d\",\"price_change_percentage_14d\",\"price_change_percentage_14d\",\"price_change_percentage_14d\",\"price_change_percentage_14d\",\"price_change_percentage_14d\",\"price_change_percentage_14d\",\"price_change_percentage_14d\",\"price_change_percentage_14d\",\"price_change_percentage_14d\",\"price_change_percentage_14d\",\"price_change_percentage_14d\",\"price_change_percentage_14d\",\"price_change_percentage_14d\",\"price_change_percentage_14d\",\"price_change_percentage_14d\",\"price_change_percentage_14d\",\"price_change_percentage_14d\",\"price_change_percentage_14d\",\"price_change_percentage_14d\",\"price_change_percentage_14d\",\"price_change_percentage_14d\",\"price_change_percentage_14d\",\"price_change_percentage_14d\",\"price_change_percentage_14d\",\"price_change_percentage_14d\",\"price_change_percentage_14d\",\"price_change_percentage_14d\",\"price_change_percentage_14d\"],\"coin_id\":[\"bitcoin\",\"ethereum\",\"tether\",\"ripple\",\"bitcoin-cash\",\"binancecoin\",\"chainlink\",\"cardano\",\"litecoin\",\"bitcoin-cash-sv\",\"crypto-com-chain\",\"usd-coin\",\"eos\",\"monero\",\"tron\",\"tezos\",\"okb\",\"stellar\",\"cosmos\",\"cdai\",\"neo\",\"wrapped-bitcoin\",\"leo-token\",\"huobi-token\",\"nem\",\"binance-usd\",\"iota\",\"vechain\",\"zcash\",\"theta-token\",\"dash\",\"ethereum-classic\",\"ethlend\",\"maker\",\"havven\",\"omisego\",\"celsius-degree-token\",\"ontology\",\"ftx-token\",\"true-usd\",\"digibyte\"],\"value\":{\"__ndarray__\":\"zQaZZORMGkB5knTN5DsTQC1DHOviNno/ctwpHaz/AUCLic3HtYEtQJgvL8A+OhtACoDxDBqaIkAOhGQBEzgWQICfceFAKB1AIVnABG7d/b8xsfm4NhQhwGtI3GPpQ3e/pfeNrz0z8j8ao3VUNWkyQBUA4xk0dPY/VIzzN6GQAkCXrfVFQhsUwKpla32RUPG/Qgkzbf8KFkDPg7uzdtvFP8MN+PwwsiPAYFlpUgo6GkB3+GuyRh0cwM2v5gDBHN0/jliLTwEwBUDWrZ6T3jeuP7pOIy2VNw7Am1Wfq60oMsAJM23/yioXQJfK2xFOSxrAQE0tW+uL4D9OucK7XET0v0SLbOf7mSPA/pqsUQ/R978vaYzWUZUqwDtT6LzGbirAvodLjjs9OEByUMJM2x8lwJ30vvG1Z8q/ZCMQr+sXvD+7D0BqE0cdwA==\",\"dtype\":\"float64\",\"order\":\"little\",\"shape\":[41]}},\"selected\":{\"id\":\"5579\"},\"selection_policy\":{\"id\":\"5596\"}},\"id\":\"5578\",\"type\":\"ColumnDataSource\"},{\"attributes\":{\"label\":{\"value\":\"price_change_percentage_7d\"},\"renderers\":[{\"id\":\"5565\"}]},\"id\":\"5577\",\"type\":\"LegendItem\"},{\"attributes\":{\"label\":{\"value\":\"price_change_percentage_24h\"},\"renderers\":[{\"id\":\"5547\"}]},\"id\":\"5558\",\"type\":\"LegendItem\"},{\"attributes\":{\"line_color\":\"#8c564b\",\"line_width\":2,\"x\":{\"field\":\"coin_id\"},\"y\":{\"field\":\"value\"}},\"id\":\"5650\",\"type\":\"Line\"},{\"attributes\":{\"line_alpha\":0.2,\"line_color\":\"#e277c1\",\"line_width\":2,\"x\":{\"field\":\"coin_id\"},\"y\":{\"field\":\"value\"}},\"id\":\"5679\",\"type\":\"Line\"},{\"attributes\":{},\"id\":\"5675\",\"type\":\"Selection\"},{\"attributes\":{\"data_source\":{\"id\":\"5559\"},\"glyph\":{\"id\":\"5562\"},\"hover_glyph\":null,\"muted_glyph\":{\"id\":\"5564\"},\"nonselection_glyph\":{\"id\":\"5563\"},\"selection_glyph\":null,\"view\":{\"id\":\"5566\"}},\"id\":\"5565\",\"type\":\"GlyphRenderer\"},{\"attributes\":{\"source\":{\"id\":\"5622\"}},\"id\":\"5629\",\"type\":\"CDSView\"},{\"attributes\":{},\"id\":\"5518\",\"type\":\"CategoricalTicker\"},{\"attributes\":{\"data_source\":{\"id\":\"5622\"},\"glyph\":{\"id\":\"5625\"},\"hover_glyph\":null,\"muted_glyph\":{\"id\":\"5627\"},\"nonselection_glyph\":{\"id\":\"5626\"},\"selection_glyph\":null,\"view\":{\"id\":\"5629\"}},\"id\":\"5628\",\"type\":\"GlyphRenderer\"},{\"attributes\":{\"margin\":[5,5,5,5],\"name\":\"HSpacer12501\",\"sizing_mode\":\"stretch_width\"},\"id\":\"5883\",\"type\":\"Spacer\"},{\"attributes\":{\"line_alpha\":0.1,\"line_color\":\"#9367bc\",\"line_width\":2,\"x\":{\"field\":\"coin_id\"},\"y\":{\"field\":\"value\"}},\"id\":\"5626\",\"type\":\"Line\"},{\"attributes\":{\"text\":\"\",\"text_color\":{\"value\":\"black\"},\"text_font_size\":{\"value\":\"12pt\"}},\"id\":\"5509\",\"type\":\"Title\"},{\"attributes\":{\"line_color\":\"#d62628\",\"line_width\":2,\"x\":{\"field\":\"coin_id\"},\"y\":{\"field\":\"value\"}},\"id\":\"5602\",\"type\":\"Line\"},{\"attributes\":{\"click_policy\":\"mute\",\"items\":[{\"id\":\"5558\"},{\"id\":\"5577\"},{\"id\":\"5598\"},{\"id\":\"5621\"},{\"id\":\"5646\"},{\"id\":\"5673\"},{\"id\":\"5702\"}],\"location\":[0,0],\"title\":\"Variable\"},\"id\":\"5557\",\"type\":\"Legend\"},{\"attributes\":{\"line_color\":\"#ff7e0e\",\"line_width\":2,\"x\":{\"field\":\"coin_id\"},\"y\":{\"field\":\"value\"}},\"id\":\"5562\",\"type\":\"Line\"},{\"attributes\":{},\"id\":\"5542\",\"type\":\"Selection\"},{\"attributes\":{\"line_alpha\":0.1,\"line_color\":\"#1f77b3\",\"line_width\":2,\"x\":{\"field\":\"coin_id\"},\"y\":{\"field\":\"value\"}},\"id\":\"5545\",\"type\":\"Line\"},{\"attributes\":{},\"id\":\"5596\",\"type\":\"UnionRenderers\"},{\"attributes\":{},\"id\":\"5575\",\"type\":\"UnionRenderers\"},{\"attributes\":{\"data_source\":{\"id\":\"5541\"},\"glyph\":{\"id\":\"5544\"},\"hover_glyph\":null,\"muted_glyph\":{\"id\":\"5546\"},\"nonselection_glyph\":{\"id\":\"5545\"},\"selection_glyph\":null,\"view\":{\"id\":\"5548\"}},\"id\":\"5547\",\"type\":\"GlyphRenderer\"},{\"attributes\":{\"label\":{\"value\":\"price_change_percentage_14d\"},\"renderers\":[{\"id\":\"5584\"}]},\"id\":\"5598\",\"type\":\"LegendItem\"},{\"attributes\":{\"line_color\":\"#2ba02b\",\"line_width\":2,\"x\":{\"field\":\"coin_id\"},\"y\":{\"field\":\"value\"}},\"id\":\"5581\",\"type\":\"Line\"},{\"attributes\":{\"data\":{\"Variable\":[\"price_change_percentage_60d\",\"price_change_percentage_60d\",\"price_change_percentage_60d\",\"price_change_percentage_60d\",\"price_change_percentage_60d\",\"price_change_percentage_60d\",\"price_change_percentage_60d\",\"price_change_percentage_60d\",\"price_change_percentage_60d\",\"price_change_percentage_60d\",\"price_change_percentage_60d\",\"price_change_percentage_60d\",\"price_change_percentage_60d\",\"price_change_percentage_60d\",\"price_change_percentage_60d\",\"price_change_percentage_60d\",\"price_change_percentage_60d\",\"price_change_percentage_60d\",\"price_change_percentage_60d\",\"price_change_percentage_60d\",\"price_change_percentage_60d\",\"price_change_percentage_60d\",\"price_change_percentage_60d\",\"price_change_percentage_60d\",\"price_change_percentage_60d\",\"price_change_percentage_60d\",\"price_change_percentage_60d\",\"price_change_percentage_60d\",\"price_change_percentage_60d\",\"price_change_percentage_60d\",\"price_change_percentage_60d\",\"price_change_percentage_60d\",\"price_change_percentage_60d\",\"price_change_percentage_60d\",\"price_change_percentage_60d\",\"price_change_percentage_60d\",\"price_change_percentage_60d\",\"price_change_percentage_60d\",\"price_change_percentage_60d\",\"price_change_percentage_60d\",\"price_change_percentage_60d\"],\"coin_id\":[\"bitcoin\",\"ethereum\",\"tether\",\"ripple\",\"bitcoin-cash\",\"binancecoin\",\"chainlink\",\"cardano\",\"litecoin\",\"bitcoin-cash-sv\",\"crypto-com-chain\",\"usd-coin\",\"eos\",\"monero\",\"tron\",\"tezos\",\"okb\",\"stellar\",\"cosmos\",\"cdai\",\"neo\",\"wrapped-bitcoin\",\"leo-token\",\"huobi-token\",\"nem\",\"binance-usd\",\"iota\",\"vechain\",\"zcash\",\"theta-token\",\"dash\",\"ethereum-classic\",\"ethlend\",\"maker\",\"havven\",\"omisego\",\"celsius-degree-token\",\"ontology\",\"ftx-token\",\"true-usd\",\"digibyte\"],\"value\":{\"__ndarray__\":\"FvvL7skDCsAs1JrmHccpwKjjMQOV8dE/2qz6XG2NMcBzol2FlG8rwIleRrHcKkJAN8MN+PzYRcBi26LMBtk2wCEf9GxWPTHAq5UJv9TfOMBg5dAi23kwwDygbMoV3qU/l631RUIrPsDNzMzMzNxEQJm7lpAPGhZAms5OBkdpRsBKe4MvTKYGwEsfuqC+zT7APL1SliHOHMC4AZ8fRgjlP9L7xteeCStAFqQZi6azDMCvJeSDni0ewDeOWItPQQvAXvQVpBm3VEDaOGItPgW4PwpLPKBsQkHAaw4QzNHPRcAJM23/yoo0wBmQvd79AVRAfa62Yn85OsBVGFsIcug5wLCsNCkFHQFA529CIQKeMsA0uoPYmbZDwPKwUGua0VNA/pqsUQ/ia0Ao8iTpmllAwFuxv+yenBdAmrFoOjsZ0D8s1JrmHRc/wA==\",\"dtype\":\"float64\",\"order\":\"little\",\"shape\":[41]}},\"selected\":{\"id\":\"5623\"},\"selection_policy\":{\"id\":\"5644\"}},\"id\":\"5622\",\"type\":\"ColumnDataSource\"},{\"attributes\":{\"below\":[{\"id\":\"5517\"}],\"center\":[{\"id\":\"5519\"},{\"id\":\"5523\"}],\"left\":[{\"id\":\"5520\"}],\"margin\":[5,5,5,5],\"min_border_bottom\":10,\"min_border_left\":10,\"min_border_right\":10,\"min_border_top\":10,\"plot_height\":400,\"plot_width\":800,\"renderers\":[{\"id\":\"5547\"},{\"id\":\"5565\"},{\"id\":\"5584\"},{\"id\":\"5605\"},{\"id\":\"5628\"},{\"id\":\"5653\"},{\"id\":\"5680\"}],\"right\":[{\"id\":\"5557\"}],\"sizing_mode\":\"fixed\",\"title\":{\"id\":\"5509\"},\"toolbar\":{\"id\":\"5530\"},\"x_range\":{\"id\":\"5499\"},\"x_scale\":{\"id\":\"5513\"},\"y_range\":{\"id\":\"5500\"},\"y_scale\":{\"id\":\"5515\"}},\"id\":\"5508\",\"subtype\":\"Figure\",\"type\":\"Plot\"},{\"attributes\":{\"line_color\":\"#e277c1\",\"line_width\":2,\"x\":{\"field\":\"coin_id\"},\"y\":{\"field\":\"value\"}},\"id\":\"5677\",\"type\":\"Line\"},{\"attributes\":{\"axis\":{\"id\":\"5520\"},\"dimension\":1,\"grid_line_color\":null,\"ticker\":null},\"id\":\"5523\",\"type\":\"Grid\"},{\"attributes\":{},\"id\":\"5600\",\"type\":\"Selection\"},{\"attributes\":{},\"id\":\"5648\",\"type\":\"Selection\"},{\"attributes\":{\"data\":{\"Variable\":[\"price_change_percentage_30d\",\"price_change_percentage_30d\",\"price_change_percentage_30d\",\"price_change_percentage_30d\",\"price_change_percentage_30d\",\"price_change_percentage_30d\",\"price_change_percentage_30d\",\"price_change_percentage_30d\",\"price_change_percentage_30d\",\"price_change_percentage_30d\",\"price_change_percentage_30d\",\"price_change_percentage_30d\",\"price_change_percentage_30d\",\"price_change_percentage_30d\",\"price_change_percentage_30d\",\"price_change_percentage_30d\",\"price_change_percentage_30d\",\"price_change_percentage_30d\",\"price_change_percentage_30d\",\"price_change_percentage_30d\",\"price_change_percentage_30d\",\"price_change_percentage_30d\",\"price_change_percentage_30d\",\"price_change_percentage_30d\",\"price_change_percentage_30d\",\"price_change_percentage_30d\",\"price_change_percentage_30d\",\"price_change_percentage_30d\",\"price_change_percentage_30d\",\"price_change_percentage_30d\",\"price_change_percentage_30d\",\"price_change_percentage_30d\",\"price_change_percentage_30d\",\"price_change_percentage_30d\",\"price_change_percentage_30d\",\"price_change_percentage_30d\",\"price_change_percentage_30d\",\"price_change_percentage_30d\",\"price_change_percentage_30d\",\"price_change_percentage_30d\",\"price_change_percentage_30d\"],\"coin_id\":[\"bitcoin\",\"ethereum\",\"tether\",\"ripple\",\"bitcoin-cash\",\"binancecoin\",\"chainlink\",\"cardano\",\"litecoin\",\"bitcoin-cash-sv\",\"crypto-com-chain\",\"usd-coin\",\"eos\",\"monero\",\"tron\",\"tezos\",\"okb\",\"stellar\",\"cosmos\",\"cdai\",\"neo\",\"wrapped-bitcoin\",\"leo-token\",\"huobi-token\",\"nem\",\"binance-usd\",\"iota\",\"vechain\",\"zcash\",\"theta-token\",\"dash\",\"ethereum-classic\",\"ethlend\",\"maker\",\"havven\",\"omisego\",\"celsius-degree-token\",\"ontology\",\"ftx-token\",\"true-usd\",\"digibyte\"],\"value\":{\"__ndarray__\":\"VMa/z7iwHkAl6ZrJN9vAP/28qUiFsaW/L26jAbwFzj8dcjPcgH8vQPMf0m9fB64/5bhTOlhvJsBnfjUHCDYkQGWNeohGd/M/sCDNWDQdB0Cmft5UpHIxwJgvL8A+OsW/t0WZDTKJEsDeVKTC2HpDQEzD8BExNSnAjWK5pdVALMDjjcwjf+AkwIrIsIo3QiDAjliLTwFQEkAWpBmLpnMBwE3WqIdo9DXAVG8NbJWAHUAnMQisHJoIQGA8g4b+CQrACcTr+gU7DcCPpQ9dUN+SP80Bgjl6nBDA9S1zuixWLMBC7Eyh83odQEku/yH9bj9AtTf4wmQqH8Am/FI/byoHQNjYJaq3/j3A9GxWfa62MECdRloqb9c0wF4R/G8lOyLArK3YX3aZYUC1/SsrTVpBwP/PYb68ICXAFR3J5T+knz+ndLD+z4EqQA==\",\"dtype\":\"float64\",\"order\":\"little\",\"shape\":[41]}},\"selected\":{\"id\":\"5600\"},\"selection_policy\":{\"id\":\"5619\"}},\"id\":\"5599\",\"type\":\"ColumnDataSource\"},{\"attributes\":{\"axis_label\":\"\",\"bounds\":\"auto\",\"formatter\":{\"id\":\"5540\"},\"major_label_orientation\":\"horizontal\",\"ticker\":{\"id\":\"5521\"}},\"id\":\"5520\",\"type\":\"LinearAxis\"},{\"attributes\":{\"callback\":null,\"renderers\":[{\"id\":\"5547\"},{\"id\":\"5565\"},{\"id\":\"5584\"},{\"id\":\"5605\"},{\"id\":\"5628\"},{\"id\":\"5653\"},{\"id\":\"5680\"}],\"tags\":[\"hv_created\"],\"tooltips\":[[\"Variable\",\"@{Variable}\"],[\"coin_id\",\"@{coin_id}\"],[\"value\",\"@{value}\"]]},\"id\":\"5501\",\"type\":\"HoverTool\"},{\"attributes\":{\"line_alpha\":0.1,\"line_color\":\"#e277c1\",\"line_width\":2,\"x\":{\"field\":\"coin_id\"},\"y\":{\"field\":\"value\"}},\"id\":\"5678\",\"type\":\"Line\"},{\"attributes\":{},\"id\":\"5555\",\"type\":\"UnionRenderers\"},{\"attributes\":{\"data\":{\"Variable\":[\"price_change_percentage_7d\",\"price_change_percentage_7d\",\"price_change_percentage_7d\",\"price_change_percentage_7d\",\"price_change_percentage_7d\",\"price_change_percentage_7d\",\"price_change_percentage_7d\",\"price_change_percentage_7d\",\"price_change_percentage_7d\",\"price_change_percentage_7d\",\"price_change_percentage_7d\",\"price_change_percentage_7d\",\"price_change_percentage_7d\",\"price_change_percentage_7d\",\"price_change_percentage_7d\",\"price_change_percentage_7d\",\"price_change_percentage_7d\",\"price_change_percentage_7d\",\"price_change_percentage_7d\",\"price_change_percentage_7d\",\"price_change_percentage_7d\",\"price_change_percentage_7d\",\"price_change_percentage_7d\",\"price_change_percentage_7d\",\"price_change_percentage_7d\",\"price_change_percentage_7d\",\"price_change_percentage_7d\",\"price_change_percentage_7d\",\"price_change_percentage_7d\",\"price_change_percentage_7d\",\"price_change_percentage_7d\",\"price_change_percentage_7d\",\"price_change_percentage_7d\",\"price_change_percentage_7d\",\"price_change_percentage_7d\",\"price_change_percentage_7d\",\"price_change_percentage_7d\",\"price_change_percentage_7d\",\"price_change_percentage_7d\",\"price_change_percentage_7d\",\"price_change_percentage_7d\"],\"coin_id\":[\"bitcoin\",\"ethereum\",\"tether\",\"ripple\",\"bitcoin-cash\",\"binancecoin\",\"chainlink\",\"cardano\",\"litecoin\",\"bitcoin-cash-sv\",\"crypto-com-chain\",\"usd-coin\",\"eos\",\"monero\",\"tron\",\"tezos\",\"okb\",\"stellar\",\"cosmos\",\"cdai\",\"neo\",\"wrapped-bitcoin\",\"leo-token\",\"huobi-token\",\"nem\",\"binance-usd\",\"iota\",\"vechain\",\"zcash\",\"theta-token\",\"dash\",\"ethereum-classic\",\"ethlend\",\"maker\",\"havven\",\"omisego\",\"celsius-degree-token\",\"ontology\",\"ftx-token\",\"true-usd\",\"digibyte\"],\"value\":{\"__ndarray__\":\"RbsKKT9pHkAzUBn/PsMkQL99HThnRKk/yVnY0w5/47/+JhQi4BgxQBL3WPrQtSlA7yB2ptCxNEA/jBAebfwrQPFL/bypaBpArKjBNAxfCkByv0NRoK8WwPlJtU/HY76/lPsdigL99L+n6Egu/5EvQE1KQbeX9BBA0m9fB87pIUBlU67wLjcSwKbtX1lpkgBAZwqd19gVMEBcIEHxY8ytP3wnZr0YigNAOh4zUBmfHUD3Hi457pT1vzNQGf8+4/k/kQ96Nqs+6781Y9F0djKoP2dEaW/wRRhAgXhdv2A3/L/8GHPXErIkQP8JLlbUYBjAVU0QdR9gFEDRlnMprmoIQGCrBIvD2RBAAiuHFtlOIECbG9MTllgRQKhXyjLEURtAqn06HjNQ4z+UvDrHgGzzvwltOZfiahxAsD2zJEBNxT8yj/zBwHPlPw==\",\"dtype\":\"float64\",\"order\":\"little\",\"shape\":[41]}},\"selected\":{\"id\":\"5560\"},\"selection_policy\":{\"id\":\"5575\"}},\"id\":\"5559\",\"type\":\"ColumnDataSource\"},{\"attributes\":{\"end\":8641.780918,\"reset_end\":8641.780918,\"reset_start\":-834.5136980000001,\"start\":-834.5136980000001,\"tags\":[[[\"value\",\"value\",null]]]},\"id\":\"5500\",\"type\":\"Range1d\"},{\"attributes\":{\"line_alpha\":0.1,\"line_color\":\"#8c564b\",\"line_width\":2,\"x\":{\"field\":\"coin_id\"},\"y\":{\"field\":\"value\"}},\"id\":\"5651\",\"type\":\"Line\"}],\"root_ids\":[\"5497\"]},\"title\":\"Bokeh Application\",\"version\":\"2.2.3\"}};\n",
       "    var render_items = [{\"docid\":\"0ddae9cd-0d46-48bd-8daa-65072e985e07\",\"root_ids\":[\"5497\"],\"roots\":{\"5497\":\"847376e3-d633-4fbf-afdc-be1d9df471b1\"}}];\n",
       "    root.Bokeh.embed.embed_items_notebook(docs_json, render_items);\n",
       "  }\n",
       "  if (root.Bokeh !== undefined && root.Bokeh.Panel !== undefined) {\n",
       "    embed_document(root);\n",
       "  } else {\n",
       "    var attempts = 0;\n",
       "    var timer = setInterval(function(root) {\n",
       "      if (root.Bokeh !== undefined && root.Bokeh.Panel !== undefined) {\n",
       "        clearInterval(timer);\n",
       "        embed_document(root);\n",
       "      } else if (document.readyState == \"complete\") {\n",
       "        attempts++;\n",
       "        if (attempts > 100) {\n",
       "          clearInterval(timer);\n",
       "          console.log(\"Bokeh: ERROR: Unable to run BokehJS code because BokehJS library is missing\");\n",
       "        }\n",
       "      }\n",
       "    }, 10, root)\n",
       "  }\n",
       "})(window);</script>"
      ],
      "text/plain": [
       ":NdOverlay   [Variable]\n",
       "   :Curve   [coin_id]   (value)"
      ]
     },
     "execution_count": 63,
     "metadata": {
      "application/vnd.holoviews_exec.v0+json": {
       "id": "5497"
      }
     },
     "output_type": "execute_result"
    }
   ],
   "source": [
    "# Plot your data to see what's in your DataFrame\n",
    "df_market_data.hvplot.line(\n",
    "    width=800,\n",
    "    height=400,\n",
    "    rot=90\n",
    ")"
   ]
  },
  {
   "cell_type": "markdown",
   "metadata": {},
   "source": [
    "### Prepare the Data\n",
    "\n",
    "This section prepares the data before running the K-Means algorithm. It follows these steps:\n",
    "\n",
    "1. Use the `StandardScaler` module from scikit-learn to normalize the CSV file data. This will require you to utilize the `fit_transform` function.\n",
    "\n",
    "2. Create a DataFrame that contains the scaled data. Be sure to set the `coin_id` index from the original DataFrame as the index for the new DataFrame. Review the resulting DataFrame.\n"
   ]
  },
  {
   "cell_type": "code",
   "execution_count": 64,
   "metadata": {},
   "outputs": [],
   "source": [
    "# Use the `StandardScaler()` module from scikit-learn to normalize the data from the CSV file\n",
    "scaled_data = StandardScaler().fit_transform(df_market_data)"
   ]
  },
  {
   "cell_type": "code",
   "execution_count": 65,
   "metadata": {},
   "outputs": [
    {
     "data": {
      "text/html": [
       "<div>\n",
       "<style scoped>\n",
       "    .dataframe tbody tr th:only-of-type {\n",
       "        vertical-align: middle;\n",
       "    }\n",
       "\n",
       "    .dataframe tbody tr th {\n",
       "        vertical-align: top;\n",
       "    }\n",
       "\n",
       "    .dataframe thead th {\n",
       "        text-align: right;\n",
       "    }\n",
       "</style>\n",
       "<table border=\"1\" class=\"dataframe\">\n",
       "  <thead>\n",
       "    <tr style=\"text-align: right;\">\n",
       "      <th></th>\n",
       "      <th>price_change_percentage_24h</th>\n",
       "      <th>price_change_percentage_7d</th>\n",
       "      <th>price_change_percentage_14d</th>\n",
       "      <th>price_change_percentage_30d</th>\n",
       "      <th>price_change_percentage_60d</th>\n",
       "      <th>price_change_percentage_200d</th>\n",
       "      <th>price_change_percentage_1y</th>\n",
       "    </tr>\n",
       "    <tr>\n",
       "      <th>coin_id</th>\n",
       "      <th></th>\n",
       "      <th></th>\n",
       "      <th></th>\n",
       "      <th></th>\n",
       "      <th></th>\n",
       "      <th></th>\n",
       "      <th></th>\n",
       "    </tr>\n",
       "  </thead>\n",
       "  <tbody>\n",
       "    <tr>\n",
       "      <th>bitcoin</th>\n",
       "      <td>0.508529</td>\n",
       "      <td>0.493193</td>\n",
       "      <td>0.772200</td>\n",
       "      <td>0.235460</td>\n",
       "      <td>-0.067495</td>\n",
       "      <td>-0.355953</td>\n",
       "      <td>-0.251637</td>\n",
       "    </tr>\n",
       "    <tr>\n",
       "      <th>ethereum</th>\n",
       "      <td>0.185446</td>\n",
       "      <td>0.934445</td>\n",
       "      <td>0.558692</td>\n",
       "      <td>-0.054341</td>\n",
       "      <td>-0.273483</td>\n",
       "      <td>-0.115759</td>\n",
       "      <td>-0.199352</td>\n",
       "    </tr>\n",
       "    <tr>\n",
       "      <th>tether</th>\n",
       "      <td>0.021774</td>\n",
       "      <td>-0.706337</td>\n",
       "      <td>-0.021680</td>\n",
       "      <td>-0.061030</td>\n",
       "      <td>0.008005</td>\n",
       "      <td>-0.550247</td>\n",
       "      <td>-0.282061</td>\n",
       "    </tr>\n",
       "    <tr>\n",
       "      <th>ripple</th>\n",
       "      <td>-0.040764</td>\n",
       "      <td>-0.810928</td>\n",
       "      <td>0.249458</td>\n",
       "      <td>-0.050388</td>\n",
       "      <td>-0.373164</td>\n",
       "      <td>-0.458259</td>\n",
       "      <td>-0.295546</td>\n",
       "    </tr>\n",
       "    <tr>\n",
       "      <th>bitcoin-cash</th>\n",
       "      <td>1.193036</td>\n",
       "      <td>2.000959</td>\n",
       "      <td>1.760610</td>\n",
       "      <td>0.545842</td>\n",
       "      <td>-0.291203</td>\n",
       "      <td>-0.499848</td>\n",
       "      <td>-0.270317</td>\n",
       "    </tr>\n",
       "  </tbody>\n",
       "</table>\n",
       "</div>"
      ],
      "text/plain": [
       "              price_change_percentage_24h  price_change_percentage_7d  \\\n",
       "coin_id                                                                 \n",
       "bitcoin                          0.508529                    0.493193   \n",
       "ethereum                         0.185446                    0.934445   \n",
       "tether                           0.021774                   -0.706337   \n",
       "ripple                          -0.040764                   -0.810928   \n",
       "bitcoin-cash                     1.193036                    2.000959   \n",
       "\n",
       "              price_change_percentage_14d  price_change_percentage_30d  \\\n",
       "coin_id                                                                  \n",
       "bitcoin                          0.772200                     0.235460   \n",
       "ethereum                         0.558692                    -0.054341   \n",
       "tether                          -0.021680                    -0.061030   \n",
       "ripple                           0.249458                    -0.050388   \n",
       "bitcoin-cash                     1.760610                     0.545842   \n",
       "\n",
       "              price_change_percentage_60d  price_change_percentage_200d  \\\n",
       "coin_id                                                                   \n",
       "bitcoin                         -0.067495                     -0.355953   \n",
       "ethereum                        -0.273483                     -0.115759   \n",
       "tether                           0.008005                     -0.550247   \n",
       "ripple                          -0.373164                     -0.458259   \n",
       "bitcoin-cash                    -0.291203                     -0.499848   \n",
       "\n",
       "              price_change_percentage_1y  \n",
       "coin_id                                   \n",
       "bitcoin                        -0.251637  \n",
       "ethereum                       -0.199352  \n",
       "tether                         -0.282061  \n",
       "ripple                         -0.295546  \n",
       "bitcoin-cash                   -0.270317  "
      ]
     },
     "execution_count": 65,
     "metadata": {},
     "output_type": "execute_result"
    }
   ],
   "source": [
    "# Create a DataFrame with the scaled data\n",
    "df_market_data_scaled = pd.DataFrame(\n",
    "    scaled_data,\n",
    "    columns=df_market_data.columns\n",
    ")\n",
    "\n",
    "# Copy the crypto names from the original data\n",
    "df_market_data_scaled[\"coin_id\"] = df_market_data.index\n",
    "\n",
    "# Set the coinid column as index\n",
    "df_market_data_scaled = df_market_data_scaled.set_index(\"coin_id\")\n",
    "\n",
    "# Display sample data\n",
    "df_market_data_scaled.head()"
   ]
  },
  {
   "cell_type": "markdown",
   "metadata": {},
   "source": [
    "---"
   ]
  },
  {
   "cell_type": "markdown",
   "metadata": {},
   "source": [
    "# Cluster Cryptocurrencies with K-means\n",
    "\n",
    "In this section, you will use the K-Means algorithm with a given value for `k` to cluster the cryptocurrencies according to the price changes of cryptocurrencies provided.\n",
    "\n",
    "1. Initialize the K-Means model with four clusters (`n_clusters=4`). \n",
    "\n",
    "2. Fit the K-Means model using the scaled data.\n",
    "\n",
    "3. Predict the clusters to group the cryptocurrencies using the scaled data. View the resulting array of cluster values.\n",
    "\n",
    "4. Add a new column to the DataFrame with the scaled data with the predicted clusters.\n",
    "\n",
    "5. Create a scatter plot using hvPlot by setting `x=\"price_change_percentage_14d\"` and `y=\"price_change_percentage_1y\"`. Color the graph points with the labels found using K-Means and add the crypto name in the `hover_cols` parameter to identify the cryptocurrency represented by each data point."
   ]
  },
  {
   "cell_type": "code",
   "execution_count": 66,
   "metadata": {},
   "outputs": [],
   "source": [
    "# Initialize the K-Means model with four clusters\n",
    "# YOUR CODE HERE!\n",
    "kmodel = KMeans(n_clusters=4, random_state=1)"
   ]
  },
  {
   "cell_type": "code",
   "execution_count": 67,
   "metadata": {},
   "outputs": [
    {
     "data": {
      "text/plain": [
       "KMeans(n_clusters=4, random_state=1)"
      ]
     },
     "execution_count": 67,
     "metadata": {},
     "output_type": "execute_result"
    }
   ],
   "source": [
    "# Fit the K-Means model using the scaled data\n",
    "# YOUR CODE HERE!\n",
    "kmodel.fit(df_market_data_scaled)"
   ]
  },
  {
   "cell_type": "code",
   "execution_count": 68,
   "metadata": {},
   "outputs": [
    {
     "name": "stdout",
     "output_type": "stream",
     "text": [
      "[3 3 1 1 3 3 3 3 3 1 1 1 1 3 1 3 1 1 3 1 1 3 1 1 1 1 1 1 3 1 1 1 0 3 1 1 2\n",
      " 1 1 1 1]\n"
     ]
    }
   ],
   "source": [
    "# Predict the clusters to group the cryptocurrencies using the scaled data\n",
    "crypto_clusters_k4 = kmodel.predict(df_market_data_scaled)\n",
    "\n",
    "# View the resulting array of cluster values.\n",
    "print(crypto_clusters_k4)"
   ]
  },
  {
   "cell_type": "code",
   "execution_count": 69,
   "metadata": {},
   "outputs": [
    {
     "data": {
      "text/html": [
       "<div>\n",
       "<style scoped>\n",
       "    .dataframe tbody tr th:only-of-type {\n",
       "        vertical-align: middle;\n",
       "    }\n",
       "\n",
       "    .dataframe tbody tr th {\n",
       "        vertical-align: top;\n",
       "    }\n",
       "\n",
       "    .dataframe thead th {\n",
       "        text-align: right;\n",
       "    }\n",
       "</style>\n",
       "<table border=\"1\" class=\"dataframe\">\n",
       "  <thead>\n",
       "    <tr style=\"text-align: right;\">\n",
       "      <th></th>\n",
       "      <th>price_change_percentage_24h</th>\n",
       "      <th>price_change_percentage_7d</th>\n",
       "      <th>price_change_percentage_14d</th>\n",
       "      <th>price_change_percentage_30d</th>\n",
       "      <th>price_change_percentage_60d</th>\n",
       "      <th>price_change_percentage_200d</th>\n",
       "      <th>price_change_percentage_1y</th>\n",
       "      <th>crypto_cluster_k4</th>\n",
       "    </tr>\n",
       "    <tr>\n",
       "      <th>coin_id</th>\n",
       "      <th></th>\n",
       "      <th></th>\n",
       "      <th></th>\n",
       "      <th></th>\n",
       "      <th></th>\n",
       "      <th></th>\n",
       "      <th></th>\n",
       "      <th></th>\n",
       "    </tr>\n",
       "  </thead>\n",
       "  <tbody>\n",
       "    <tr>\n",
       "      <th>bitcoin</th>\n",
       "      <td>0.508529</td>\n",
       "      <td>0.493193</td>\n",
       "      <td>0.772200</td>\n",
       "      <td>0.235460</td>\n",
       "      <td>-0.067495</td>\n",
       "      <td>-0.355953</td>\n",
       "      <td>-0.251637</td>\n",
       "      <td>3</td>\n",
       "    </tr>\n",
       "    <tr>\n",
       "      <th>ethereum</th>\n",
       "      <td>0.185446</td>\n",
       "      <td>0.934445</td>\n",
       "      <td>0.558692</td>\n",
       "      <td>-0.054341</td>\n",
       "      <td>-0.273483</td>\n",
       "      <td>-0.115759</td>\n",
       "      <td>-0.199352</td>\n",
       "      <td>3</td>\n",
       "    </tr>\n",
       "    <tr>\n",
       "      <th>tether</th>\n",
       "      <td>0.021774</td>\n",
       "      <td>-0.706337</td>\n",
       "      <td>-0.021680</td>\n",
       "      <td>-0.061030</td>\n",
       "      <td>0.008005</td>\n",
       "      <td>-0.550247</td>\n",
       "      <td>-0.282061</td>\n",
       "      <td>1</td>\n",
       "    </tr>\n",
       "    <tr>\n",
       "      <th>ripple</th>\n",
       "      <td>-0.040764</td>\n",
       "      <td>-0.810928</td>\n",
       "      <td>0.249458</td>\n",
       "      <td>-0.050388</td>\n",
       "      <td>-0.373164</td>\n",
       "      <td>-0.458259</td>\n",
       "      <td>-0.295546</td>\n",
       "      <td>1</td>\n",
       "    </tr>\n",
       "    <tr>\n",
       "      <th>bitcoin-cash</th>\n",
       "      <td>1.193036</td>\n",
       "      <td>2.000959</td>\n",
       "      <td>1.760610</td>\n",
       "      <td>0.545842</td>\n",
       "      <td>-0.291203</td>\n",
       "      <td>-0.499848</td>\n",
       "      <td>-0.270317</td>\n",
       "      <td>3</td>\n",
       "    </tr>\n",
       "  </tbody>\n",
       "</table>\n",
       "</div>"
      ],
      "text/plain": [
       "              price_change_percentage_24h  price_change_percentage_7d  \\\n",
       "coin_id                                                                 \n",
       "bitcoin                          0.508529                    0.493193   \n",
       "ethereum                         0.185446                    0.934445   \n",
       "tether                           0.021774                   -0.706337   \n",
       "ripple                          -0.040764                   -0.810928   \n",
       "bitcoin-cash                     1.193036                    2.000959   \n",
       "\n",
       "              price_change_percentage_14d  price_change_percentage_30d  \\\n",
       "coin_id                                                                  \n",
       "bitcoin                          0.772200                     0.235460   \n",
       "ethereum                         0.558692                    -0.054341   \n",
       "tether                          -0.021680                    -0.061030   \n",
       "ripple                           0.249458                    -0.050388   \n",
       "bitcoin-cash                     1.760610                     0.545842   \n",
       "\n",
       "              price_change_percentage_60d  price_change_percentage_200d  \\\n",
       "coin_id                                                                   \n",
       "bitcoin                         -0.067495                     -0.355953   \n",
       "ethereum                        -0.273483                     -0.115759   \n",
       "tether                           0.008005                     -0.550247   \n",
       "ripple                          -0.373164                     -0.458259   \n",
       "bitcoin-cash                    -0.291203                     -0.499848   \n",
       "\n",
       "              price_change_percentage_1y  crypto_cluster_k4  \n",
       "coin_id                                                      \n",
       "bitcoin                        -0.251637                  3  \n",
       "ethereum                       -0.199352                  3  \n",
       "tether                         -0.282061                  1  \n",
       "ripple                         -0.295546                  1  \n",
       "bitcoin-cash                   -0.270317                  3  "
      ]
     },
     "execution_count": 69,
     "metadata": {},
     "output_type": "execute_result"
    }
   ],
   "source": [
    "# Note: The code for this step is provided for you.\n",
    "\n",
    "# Add a new column to the DataFrame with the predicted clusters with k=4\n",
    "df_market_data_scaled[\"crypto_cluster_k4\"] = crypto_clusters_k4\n",
    "\n",
    "# Display sample data\n",
    "df_market_data_scaled.head()"
   ]
  },
  {
   "cell_type": "code",
   "execution_count": 70,
   "metadata": {},
   "outputs": [
    {
     "data": {},
     "metadata": {},
     "output_type": "display_data"
    },
    {
     "data": {
      "application/vnd.holoviews_exec.v0+json": "",
      "text/html": [
       "<div id='5985'>\n",
       "\n",
       "\n",
       "\n",
       "\n",
       "\n",
       "  <div class=\"bk-root\" id=\"075cefd9-41b6-4e02-b244-afd227ff2ee8\" data-root-id=\"5985\"></div>\n",
       "</div>\n",
       "<script type=\"application/javascript\">(function(root) {\n",
       "  function embed_document(root) {\n",
       "    var docs_json = {\"71b90d6e-ad85-4ce7-8439-e5511a8b428f\":{\"roots\":{\"references\":[{\"attributes\":{\"overlay\":{\"id\":\"6015\"}},\"id\":\"6013\",\"type\":\"BoxZoomTool\"},{\"attributes\":{},\"id\":\"6024\",\"type\":\"BasicTickFormatter\"},{\"attributes\":{\"data\":{\"coin_id\":[\"celsius-degree-token\"],\"crypto_cluster_k4\":[2],\"price_change_percentage_14d\":{\"__ndarray__\":\"FlU2faVBB0A=\",\"dtype\":\"float64\",\"order\":\"little\",\"shape\":[1]},\"price_change_percentage_1y\":{\"__ndarray__\":\"OvTrj2iT9T8=\",\"dtype\":\"float64\",\"order\":\"little\",\"shape\":[1]}},\"selected\":{\"id\":\"6065\"},\"selection_policy\":{\"id\":\"6082\"}},\"id\":\"6064\",\"type\":\"ColumnDataSource\"},{\"attributes\":{\"fill_alpha\":{\"value\":0.2},\"fill_color\":{\"value\":\"#d62628\"},\"line_alpha\":{\"value\":0.2},\"line_color\":{\"value\":\"#d62628\"},\"marker\":{\"value\":\"inverted_triangle\"},\"size\":{\"units\":\"screen\",\"value\":5.477225575051661},\"x\":{\"field\":\"price_change_percentage_14d\"},\"y\":{\"field\":\"price_change_percentage_1y\"}},\"id\":\"6090\",\"type\":\"Scatter\"},{\"attributes\":{},\"id\":\"6086\",\"type\":\"Selection\"},{\"attributes\":{\"click_policy\":\"mute\",\"items\":[{\"id\":\"6044\"},{\"id\":\"6063\"},{\"id\":\"6084\"},{\"id\":\"6107\"}],\"location\":[0,0],\"title\":\"crypto_cluster_k4\"},\"id\":\"6043\",\"type\":\"Legend\"},{\"attributes\":{\"axis\":{\"id\":\"6002\"},\"grid_line_color\":null,\"ticker\":null},\"id\":\"6005\",\"type\":\"Grid\"},{\"attributes\":{\"data\":{\"coin_id\":[\"tether\",\"ripple\",\"bitcoin-cash-sv\",\"crypto-com-chain\",\"usd-coin\",\"eos\",\"tron\",\"okb\",\"stellar\",\"cdai\",\"neo\",\"leo-token\",\"huobi-token\",\"nem\",\"binance-usd\",\"iota\",\"vechain\",\"theta-token\",\"dash\",\"ethereum-classic\",\"havven\",\"omisego\",\"ontology\",\"ftx-token\",\"true-usd\",\"digibyte\"],\"crypto_cluster_k4\":[1,1,1,1,1,1,1,1,1,1,1,1,1,1,1,1,1,1,1,1,1,1,1,1,1,1],\"price_change_percentage_14d\":{\"__ndarray__\":\"HnsBaGQzlr/N3F8oPe7PP3NjPGDhv8+/S7Jsj1Hf8L+Ea3M8HbKXv2o3cmQwcr0/gfuS3PnVwj9EVmWxpyjkvyGfjNZ4ncO/W90W1njBXb8A0bj4GGfzv1aDDY2/5uu/0N4oQb2moD9Mn4eDZwzTPyS7/nSKYI+/K8wLTSmn3r+8kqAso7wBwNk2MV03JOq/M7ls7Q6ApD91cedROXjGvyvzUbHOD/q/O1/1hYrq+b/cP0enpcj0v+FC29fyQqi/ijCfoLDSgr+uLyxJrgbtvw==\",\"dtype\":\"float64\",\"order\":\"little\",\"shape\":[26]},\"price_change_percentage_1y\":{\"__ndarray__\":\"0tbtgUcN0r9onRVeOurSv8DzHRIoX8q/ZYfU+i+zob9Zt1uMFxDSv9d+3k0Q99K/EJWswyz0zb8aTqSC/lzFv7zx0EUAVtG/r2LTfF0R0r/sbi65b3jGv4MlKg5a9tC/jZL+tujG0L8+5EUem4W+v7L3RgiwC9K/QBFeFIRC0r8zoGQ8RRO+vx0crWPUXdI/EKFv4Dku0r8VsZZ513nRv3r6/cSEMdE/58IWQ8Jplr9Y0yK6wrXSvxKiHMC8nsK/P3pCziMI0r/iEUnTKPXAvw==\",\"dtype\":\"float64\",\"order\":\"little\",\"shape\":[26]}},\"selected\":{\"id\":\"6046\"},\"selection_policy\":{\"id\":\"6061\"}},\"id\":\"6045\",\"type\":\"ColumnDataSource\"},{\"attributes\":{\"source\":{\"id\":\"6085\"}},\"id\":\"6092\",\"type\":\"CDSView\"},{\"attributes\":{},\"id\":\"6105\",\"type\":\"UnionRenderers\"},{\"attributes\":{\"text\":\"\",\"text_color\":{\"value\":\"black\"},\"text_font_size\":{\"value\":\"12pt\"}},\"id\":\"5994\",\"type\":\"Title\"},{\"attributes\":{},\"id\":\"6028\",\"type\":\"Selection\"},{\"attributes\":{\"children\":[{\"id\":\"5986\"},{\"id\":\"5993\"},{\"id\":\"6234\"}],\"margin\":[0,0,0,0],\"name\":\"Row13691\",\"tags\":[\"embedded\"]},\"id\":\"5985\",\"type\":\"Row\"},{\"attributes\":{\"callback\":null,\"renderers\":[{\"id\":\"6033\"},{\"id\":\"6051\"},{\"id\":\"6070\"},{\"id\":\"6091\"}],\"tags\":[\"hv_created\"],\"tooltips\":[[\"crypto_cluster_k4\",\"@{crypto_cluster_k4}\"],[\"price_change_percentage_14d\",\"@{price_change_percentage_14d}\"],[\"price_change_percentage_1y\",\"@{price_change_percentage_1y}\"],[\"coin_id\",\"@{coin_id}\"]]},\"id\":\"5989\",\"type\":\"HoverTool\"},{\"attributes\":{\"label\":{\"value\":\"1\"},\"renderers\":[{\"id\":\"6051\"}]},\"id\":\"6063\",\"type\":\"LegendItem\"},{\"attributes\":{},\"id\":\"6003\",\"type\":\"BasicTicker\"},{\"attributes\":{\"end\":3.1266608709070227,\"reset_end\":3.1266608709070227,\"reset_start\":-2.4367150495547434,\"start\":-2.4367150495547434,\"tags\":[[[\"price_change_percentage_14d\",\"price_change_percentage_14d\",null]]]},\"id\":\"5987\",\"type\":\"Range1d\"},{\"attributes\":{\"data_source\":{\"id\":\"6085\"},\"glyph\":{\"id\":\"6088\"},\"hover_glyph\":null,\"muted_glyph\":{\"id\":\"6090\"},\"nonselection_glyph\":{\"id\":\"6089\"},\"selection_glyph\":null,\"view\":{\"id\":\"6092\"}},\"id\":\"6091\",\"type\":\"GlyphRenderer\"},{\"attributes\":{},\"id\":\"6000\",\"type\":\"LinearScale\"},{\"attributes\":{\"axis\":{\"id\":\"6006\"},\"dimension\":1,\"grid_line_color\":null,\"ticker\":null},\"id\":\"6009\",\"type\":\"Grid\"},{\"attributes\":{\"source\":{\"id\":\"6045\"}},\"id\":\"6052\",\"type\":\"CDSView\"},{\"attributes\":{\"data\":{\"coin_id\":[\"bitcoin\",\"ethereum\",\"bitcoin-cash\",\"binancecoin\",\"chainlink\",\"cardano\",\"litecoin\",\"monero\",\"tezos\",\"cosmos\",\"wrapped-bitcoin\",\"zcash\",\"maker\"],\"crypto_cluster_k4\":[3,3,3,3,3,3,3,3,3,3,3,3,3],\"price_change_percentage_14d\":{\"__ndarray__\":\"nuLdrt216D+RSHVMzuDhP7sQi2Z1K/w/Mmmtxlqb6T8Qp+OGWKDxPxbMkJqqw+Q/7/2Jpv546z+cw3/YDp8BQLkNxiFGg9A/6WDgXhWY5D8zjSqEo6PoPw0FcdFXruU/AkzpMNDmyb8=\",\"dtype\":\"float64\",\"order\":\"little\",\"shape\":[13]},\"price_change_percentage_1y\":{\"__ndarray__\":\"ZIOvlNEa0L8/RW61XoTJvzHqfHffTNG/VVzrnEDezL8xTPVHJbmSv24aeg4U5cO/QqlS3eG10r+H6xnpXXXFv2O+GP+0kMW/vQghwWCLy7/FkSn9mBrQvxtcXcmAf8u/IdIwj+5/0b8=\",\"dtype\":\"float64\",\"order\":\"little\",\"shape\":[13]}},\"selected\":{\"id\":\"6086\"},\"selection_policy\":{\"id\":\"6105\"}},\"id\":\"6085\",\"type\":\"ColumnDataSource\"},{\"attributes\":{\"label\":{\"value\":\"3\"},\"renderers\":[{\"id\":\"6091\"}]},\"id\":\"6107\",\"type\":\"LegendItem\"},{\"attributes\":{},\"id\":\"6061\",\"type\":\"UnionRenderers\"},{\"attributes\":{},\"id\":\"6026\",\"type\":\"BasicTickFormatter\"},{\"attributes\":{\"fill_alpha\":{\"value\":0.1},\"fill_color\":{\"value\":\"#1f77b3\"},\"line_alpha\":{\"value\":0.1},\"line_color\":{\"value\":\"#1f77b3\"},\"marker\":{\"value\":\"hex\"},\"size\":{\"units\":\"screen\",\"value\":5.477225575051661},\"x\":{\"field\":\"price_change_percentage_14d\"},\"y\":{\"field\":\"price_change_percentage_1y\"}},\"id\":\"6031\",\"type\":\"Scatter\"},{\"attributes\":{\"margin\":[5,5,5,5],\"name\":\"HSpacer13695\",\"sizing_mode\":\"stretch_width\"},\"id\":\"5986\",\"type\":\"Spacer\"},{\"attributes\":{\"fill_alpha\":{\"value\":0.1},\"fill_color\":{\"value\":\"#2ba02b\"},\"line_alpha\":{\"value\":0.1},\"line_color\":{\"value\":\"#2ba02b\"},\"marker\":{\"value\":\"cross\"},\"size\":{\"units\":\"screen\",\"value\":5.477225575051661},\"x\":{\"field\":\"price_change_percentage_14d\"},\"y\":{\"field\":\"price_change_percentage_1y\"}},\"id\":\"6068\",\"type\":\"Scatter\"},{\"attributes\":{\"fill_color\":{\"value\":\"#1f77b3\"},\"line_color\":{\"value\":\"#1f77b3\"},\"marker\":{\"value\":\"hex\"},\"size\":{\"units\":\"screen\",\"value\":5.477225575051661},\"x\":{\"field\":\"price_change_percentage_14d\"},\"y\":{\"field\":\"price_change_percentage_1y\"}},\"id\":\"6030\",\"type\":\"Scatter\"},{\"attributes\":{\"fill_alpha\":{\"value\":0.1},\"fill_color\":{\"value\":\"#ff7e0e\"},\"line_alpha\":{\"value\":0.1},\"line_color\":{\"value\":\"#ff7e0e\"},\"marker\":{\"value\":\"square\"},\"size\":{\"units\":\"screen\",\"value\":5.477225575051661},\"x\":{\"field\":\"price_change_percentage_14d\"},\"y\":{\"field\":\"price_change_percentage_1y\"}},\"id\":\"6049\",\"type\":\"Scatter\"},{\"attributes\":{\"source\":{\"id\":\"6064\"}},\"id\":\"6071\",\"type\":\"CDSView\"},{\"attributes\":{\"end\":6.72712095745086,\"reset_end\":6.72712095745086,\"reset_start\":-0.9348250733816648,\"start\":-0.9348250733816648,\"tags\":[[[\"price_change_percentage_1y\",\"price_change_percentage_1y\",null]]]},\"id\":\"5988\",\"type\":\"Range1d\"},{\"attributes\":{\"active_drag\":\"auto\",\"active_inspect\":\"auto\",\"active_multi\":null,\"active_scroll\":\"auto\",\"active_tap\":\"auto\",\"tools\":[{\"id\":\"5989\"},{\"id\":\"6010\"},{\"id\":\"6011\"},{\"id\":\"6012\"},{\"id\":\"6013\"},{\"id\":\"6014\"}]},\"id\":\"6016\",\"type\":\"Toolbar\"},{\"attributes\":{},\"id\":\"6007\",\"type\":\"BasicTicker\"},{\"attributes\":{\"fill_alpha\":{\"value\":0.2},\"fill_color\":{\"value\":\"#2ba02b\"},\"line_alpha\":{\"value\":0.2},\"line_color\":{\"value\":\"#2ba02b\"},\"marker\":{\"value\":\"cross\"},\"size\":{\"units\":\"screen\",\"value\":5.477225575051661},\"x\":{\"field\":\"price_change_percentage_14d\"},\"y\":{\"field\":\"price_change_percentage_1y\"}},\"id\":\"6069\",\"type\":\"Scatter\"},{\"attributes\":{\"axis_label\":\"price_change_percentage_1y\",\"bounds\":\"auto\",\"formatter\":{\"id\":\"6026\"},\"major_label_orientation\":\"horizontal\",\"ticker\":{\"id\":\"6007\"}},\"id\":\"6006\",\"type\":\"LinearAxis\"},{\"attributes\":{\"fill_color\":{\"value\":\"#2ba02b\"},\"line_color\":{\"value\":\"#2ba02b\"},\"marker\":{\"value\":\"cross\"},\"size\":{\"units\":\"screen\",\"value\":5.477225575051661},\"x\":{\"field\":\"price_change_percentage_14d\"},\"y\":{\"field\":\"price_change_percentage_1y\"}},\"id\":\"6067\",\"type\":\"Scatter\"},{\"attributes\":{\"fill_color\":{\"value\":\"#ff7e0e\"},\"line_color\":{\"value\":\"#ff7e0e\"},\"marker\":{\"value\":\"square\"},\"size\":{\"units\":\"screen\",\"value\":5.477225575051661},\"x\":{\"field\":\"price_change_percentage_14d\"},\"y\":{\"field\":\"price_change_percentage_1y\"}},\"id\":\"6048\",\"type\":\"Scatter\"},{\"attributes\":{\"margin\":[5,5,5,5],\"name\":\"HSpacer13696\",\"sizing_mode\":\"stretch_width\"},\"id\":\"6234\",\"type\":\"Spacer\"},{\"attributes\":{\"bottom_units\":\"screen\",\"fill_alpha\":0.5,\"fill_color\":\"lightgrey\",\"left_units\":\"screen\",\"level\":\"overlay\",\"line_alpha\":1.0,\"line_color\":\"black\",\"line_dash\":[4,4],\"line_width\":2,\"right_units\":\"screen\",\"top_units\":\"screen\"},\"id\":\"6015\",\"type\":\"BoxAnnotation\"},{\"attributes\":{\"below\":[{\"id\":\"6002\"}],\"center\":[{\"id\":\"6005\"},{\"id\":\"6009\"}],\"left\":[{\"id\":\"6006\"}],\"margin\":[5,5,5,5],\"min_border_bottom\":10,\"min_border_left\":10,\"min_border_right\":10,\"min_border_top\":10,\"plot_height\":300,\"plot_width\":700,\"renderers\":[{\"id\":\"6033\"},{\"id\":\"6051\"},{\"id\":\"6070\"},{\"id\":\"6091\"}],\"right\":[{\"id\":\"6043\"}],\"sizing_mode\":\"fixed\",\"title\":{\"id\":\"5994\"},\"toolbar\":{\"id\":\"6016\"},\"x_range\":{\"id\":\"5987\"},\"x_scale\":{\"id\":\"5998\"},\"y_range\":{\"id\":\"5988\"},\"y_scale\":{\"id\":\"6000\"}},\"id\":\"5993\",\"subtype\":\"Figure\",\"type\":\"Plot\"},{\"attributes\":{\"label\":{\"value\":\"2\"},\"renderers\":[{\"id\":\"6070\"}]},\"id\":\"6084\",\"type\":\"LegendItem\"},{\"attributes\":{},\"id\":\"6065\",\"type\":\"Selection\"},{\"attributes\":{},\"id\":\"5998\",\"type\":\"LinearScale\"},{\"attributes\":{},\"id\":\"6014\",\"type\":\"ResetTool\"},{\"attributes\":{\"axis_label\":\"price_change_percentage_14d\",\"bounds\":\"auto\",\"formatter\":{\"id\":\"6024\"},\"major_label_orientation\":\"horizontal\",\"ticker\":{\"id\":\"6003\"}},\"id\":\"6002\",\"type\":\"LinearAxis\"},{\"attributes\":{\"fill_alpha\":{\"value\":0.1},\"fill_color\":{\"value\":\"#d62628\"},\"line_alpha\":{\"value\":0.1},\"line_color\":{\"value\":\"#d62628\"},\"marker\":{\"value\":\"inverted_triangle\"},\"size\":{\"units\":\"screen\",\"value\":5.477225575051661},\"x\":{\"field\":\"price_change_percentage_14d\"},\"y\":{\"field\":\"price_change_percentage_1y\"}},\"id\":\"6089\",\"type\":\"Scatter\"},{\"attributes\":{\"label\":{\"value\":\"0\"},\"renderers\":[{\"id\":\"6033\"}]},\"id\":\"6044\",\"type\":\"LegendItem\"},{\"attributes\":{\"source\":{\"id\":\"6027\"}},\"id\":\"6034\",\"type\":\"CDSView\"},{\"attributes\":{},\"id\":\"6046\",\"type\":\"Selection\"},{\"attributes\":{},\"id\":\"6082\",\"type\":\"UnionRenderers\"},{\"attributes\":{\"data\":{\"coin_id\":[\"ethlend\"],\"crypto_cluster_k4\":[0],\"price_change_percentage_14d\":{\"__ndarray__\":\"EjPPN7FP878=\",\"dtype\":\"float64\",\"order\":\"little\",\"shape\":[1]},\"price_change_percentage_1y\":{\"__ndarray__\":\"gzyZocBaGEA=\",\"dtype\":\"float64\",\"order\":\"little\",\"shape\":[1]}},\"selected\":{\"id\":\"6028\"},\"selection_policy\":{\"id\":\"6041\"}},\"id\":\"6027\",\"type\":\"ColumnDataSource\"},{\"attributes\":{\"fill_alpha\":{\"value\":0.2},\"fill_color\":{\"value\":\"#ff7e0e\"},\"line_alpha\":{\"value\":0.2},\"line_color\":{\"value\":\"#ff7e0e\"},\"marker\":{\"value\":\"square\"},\"size\":{\"units\":\"screen\",\"value\":5.477225575051661},\"x\":{\"field\":\"price_change_percentage_14d\"},\"y\":{\"field\":\"price_change_percentage_1y\"}},\"id\":\"6050\",\"type\":\"Scatter\"},{\"attributes\":{},\"id\":\"6041\",\"type\":\"UnionRenderers\"},{\"attributes\":{\"data_source\":{\"id\":\"6064\"},\"glyph\":{\"id\":\"6067\"},\"hover_glyph\":null,\"muted_glyph\":{\"id\":\"6069\"},\"nonselection_glyph\":{\"id\":\"6068\"},\"selection_glyph\":null,\"view\":{\"id\":\"6071\"}},\"id\":\"6070\",\"type\":\"GlyphRenderer\"},{\"attributes\":{},\"id\":\"6010\",\"type\":\"SaveTool\"},{\"attributes\":{\"fill_color\":{\"value\":\"#d62628\"},\"line_color\":{\"value\":\"#d62628\"},\"marker\":{\"value\":\"inverted_triangle\"},\"size\":{\"units\":\"screen\",\"value\":5.477225575051661},\"x\":{\"field\":\"price_change_percentage_14d\"},\"y\":{\"field\":\"price_change_percentage_1y\"}},\"id\":\"6088\",\"type\":\"Scatter\"},{\"attributes\":{\"data_source\":{\"id\":\"6045\"},\"glyph\":{\"id\":\"6048\"},\"hover_glyph\":null,\"muted_glyph\":{\"id\":\"6050\"},\"nonselection_glyph\":{\"id\":\"6049\"},\"selection_glyph\":null,\"view\":{\"id\":\"6052\"}},\"id\":\"6051\",\"type\":\"GlyphRenderer\"},{\"attributes\":{},\"id\":\"6011\",\"type\":\"PanTool\"},{\"attributes\":{\"fill_alpha\":{\"value\":0.2},\"fill_color\":{\"value\":\"#1f77b3\"},\"line_alpha\":{\"value\":0.2},\"line_color\":{\"value\":\"#1f77b3\"},\"marker\":{\"value\":\"hex\"},\"size\":{\"units\":\"screen\",\"value\":5.477225575051661},\"x\":{\"field\":\"price_change_percentage_14d\"},\"y\":{\"field\":\"price_change_percentage_1y\"}},\"id\":\"6032\",\"type\":\"Scatter\"},{\"attributes\":{\"data_source\":{\"id\":\"6027\"},\"glyph\":{\"id\":\"6030\"},\"hover_glyph\":null,\"muted_glyph\":{\"id\":\"6032\"},\"nonselection_glyph\":{\"id\":\"6031\"},\"selection_glyph\":null,\"view\":{\"id\":\"6034\"}},\"id\":\"6033\",\"type\":\"GlyphRenderer\"},{\"attributes\":{},\"id\":\"6012\",\"type\":\"WheelZoomTool\"}],\"root_ids\":[\"5985\"]},\"title\":\"Bokeh Application\",\"version\":\"2.2.3\"}};\n",
       "    var render_items = [{\"docid\":\"71b90d6e-ad85-4ce7-8439-e5511a8b428f\",\"root_ids\":[\"5985\"],\"roots\":{\"5985\":\"075cefd9-41b6-4e02-b244-afd227ff2ee8\"}}];\n",
       "    root.Bokeh.embed.embed_items_notebook(docs_json, render_items);\n",
       "  }\n",
       "  if (root.Bokeh !== undefined && root.Bokeh.Panel !== undefined) {\n",
       "    embed_document(root);\n",
       "  } else {\n",
       "    var attempts = 0;\n",
       "    var timer = setInterval(function(root) {\n",
       "      if (root.Bokeh !== undefined && root.Bokeh.Panel !== undefined) {\n",
       "        clearInterval(timer);\n",
       "        embed_document(root);\n",
       "      } else if (document.readyState == \"complete\") {\n",
       "        attempts++;\n",
       "        if (attempts > 100) {\n",
       "          clearInterval(timer);\n",
       "          console.log(\"Bokeh: ERROR: Unable to run BokehJS code because BokehJS library is missing\");\n",
       "        }\n",
       "      }\n",
       "    }, 10, root)\n",
       "  }\n",
       "})(window);</script>"
      ],
      "text/plain": [
       ":NdOverlay   [crypto_cluster_k4]\n",
       "   :Scatter   [price_change_percentage_14d]   (price_change_percentage_1y,coin_id)"
      ]
     },
     "execution_count": 70,
     "metadata": {
      "application/vnd.holoviews_exec.v0+json": {
       "id": "5985"
      }
     },
     "output_type": "execute_result"
    }
   ],
   "source": [
    "# Create a scatter plot using hvPlot by setting \n",
    "# `x=\"price_change_percentage_14d\"` and `y=\"price_change_percentage_1y\"`.\n",
    "# Group the results by the clusters using `by=\"crypto_cluster_k4\".\n",
    "# Set the hover to the coin id using `hover_cols=[\"coin_id\"]`.\n",
    "\n",
    "df_market_data_scaled.hvplot.scatter(\n",
    "    x=\"price_change_percentage_14d\",\n",
    "    y=\"price_change_percentage_1y\",\n",
    "    by=\"crypto_cluster_k4\",\n",
    "    hover_cols=[\"coin_id\"],\n",
    "    marker=[\"hex\", \"square\", \"cross\", \"inverted_triangle\", \"triangle\"],\n",
    ")"
   ]
  },
  {
   "cell_type": "markdown",
   "metadata": {},
   "source": [
    "---"
   ]
  },
  {
   "cell_type": "markdown",
   "metadata": {},
   "source": [
    "# Find the Best Value for k\n",
    "\n",
    "In this section, you will use the elbow method to find the best value for k.\n",
    "\n",
    "1. Code the elbow method algorithm to find the best value for k. Use a range from 1 to 11. \n",
    "\n",
    "2. Plot a line chart with all the inertia values computed with the different values of k to visually identify the optimal value for k.\n",
    "\n",
    "3. Answer the following question: What is the best value for k?"
   ]
  },
  {
   "cell_type": "code",
   "execution_count": 71,
   "metadata": {},
   "outputs": [],
   "source": [
    "# Create a list with the number of k-values to try\n",
    "# Use a range from 1 to 11\n",
    "k = list(range(1, 11))"
   ]
  },
  {
   "cell_type": "code",
   "execution_count": 72,
   "metadata": {},
   "outputs": [],
   "source": [
    "# Create an empy list to store the inertia values\n",
    "inertia = []"
   ]
  },
  {
   "cell_type": "code",
   "execution_count": 73,
   "metadata": {},
   "outputs": [
    {
     "name": "stderr",
     "output_type": "stream",
     "text": [
      "C:\\Users\\JBarr\\anaconda3\\envs\\dev\\lib\\site-packages\\sklearn\\cluster\\_kmeans.py:882: UserWarning: KMeans is known to have a memory leak on Windows with MKL, when there are less chunks than available threads. You can avoid it by setting the environment variable OMP_NUM_THREADS=1.\n",
      "  f\"KMeans is known to have a memory leak on Windows \"\n"
     ]
    }
   ],
   "source": [
    "# Create a for loop to compute the inertia with each possible value of k\n",
    "# Inside the loop:\n",
    "# 1. Create a KMeans model using the loop counter for the n_clusters\n",
    "# 2. Fit the model to the data using `df_market_data_scaled`\n",
    "# 3. Append the model.inertia_ to the inirtia list\n",
    "# YOUR CODE HERE!\n",
    "for i in k:\n",
    "    k_model = KMeans(n_clusters=i, random_state=0)\n",
    "    k_model.fit(df_market_data_scaled)\n",
    "    inertia.append(k_model.inertia_)"
   ]
  },
  {
   "cell_type": "code",
   "execution_count": 74,
   "metadata": {},
   "outputs": [],
   "source": [
    "# Create a dictionary with the data to plot the Elbow curve\n",
    "elbow_data = {\n",
    "    \"k\": k,\n",
    "    \"inertia\": inertia\n",
    "}\n",
    "\n",
    "# Create a DataFrame with the data to plot the Elbow curve\n",
    "df_elbow = pd.DataFrame(elbow_data)"
   ]
  },
  {
   "cell_type": "code",
   "execution_count": 75,
   "metadata": {},
   "outputs": [
    {
     "data": {},
     "metadata": {},
     "output_type": "display_data"
    },
    {
     "data": {
      "application/vnd.holoviews_exec.v0+json": "",
      "text/html": [
       "<div id='6306'>\n",
       "\n",
       "\n",
       "\n",
       "\n",
       "\n",
       "  <div class=\"bk-root\" id=\"5500cb2e-2e64-49c5-918d-5f999034191d\" data-root-id=\"6306\"></div>\n",
       "</div>\n",
       "<script type=\"application/javascript\">(function(root) {\n",
       "  function embed_document(root) {\n",
       "    var docs_json = {\"662fcc92-8c52-4323-a8ab-6afdd2efd4fb\":{\"roots\":{\"references\":[{\"attributes\":{\"overlay\":{\"id\":\"6333\"}},\"id\":\"6331\",\"type\":\"BoxZoomTool\"},{\"attributes\":{\"margin\":[5,5,5,5],\"name\":\"HSpacer14413\",\"sizing_mode\":\"stretch_width\"},\"id\":\"6307\",\"type\":\"Spacer\"},{\"attributes\":{},\"id\":\"6355\",\"type\":\"BasicTickFormatter\"},{\"attributes\":{},\"id\":\"6318\",\"type\":\"LinearScale\"},{\"attributes\":{\"axis_label\":\"k\",\"bounds\":\"auto\",\"formatter\":{\"id\":\"6351\"},\"major_label_orientation\":\"horizontal\",\"ticker\":{\"id\":\"6349\"}},\"id\":\"6320\",\"type\":\"LinearAxis\"},{\"attributes\":{\"axis_label\":\"inertia\",\"bounds\":\"auto\",\"formatter\":{\"id\":\"6355\"},\"major_label_orientation\":\"horizontal\",\"ticker\":{\"id\":\"6325\"}},\"id\":\"6324\",\"type\":\"LinearAxis\"},{\"attributes\":{\"end\":354.10523723002177,\"reset_end\":354.10523723002177,\"reset_start\":-1.0112680668242646,\"start\":-1.0112680668242646,\"tags\":[[[\"inertia\",\"inertia\",null]]]},\"id\":\"6309\",\"type\":\"Range1d\"},{\"attributes\":{\"axis\":{\"id\":\"6320\"},\"grid_line_color\":null,\"ticker\":null},\"id\":\"6323\",\"type\":\"Grid\"},{\"attributes\":{\"callback\":null,\"renderers\":[{\"id\":\"6347\"}],\"tags\":[\"hv_created\"],\"tooltips\":[[\"k\",\"@{k}\"],[\"inertia\",\"@{inertia}\"]]},\"id\":\"6310\",\"type\":\"HoverTool\"},{\"attributes\":{},\"id\":\"6325\",\"type\":\"BasicTicker\"},{\"attributes\":{\"source\":{\"id\":\"6341\"}},\"id\":\"6348\",\"type\":\"CDSView\"},{\"attributes\":{\"axis\":{\"id\":\"6324\"},\"dimension\":1,\"grid_line_color\":null,\"ticker\":null},\"id\":\"6327\",\"type\":\"Grid\"},{\"attributes\":{\"end\":10.0,\"reset_end\":10.0,\"reset_start\":1.0,\"start\":1.0,\"tags\":[[[\"k\",\"k\",null]]]},\"id\":\"6308\",\"type\":\"Range1d\"},{\"attributes\":{\"margin\":[5,5,5,5],\"name\":\"HSpacer14414\",\"sizing_mode\":\"stretch_width\"},\"id\":\"6370\",\"type\":\"Spacer\"},{\"attributes\":{\"active_drag\":\"auto\",\"active_inspect\":\"auto\",\"active_multi\":null,\"active_scroll\":\"auto\",\"active_tap\":\"auto\",\"tools\":[{\"id\":\"6310\"},{\"id\":\"6328\"},{\"id\":\"6329\"},{\"id\":\"6330\"},{\"id\":\"6331\"},{\"id\":\"6332\"}]},\"id\":\"6334\",\"type\":\"Toolbar\"},{\"attributes\":{\"line_alpha\":0.2,\"line_color\":\"#1f77b3\",\"line_width\":2,\"x\":{\"field\":\"k\"},\"y\":{\"field\":\"inertia\"}},\"id\":\"6346\",\"type\":\"Line\"},{\"attributes\":{\"bottom_units\":\"screen\",\"fill_alpha\":0.5,\"fill_color\":\"lightgrey\",\"left_units\":\"screen\",\"level\":\"overlay\",\"line_alpha\":1.0,\"line_color\":\"black\",\"line_dash\":[4,4],\"line_width\":2,\"right_units\":\"screen\",\"top_units\":\"screen\"},\"id\":\"6333\",\"type\":\"BoxAnnotation\"},{\"attributes\":{\"below\":[{\"id\":\"6320\"}],\"center\":[{\"id\":\"6323\"},{\"id\":\"6327\"}],\"left\":[{\"id\":\"6324\"}],\"margin\":[5,5,5,5],\"min_border_bottom\":10,\"min_border_left\":10,\"min_border_right\":10,\"min_border_top\":10,\"plot_height\":300,\"plot_width\":700,\"renderers\":[{\"id\":\"6347\"}],\"sizing_mode\":\"fixed\",\"title\":{\"id\":\"6312\"},\"toolbar\":{\"id\":\"6334\"},\"x_range\":{\"id\":\"6308\"},\"x_scale\":{\"id\":\"6316\"},\"y_range\":{\"id\":\"6309\"},\"y_scale\":{\"id\":\"6318\"}},\"id\":\"6311\",\"subtype\":\"Figure\",\"type\":\"Plot\"},{\"attributes\":{},\"id\":\"6361\",\"type\":\"UnionRenderers\"},{\"attributes\":{\"ticks\":[1,2,3,4,5,6,7,8,9,10]},\"id\":\"6349\",\"type\":\"FixedTicker\"},{\"attributes\":{\"line_color\":\"#1f77b3\",\"line_width\":2,\"x\":{\"field\":\"k\"},\"y\":{\"field\":\"inertia\"}},\"id\":\"6344\",\"type\":\"Line\"},{\"attributes\":{\"line_alpha\":0.1,\"line_color\":\"#1f77b3\",\"line_width\":2,\"x\":{\"field\":\"k\"},\"y\":{\"field\":\"inertia\"}},\"id\":\"6345\",\"type\":\"Line\"},{\"attributes\":{\"text\":\"Elbow Curve\",\"text_color\":{\"value\":\"black\"},\"text_font_size\":{\"value\":\"12pt\"}},\"id\":\"6312\",\"type\":\"Title\"},{\"attributes\":{},\"id\":\"6351\",\"type\":\"BasicTickFormatter\"},{\"attributes\":{\"data_source\":{\"id\":\"6341\"},\"glyph\":{\"id\":\"6344\"},\"hover_glyph\":null,\"muted_glyph\":{\"id\":\"6346\"},\"nonselection_glyph\":{\"id\":\"6345\"},\"selection_glyph\":null,\"view\":{\"id\":\"6348\"}},\"id\":\"6347\",\"type\":\"GlyphRenderer\"},{\"attributes\":{},\"id\":\"6342\",\"type\":\"Selection\"},{\"attributes\":{\"data\":{\"inertia\":{\"__ndarray__\":\"OR+D8zFIdEDer+Hb+wBtQI4A7TZ5hWJAGe6ulG/BU0A+OaIPxWZQQNRMB5kLa0pAxZ/AthE0RkCSf1mQz5tCQC55pqAUpkBAedDAJO+UPEA=\",\"dtype\":\"float64\",\"order\":\"little\",\"shape\":[10]},\"k\":[1,2,3,4,5,6,7,8,9,10]},\"selected\":{\"id\":\"6342\"},\"selection_policy\":{\"id\":\"6361\"}},\"id\":\"6341\",\"type\":\"ColumnDataSource\"},{\"attributes\":{},\"id\":\"6328\",\"type\":\"SaveTool\"},{\"attributes\":{\"children\":[{\"id\":\"6307\"},{\"id\":\"6311\"},{\"id\":\"6370\"}],\"margin\":[0,0,0,0],\"name\":\"Row14409\",\"tags\":[\"embedded\"]},\"id\":\"6306\",\"type\":\"Row\"},{\"attributes\":{},\"id\":\"6329\",\"type\":\"PanTool\"},{\"attributes\":{},\"id\":\"6332\",\"type\":\"ResetTool\"},{\"attributes\":{},\"id\":\"6330\",\"type\":\"WheelZoomTool\"},{\"attributes\":{},\"id\":\"6316\",\"type\":\"LinearScale\"}],\"root_ids\":[\"6306\"]},\"title\":\"Bokeh Application\",\"version\":\"2.2.3\"}};\n",
       "    var render_items = [{\"docid\":\"662fcc92-8c52-4323-a8ab-6afdd2efd4fb\",\"root_ids\":[\"6306\"],\"roots\":{\"6306\":\"5500cb2e-2e64-49c5-918d-5f999034191d\"}}];\n",
       "    root.Bokeh.embed.embed_items_notebook(docs_json, render_items);\n",
       "  }\n",
       "  if (root.Bokeh !== undefined && root.Bokeh.Panel !== undefined) {\n",
       "    embed_document(root);\n",
       "  } else {\n",
       "    var attempts = 0;\n",
       "    var timer = setInterval(function(root) {\n",
       "      if (root.Bokeh !== undefined && root.Bokeh.Panel !== undefined) {\n",
       "        clearInterval(timer);\n",
       "        embed_document(root);\n",
       "      } else if (document.readyState == \"complete\") {\n",
       "        attempts++;\n",
       "        if (attempts > 100) {\n",
       "          clearInterval(timer);\n",
       "          console.log(\"Bokeh: ERROR: Unable to run BokehJS code because BokehJS library is missing\");\n",
       "        }\n",
       "      }\n",
       "    }, 10, root)\n",
       "  }\n",
       "})(window);</script>"
      ],
      "text/plain": [
       ":Curve   [k]   (inertia)"
      ]
     },
     "execution_count": 75,
     "metadata": {
      "application/vnd.holoviews_exec.v0+json": {
       "id": "6306"
      }
     },
     "output_type": "execute_result"
    }
   ],
   "source": [
    "# Plot a line chart with all the inertia values computed with \n",
    "# the different values of k to visually identify the optimal value for k.\n",
    "# YOUR CODE HERE!\n",
    "df_elbow.hvplot.line(\n",
    "       x=\"k\", \n",
    "    y=\"inertia\", \n",
    "    title=\"Elbow Curve\", \n",
    "    xticks=k\n",
    ")"
   ]
  },
  {
   "cell_type": "markdown",
   "metadata": {},
   "source": [
    "#### 3. Answer the following question: What is the best value for k?\n",
    "**Question:** What is the best value for `k`?\n",
    "\n",
    "**Answer:** The best values for k, that is the number is clusters is indeed four.\n",
    "The best value for k is four."
   ]
  },
  {
   "cell_type": "markdown",
   "metadata": {},
   "source": [
    "---"
   ]
  },
  {
   "cell_type": "markdown",
   "metadata": {},
   "source": [
    "# Optimize Clusters with Principal Component Analysis\n",
    "\n",
    "In this section, you will perform a principal component analysis (PCA) and reduce the features to three principal components.\n",
    "\n",
    "1. Create a PCA model instance and set `n_components=3`.\n",
    "\n",
    "2. Use the PCA model to reduce to three principal components. View the first five rows of the DataFrame. \n",
    "\n",
    "3. Retrieve the explained variance to determine how much information can be attributed to each principal component.\n",
    "\n",
    "4. Answer the following question: What is the total explained variance of the three principal components?\n",
    "\n",
    "5. Create a new DataFrame with the PCA data. Be sure to set the `coin_id` index from the original DataFrame as the index for the new DataFrame. Review the resulting DataFrame.\n",
    "\n",
    "6. Initiate a new  K-Means algorithm using the PCA DataFrame to group the cryptocurrencies. Set the `n_components` parameter equal to the best value for `k` found before. View the resulting array. \n",
    "\n",
    "7. For further analysis, add the following columns to the DataFrame with the PCA data. Review the resulting DataFrame once the additional columns have been added. Make sure to do the following:\n",
    "\n",
    "    - From the original DataFrame, add the `price_change_percentage_1y` and `price_change_percentage_14d` columns.\n",
    "\n",
    "    - Add a column with the predicted cluster values identified using a k value of 4. (The predicted cluster values were calculated in the “Cluster Cryptocurrencies with K-means” section.)\n",
    "\n",
    "    - Add a column with the predicted cluster values identified using the optimal value for k. \n"
   ]
  },
  {
   "cell_type": "code",
   "execution_count": 43,
   "metadata": {},
   "outputs": [],
   "source": [
    "# Create a PCA model instance and set `n_components=3`.\n",
    "# YOUR CODE HERE!\n",
    "pca=PCA(n_components=3)"
   ]
  },
  {
   "cell_type": "code",
   "execution_count": 44,
   "metadata": {},
   "outputs": [
    {
     "data": {
      "text/plain": [
       "array([[-1.58513942,  0.13439444,  0.545621  ],\n",
       "       [-1.32258066,  0.05449393,  1.11570854],\n",
       "       [ 0.26633536, -0.53640937, -0.79694588],\n",
       "       [ 0.25722513, -0.59201286, -0.6465287 ],\n",
       "       [-2.95224985,  0.42237155,  1.26789353]])"
      ]
     },
     "execution_count": 44,
     "metadata": {},
     "output_type": "execute_result"
    }
   ],
   "source": [
    "# Use the PCA model with `fit_transform` to reduce to \n",
    "# three principal components.\n",
    "# YOUR CODE HERE!\n",
    "\n",
    "market_pca_data = pca.fit_transform(df_market_data_scaled)\n",
    "\n",
    "# View the first five rows of the DataFrame. \n",
    "market_pca_data[:5]"
   ]
  },
  {
   "cell_type": "code",
   "execution_count": 45,
   "metadata": {},
   "outputs": [
    {
     "data": {
      "text/plain": [
       "array([0.37005408, 0.32322221, 0.19115222])"
      ]
     },
     "execution_count": 45,
     "metadata": {},
     "output_type": "execute_result"
    }
   ],
   "source": [
    "# Retrieve the explained variance to determine how much information \n",
    "# can be attributed to each principal component.\n",
    "# YOUR CODE HERE!\n",
    "\n",
    "\n",
    "pca.explained_variance_ratio_\n"
   ]
  },
  {
   "cell_type": "markdown",
   "metadata": {},
   "source": [
    "Answer the following question: What is the total explained variance of the three principal components?\n",
    "\n",
    "**Question** What is the total explained variance of the three principal components?\n",
    "\n",
    "**Answer** YOUR ANSWER HERE!\n",
    "\n",
    "The total explained variance of the three principal components is 0.8844285111826466S"
   ]
  },
  {
   "cell_type": "code",
   "execution_count": 46,
   "metadata": {},
   "outputs": [
    {
     "data": {
      "text/plain": [
       "0.8844285111826466"
      ]
     },
     "execution_count": 46,
     "metadata": {},
     "output_type": "execute_result"
    }
   ],
   "source": [
    "# total explained variance of the three principal components\n",
    "\n",
    "pca.explained_variance_ratio_.sum()\n",
    "\n"
   ]
  },
  {
   "cell_type": "code",
   "execution_count": 76,
   "metadata": {},
   "outputs": [
    {
     "data": {
      "text/html": [
       "<div>\n",
       "<style scoped>\n",
       "    .dataframe tbody tr th:only-of-type {\n",
       "        vertical-align: middle;\n",
       "    }\n",
       "\n",
       "    .dataframe tbody tr th {\n",
       "        vertical-align: top;\n",
       "    }\n",
       "\n",
       "    .dataframe thead th {\n",
       "        text-align: right;\n",
       "    }\n",
       "</style>\n",
       "<table border=\"1\" class=\"dataframe\">\n",
       "  <thead>\n",
       "    <tr style=\"text-align: right;\">\n",
       "      <th></th>\n",
       "      <th>PC1</th>\n",
       "      <th>PC2</th>\n",
       "      <th>PC3</th>\n",
       "    </tr>\n",
       "    <tr>\n",
       "      <th>coin_id</th>\n",
       "      <th></th>\n",
       "      <th></th>\n",
       "      <th></th>\n",
       "    </tr>\n",
       "  </thead>\n",
       "  <tbody>\n",
       "    <tr>\n",
       "      <th>bitcoin</th>\n",
       "      <td>-1.585139</td>\n",
       "      <td>0.134394</td>\n",
       "      <td>0.545621</td>\n",
       "    </tr>\n",
       "    <tr>\n",
       "      <th>ethereum</th>\n",
       "      <td>-1.322581</td>\n",
       "      <td>0.054494</td>\n",
       "      <td>1.115709</td>\n",
       "    </tr>\n",
       "    <tr>\n",
       "      <th>tether</th>\n",
       "      <td>0.266335</td>\n",
       "      <td>-0.536409</td>\n",
       "      <td>-0.796946</td>\n",
       "    </tr>\n",
       "    <tr>\n",
       "      <th>ripple</th>\n",
       "      <td>0.257225</td>\n",
       "      <td>-0.592013</td>\n",
       "      <td>-0.646529</td>\n",
       "    </tr>\n",
       "    <tr>\n",
       "      <th>bitcoin-cash</th>\n",
       "      <td>-2.952250</td>\n",
       "      <td>0.422372</td>\n",
       "      <td>1.267894</td>\n",
       "    </tr>\n",
       "  </tbody>\n",
       "</table>\n",
       "</div>"
      ],
      "text/plain": [
       "                   PC1       PC2       PC3\n",
       "coin_id                                   \n",
       "bitcoin      -1.585139  0.134394  0.545621\n",
       "ethereum     -1.322581  0.054494  1.115709\n",
       "tether        0.266335 -0.536409 -0.796946\n",
       "ripple        0.257225 -0.592013 -0.646529\n",
       "bitcoin-cash -2.952250  0.422372  1.267894"
      ]
     },
     "execution_count": 76,
     "metadata": {},
     "output_type": "execute_result"
    }
   ],
   "source": [
    "# Create a new DataFrame with the PCA data.\n",
    "\n",
    "# Creating a DataFrame with the PCA data\n",
    "df_market_data_pca = pd.DataFrame(\n",
    "    market_pca_data, \n",
    "    columns=[\"PC1\", \"PC2\", \"PC3\"]\n",
    ")\n",
    "\n",
    "# Copy the crypto names from the original data\n",
    "df_market_data_pca[\"coin_id\"] = df_market_data.index\n",
    "\n",
    "# Set the coinid column as index\n",
    "df_market_data_pca = df_market_data_pca.set_index(\"coin_id\")\n",
    "\n",
    "# Display sample data\n",
    "df_market_data_pca.head()"
   ]
  },
  {
   "cell_type": "code",
   "execution_count": 58,
   "metadata": {},
   "outputs": [
    {
     "data": {
      "text/plain": [
       "array([0, 0, 0, 0, 0, 0, 3, 0, 0, 0, 3, 0, 0, 0, 0, 0, 0, 0, 0, 0, 0, 0,\n",
       "       0, 0, 0, 0, 0, 0, 0, 3, 0, 0, 1, 0, 3, 3, 2, 0, 0, 0, 0])"
      ]
     },
     "execution_count": 58,
     "metadata": {},
     "output_type": "execute_result"
    }
   ],
   "source": [
    "# Initiate a new  K-Means algorithm using the PCA DataFrame to group \n",
    "# the cryptocurrencies. Set the `n_components` parameter equal to \n",
    "# the best value for `k` found before. View the resulting array. \n",
    "\n",
    "# Initialize the K-Means model\n",
    "# YOUR CODE HERE!\n",
    "nmodel = KMeans(n_clusters=4, random_state=1)\n",
    "\n",
    "# Fit the model\n",
    "# YOUR CODE HERE!\n",
    "nmodel.fit(df_market_data_pca)\n",
    "# Predict clusters\n",
    "crypto_clusters_k5 = nmodel.predict(df_market_data_pca)\n",
    "# YOUR CODE HERE!\n",
    "\n",
    "# View the resulting array\n",
    "crypto_clusters_k5"
   ]
  },
  {
   "cell_type": "code",
   "execution_count": 54,
   "metadata": {},
   "outputs": [
    {
     "data": {
      "text/html": [
       "<div>\n",
       "<style scoped>\n",
       "    .dataframe tbody tr th:only-of-type {\n",
       "        vertical-align: middle;\n",
       "    }\n",
       "\n",
       "    .dataframe tbody tr th {\n",
       "        vertical-align: top;\n",
       "    }\n",
       "\n",
       "    .dataframe thead th {\n",
       "        text-align: right;\n",
       "    }\n",
       "</style>\n",
       "<table border=\"1\" class=\"dataframe\">\n",
       "  <thead>\n",
       "    <tr style=\"text-align: right;\">\n",
       "      <th></th>\n",
       "      <th>PC1</th>\n",
       "      <th>PC2</th>\n",
       "      <th>PC3</th>\n",
       "      <th>price_change_percentage_1y</th>\n",
       "      <th>price_change_percentage_14d</th>\n",
       "      <th>crypto_cluster_k5</th>\n",
       "      <th>crypto_cluster_k4</th>\n",
       "    </tr>\n",
       "    <tr>\n",
       "      <th>coin_id</th>\n",
       "      <th></th>\n",
       "      <th></th>\n",
       "      <th></th>\n",
       "      <th></th>\n",
       "      <th></th>\n",
       "      <th></th>\n",
       "      <th></th>\n",
       "    </tr>\n",
       "  </thead>\n",
       "  <tbody>\n",
       "    <tr>\n",
       "      <th>bitcoin</th>\n",
       "      <td>-1.585139</td>\n",
       "      <td>0.134394</td>\n",
       "      <td>0.545621</td>\n",
       "      <td>37.51761</td>\n",
       "      <td>6.57509</td>\n",
       "      <td>0</td>\n",
       "      <td>3</td>\n",
       "    </tr>\n",
       "    <tr>\n",
       "      <th>ethereum</th>\n",
       "      <td>-1.322581</td>\n",
       "      <td>0.054494</td>\n",
       "      <td>1.115709</td>\n",
       "      <td>101.96023</td>\n",
       "      <td>4.80849</td>\n",
       "      <td>0</td>\n",
       "      <td>3</td>\n",
       "    </tr>\n",
       "    <tr>\n",
       "      <th>tether</th>\n",
       "      <td>0.266335</td>\n",
       "      <td>-0.536409</td>\n",
       "      <td>-0.796946</td>\n",
       "      <td>0.01954</td>\n",
       "      <td>0.00640</td>\n",
       "      <td>0</td>\n",
       "      <td>1</td>\n",
       "    </tr>\n",
       "    <tr>\n",
       "      <th>ripple</th>\n",
       "      <td>0.257225</td>\n",
       "      <td>-0.592013</td>\n",
       "      <td>-0.646529</td>\n",
       "      <td>-16.60193</td>\n",
       "      <td>2.24984</td>\n",
       "      <td>0</td>\n",
       "      <td>1</td>\n",
       "    </tr>\n",
       "    <tr>\n",
       "      <th>bitcoin-cash</th>\n",
       "      <td>-2.952250</td>\n",
       "      <td>0.422372</td>\n",
       "      <td>1.267894</td>\n",
       "      <td>14.49384</td>\n",
       "      <td>14.75334</td>\n",
       "      <td>0</td>\n",
       "      <td>3</td>\n",
       "    </tr>\n",
       "  </tbody>\n",
       "</table>\n",
       "</div>"
      ],
      "text/plain": [
       "                   PC1       PC2       PC3  price_change_percentage_1y  \\\n",
       "coin_id                                                                  \n",
       "bitcoin      -1.585139  0.134394  0.545621                    37.51761   \n",
       "ethereum     -1.322581  0.054494  1.115709                   101.96023   \n",
       "tether        0.266335 -0.536409 -0.796946                     0.01954   \n",
       "ripple        0.257225 -0.592013 -0.646529                   -16.60193   \n",
       "bitcoin-cash -2.952250  0.422372  1.267894                    14.49384   \n",
       "\n",
       "              price_change_percentage_14d  crypto_cluster_k5  \\\n",
       "coin_id                                                        \n",
       "bitcoin                           6.57509                  0   \n",
       "ethereum                          4.80849                  0   \n",
       "tether                            0.00640                  0   \n",
       "ripple                            2.24984                  0   \n",
       "bitcoin-cash                     14.75334                  0   \n",
       "\n",
       "              crypto_cluster_k4  \n",
       "coin_id                          \n",
       "bitcoin                       3  \n",
       "ethereum                      3  \n",
       "tether                        1  \n",
       "ripple                        1  \n",
       "bitcoin-cash                  3  "
      ]
     },
     "execution_count": 54,
     "metadata": {},
     "output_type": "execute_result"
    }
   ],
   "source": [
    "# For further analysis, add the following columns to the DataFrame \n",
    "# with the PCA data. Review the resulting DataFrame once the additional \n",
    "# columns have been added. Make sure to do the following:\n",
    "# - From the original DataFrame, add the `price_change_percentage_1y` and `price_change_percentage_14d` columns.\n",
    "# - Add a column with the predicted cluster values identified using a k value of 4. (The predicted cluster values were calculated in the “Cluster Cryptocurrencies with K-means” section.)\n",
    "# - Add a column with the predicted cluster values identified using the optimal value for k. \n",
    "\n",
    "\n",
    "# Add the price_change_percentage_1y column from the original data\n",
    "df_market_data_pca[\"price_change_percentage_1y\"] = df_market_data[\"price_change_percentage_1y\"]\n",
    "\n",
    "# Add the price_change_percentage_14d column from the original data\n",
    "df_market_data_pca[\"price_change_percentage_14d\"] = df_market_data[\"price_change_percentage_14d\"]\n",
    "\n",
    "# Add a new column to the DataFrame with the predicted clusters using the best value of k\n",
    "df_market_data_pca[\"crypto_cluster_k5\"] = crypto_clusters_k5\n",
    "\n",
    "# Add a new column to the DataFrame with the predicted clusters using k=4\n",
    "df_market_data_pca[\"crypto_cluster_k4\"] = crypto_clusters_k4\n",
    "\n",
    "# Display sample data\n",
    "df_market_data_pca.head()"
   ]
  },
  {
   "cell_type": "markdown",
   "metadata": {},
   "source": [
    "---"
   ]
  },
  {
   "cell_type": "markdown",
   "metadata": {},
   "source": [
    "# Step 6: Plot Results\n",
    "\n",
    "In this section, you will visually analyze the cluster analysis results after using the optimization techniques.\n",
    "\n",
    "1. Use the PCA data to create two scatter plots using hvPlot by setting `x=\"price_change_percentage_14d\"` and `y=\"price_change_percentage_1y\"`. Make sure to do the following: \n",
    "\n",
    "    - In the first plot, color the plot points by the cluster values identified using a k value of 4.\n",
    "\n",
    "    - In the second plot, color the plot points by the cluster values identified using the optimal value for k.\n",
    "\n",
    "    - In both plots, add the crypto name by sing the `hover_cols` parameter to identify the cryptocurrency represented by each data point. \n",
    "\n",
    "2. Be sure to professionally style and format the plots so that the visualizations can be easily read. \n",
    "\n",
    "3. Answer the following question: What value of k creates the most accurate clusters of cryptocurrencies, grouped by profitability?\n"
   ]
  },
  {
   "cell_type": "code",
   "execution_count": 55,
   "metadata": {},
   "outputs": [
    {
     "data": {},
     "metadata": {},
     "output_type": "display_data"
    },
    {
     "data": {
      "application/vnd.holoviews_exec.v0+json": "",
      "text/html": [
       "<div id='4105'>\n",
       "\n",
       "\n",
       "\n",
       "\n",
       "\n",
       "  <div class=\"bk-root\" id=\"6a903fee-fd0b-42df-8cf5-e7b536cf02b1\" data-root-id=\"4105\"></div>\n",
       "</div>\n",
       "<script type=\"application/javascript\">(function(root) {\n",
       "  function embed_document(root) {\n",
       "    var docs_json = {\"821887a6-86cb-44d2-9ac2-e5537bd848c9\":{\"roots\":{\"references\":[{\"attributes\":{\"data_source\":{\"id\":\"4147\"},\"glyph\":{\"id\":\"4150\"},\"hover_glyph\":null,\"muted_glyph\":{\"id\":\"4152\"},\"nonselection_glyph\":{\"id\":\"4151\"},\"selection_glyph\":null,\"view\":{\"id\":\"4154\"}},\"id\":\"4153\",\"type\":\"GlyphRenderer\"},{\"attributes\":{\"axis\":{\"id\":\"4126\"},\"dimension\":1,\"grid_line_color\":null,\"ticker\":null},\"id\":\"4129\",\"type\":\"Grid\"},{\"attributes\":{\"data\":{\"coin_id\":[\"tether\",\"ripple\",\"bitcoin-cash-sv\",\"crypto-com-chain\",\"usd-coin\",\"eos\",\"tron\",\"okb\",\"stellar\",\"cdai\",\"neo\",\"leo-token\",\"huobi-token\",\"nem\",\"binance-usd\",\"iota\",\"vechain\",\"theta-token\",\"dash\",\"ethereum-classic\",\"havven\",\"omisego\",\"ontology\",\"ftx-token\",\"true-usd\",\"digibyte\"],\"crypto_cluster_k4\":[1,1,1,1,1,1,1,1,1,1,1,1,1,1,1,1,1,1,1,1,1,1,1,1,1,1],\"price_change_percentage_14d\":{\"__ndarray__\":\"HnsBaGQzlr/N3F8oPe7PP3NjPGDhv8+/S7Jsj1Hf8L+Ea3M8HbKXv2o3cmQwcr0/gfuS3PnVwj9EVmWxpyjkvyGfjNZ4ncO/W90W1njBXb8A0bj4GGfzv1aDDY2/5uu/0N4oQb2moD9Mn4eDZwzTPyS7/nSKYI+/K8wLTSmn3r+8kqAso7wBwNk2MV03JOq/M7ls7Q6ApD91cedROXjGvyvzUbHOD/q/O1/1hYrq+b/cP0enpcj0v+FC29fyQqi/ijCfoLDSgr+uLyxJrgbtvw==\",\"dtype\":\"float64\",\"order\":\"little\",\"shape\":[26]},\"price_change_percentage_1y\":{\"__ndarray__\":\"0tbtgUcN0r9onRVeOurSv8DzHRIoX8q/ZYfU+i+zob9Zt1uMFxDSv9d+3k0Q99K/EJWswyz0zb8aTqSC/lzFv7zx0EUAVtG/r2LTfF0R0r/sbi65b3jGv4MlKg5a9tC/jZL+tujG0L8+5EUem4W+v7L3RgiwC9K/QBFeFIRC0r8zoGQ8RRO+vx0crWPUXdI/EKFv4Dku0r8VsZZ513nRv3r6/cSEMdE/58IWQ8Jplr9Y0yK6wrXSvxKiHMC8nsK/P3pCziMI0r/iEUnTKPXAvw==\",\"dtype\":\"float64\",\"order\":\"little\",\"shape\":[26]}},\"selected\":{\"id\":\"4166\"},\"selection_policy\":{\"id\":\"4181\"}},\"id\":\"4165\",\"type\":\"ColumnDataSource\"},{\"attributes\":{\"text\":\"\",\"text_color\":{\"value\":\"black\"},\"text_font_size\":{\"value\":\"12pt\"}},\"id\":\"4114\",\"type\":\"Title\"},{\"attributes\":{},\"id\":\"4206\",\"type\":\"Selection\"},{\"attributes\":{\"axis_label\":\"price_change_percentage_14d\",\"bounds\":\"auto\",\"formatter\":{\"id\":\"4144\"},\"major_label_orientation\":\"horizontal\",\"ticker\":{\"id\":\"4123\"}},\"id\":\"4122\",\"type\":\"LinearAxis\"},{\"attributes\":{},\"id\":\"4161\",\"type\":\"UnionRenderers\"},{\"attributes\":{\"click_policy\":\"mute\",\"items\":[{\"id\":\"4164\"},{\"id\":\"4183\"},{\"id\":\"4204\"},{\"id\":\"4227\"}],\"location\":[0,0],\"title\":\"crypto_cluster_k4\"},\"id\":\"4163\",\"type\":\"Legend\"},{\"attributes\":{\"axis\":{\"id\":\"4122\"},\"grid_line_color\":null,\"ticker\":null},\"id\":\"4125\",\"type\":\"Grid\"},{\"attributes\":{\"fill_color\":{\"value\":\"#2ba02b\"},\"line_color\":{\"value\":\"#2ba02b\"},\"size\":{\"units\":\"screen\",\"value\":5.477225575051661},\"x\":{\"field\":\"price_change_percentage_14d\"},\"y\":{\"field\":\"price_change_percentage_1y\"}},\"id\":\"4187\",\"type\":\"Scatter\"},{\"attributes\":{},\"id\":\"4123\",\"type\":\"BasicTicker\"},{\"attributes\":{\"fill_color\":{\"value\":\"#1f77b3\"},\"line_color\":{\"value\":\"#1f77b3\"},\"size\":{\"units\":\"screen\",\"value\":5.477225575051661},\"x\":{\"field\":\"price_change_percentage_14d\"},\"y\":{\"field\":\"price_change_percentage_1y\"}},\"id\":\"4150\",\"type\":\"Scatter\"},{\"attributes\":{\"data\":{\"coin_id\":[\"bitcoin\",\"ethereum\",\"bitcoin-cash\",\"binancecoin\",\"chainlink\",\"cardano\",\"litecoin\",\"monero\",\"tezos\",\"cosmos\",\"wrapped-bitcoin\",\"zcash\",\"maker\"],\"crypto_cluster_k4\":[3,3,3,3,3,3,3,3,3,3,3,3,3],\"price_change_percentage_14d\":{\"__ndarray__\":\"nuLdrt216D+RSHVMzuDhP7sQi2Z1K/w/Mmmtxlqb6T8Qp+OGWKDxPxbMkJqqw+Q/7/2Jpv546z+cw3/YDp8BQLkNxiFGg9A/6WDgXhWY5D8zjSqEo6PoPw0FcdFXruU/AkzpMNDmyb8=\",\"dtype\":\"float64\",\"order\":\"little\",\"shape\":[13]},\"price_change_percentage_1y\":{\"__ndarray__\":\"ZIOvlNEa0L8/RW61XoTJvzHqfHffTNG/VVzrnEDezL8xTPVHJbmSv24aeg4U5cO/QqlS3eG10r+H6xnpXXXFv2O+GP+0kMW/vQghwWCLy7/FkSn9mBrQvxtcXcmAf8u/IdIwj+5/0b8=\",\"dtype\":\"float64\",\"order\":\"little\",\"shape\":[13]}},\"selected\":{\"id\":\"4206\"},\"selection_policy\":{\"id\":\"4225\"}},\"id\":\"4205\",\"type\":\"ColumnDataSource\"},{\"attributes\":{},\"id\":\"4181\",\"type\":\"UnionRenderers\"},{\"attributes\":{\"active_drag\":\"auto\",\"active_inspect\":\"auto\",\"active_multi\":null,\"active_scroll\":\"auto\",\"active_tap\":\"auto\",\"tools\":[{\"id\":\"4109\"},{\"id\":\"4130\"},{\"id\":\"4131\"},{\"id\":\"4132\"},{\"id\":\"4133\"},{\"id\":\"4134\"}]},\"id\":\"4136\",\"type\":\"Toolbar\"},{\"attributes\":{},\"id\":\"4127\",\"type\":\"BasicTicker\"},{\"attributes\":{},\"id\":\"4148\",\"type\":\"Selection\"},{\"attributes\":{\"below\":[{\"id\":\"4122\"}],\"center\":[{\"id\":\"4125\"},{\"id\":\"4129\"}],\"left\":[{\"id\":\"4126\"}],\"margin\":[5,5,5,5],\"min_border_bottom\":10,\"min_border_left\":10,\"min_border_right\":10,\"min_border_top\":10,\"plot_height\":300,\"plot_width\":700,\"renderers\":[{\"id\":\"4153\"},{\"id\":\"4171\"},{\"id\":\"4190\"},{\"id\":\"4211\"}],\"right\":[{\"id\":\"4163\"}],\"sizing_mode\":\"fixed\",\"title\":{\"id\":\"4114\"},\"toolbar\":{\"id\":\"4136\"},\"x_range\":{\"id\":\"4107\"},\"x_scale\":{\"id\":\"4118\"},\"y_range\":{\"id\":\"4108\"},\"y_scale\":{\"id\":\"4120\"}},\"id\":\"4113\",\"subtype\":\"Figure\",\"type\":\"Plot\"},{\"attributes\":{\"axis_label\":\"price_change_percentage_1y\",\"bounds\":\"auto\",\"formatter\":{\"id\":\"4146\"},\"major_label_orientation\":\"horizontal\",\"ticker\":{\"id\":\"4127\"}},\"id\":\"4126\",\"type\":\"LinearAxis\"},{\"attributes\":{\"fill_alpha\":{\"value\":0.2},\"fill_color\":{\"value\":\"#2ba02b\"},\"line_alpha\":{\"value\":0.2},\"line_color\":{\"value\":\"#2ba02b\"},\"size\":{\"units\":\"screen\",\"value\":5.477225575051661},\"x\":{\"field\":\"price_change_percentage_14d\"},\"y\":{\"field\":\"price_change_percentage_1y\"}},\"id\":\"4189\",\"type\":\"Scatter\"},{\"attributes\":{\"label\":{\"value\":\"0\"},\"renderers\":[{\"id\":\"4153\"}]},\"id\":\"4164\",\"type\":\"LegendItem\"},{\"attributes\":{\"data_source\":{\"id\":\"4205\"},\"glyph\":{\"id\":\"4208\"},\"hover_glyph\":null,\"muted_glyph\":{\"id\":\"4210\"},\"nonselection_glyph\":{\"id\":\"4209\"},\"selection_glyph\":null,\"view\":{\"id\":\"4212\"}},\"id\":\"4211\",\"type\":\"GlyphRenderer\"},{\"attributes\":{},\"id\":\"4118\",\"type\":\"LinearScale\"},{\"attributes\":{\"bottom_units\":\"screen\",\"fill_alpha\":0.5,\"fill_color\":\"lightgrey\",\"left_units\":\"screen\",\"level\":\"overlay\",\"line_alpha\":1.0,\"line_color\":\"black\",\"line_dash\":[4,4],\"line_width\":2,\"right_units\":\"screen\",\"top_units\":\"screen\"},\"id\":\"4135\",\"type\":\"BoxAnnotation\"},{\"attributes\":{\"fill_alpha\":{\"value\":0.1},\"fill_color\":{\"value\":\"#2ba02b\"},\"line_alpha\":{\"value\":0.1},\"line_color\":{\"value\":\"#2ba02b\"},\"size\":{\"units\":\"screen\",\"value\":5.477225575051661},\"x\":{\"field\":\"price_change_percentage_14d\"},\"y\":{\"field\":\"price_change_percentage_1y\"}},\"id\":\"4188\",\"type\":\"Scatter\"},{\"attributes\":{\"end\":3.1266608709070227,\"reset_end\":3.1266608709070227,\"reset_start\":-2.4367150495547434,\"start\":-2.4367150495547434,\"tags\":[[[\"price_change_percentage_14d\",\"price_change_percentage_14d\",null]]]},\"id\":\"4107\",\"type\":\"Range1d\"},{\"attributes\":{\"fill_alpha\":{\"value\":0.1},\"fill_color\":{\"value\":\"#1f77b3\"},\"line_alpha\":{\"value\":0.1},\"line_color\":{\"value\":\"#1f77b3\"},\"size\":{\"units\":\"screen\",\"value\":5.477225575051661},\"x\":{\"field\":\"price_change_percentage_14d\"},\"y\":{\"field\":\"price_change_percentage_1y\"}},\"id\":\"4151\",\"type\":\"Scatter\"},{\"attributes\":{\"fill_color\":{\"value\":\"#d62628\"},\"line_color\":{\"value\":\"#d62628\"},\"size\":{\"units\":\"screen\",\"value\":5.477225575051661},\"x\":{\"field\":\"price_change_percentage_14d\"},\"y\":{\"field\":\"price_change_percentage_1y\"}},\"id\":\"4208\",\"type\":\"Scatter\"},{\"attributes\":{\"children\":[{\"id\":\"4106\"},{\"id\":\"4113\"},{\"id\":\"4354\"}],\"margin\":[0,0,0,0],\"name\":\"Row09257\",\"tags\":[\"embedded\"]},\"id\":\"4105\",\"type\":\"Row\"},{\"attributes\":{\"fill_color\":{\"value\":\"#ff7e0e\"},\"line_color\":{\"value\":\"#ff7e0e\"},\"size\":{\"units\":\"screen\",\"value\":5.477225575051661},\"x\":{\"field\":\"price_change_percentage_14d\"},\"y\":{\"field\":\"price_change_percentage_1y\"}},\"id\":\"4168\",\"type\":\"Scatter\"},{\"attributes\":{\"fill_alpha\":{\"value\":0.1},\"fill_color\":{\"value\":\"#ff7e0e\"},\"line_alpha\":{\"value\":0.1},\"line_color\":{\"value\":\"#ff7e0e\"},\"size\":{\"units\":\"screen\",\"value\":5.477225575051661},\"x\":{\"field\":\"price_change_percentage_14d\"},\"y\":{\"field\":\"price_change_percentage_1y\"}},\"id\":\"4169\",\"type\":\"Scatter\"},{\"attributes\":{\"fill_alpha\":{\"value\":0.2},\"fill_color\":{\"value\":\"#d62628\"},\"line_alpha\":{\"value\":0.2},\"line_color\":{\"value\":\"#d62628\"},\"size\":{\"units\":\"screen\",\"value\":5.477225575051661},\"x\":{\"field\":\"price_change_percentage_14d\"},\"y\":{\"field\":\"price_change_percentage_1y\"}},\"id\":\"4210\",\"type\":\"Scatter\"},{\"attributes\":{},\"id\":\"4120\",\"type\":\"LinearScale\"},{\"attributes\":{\"data\":{\"coin_id\":[\"ethlend\"],\"crypto_cluster_k4\":[0],\"price_change_percentage_14d\":{\"__ndarray__\":\"EjPPN7FP878=\",\"dtype\":\"float64\",\"order\":\"little\",\"shape\":[1]},\"price_change_percentage_1y\":{\"__ndarray__\":\"gzyZocBaGEA=\",\"dtype\":\"float64\",\"order\":\"little\",\"shape\":[1]}},\"selected\":{\"id\":\"4148\"},\"selection_policy\":{\"id\":\"4161\"}},\"id\":\"4147\",\"type\":\"ColumnDataSource\"},{\"attributes\":{\"source\":{\"id\":\"4165\"}},\"id\":\"4172\",\"type\":\"CDSView\"},{\"attributes\":{\"data_source\":{\"id\":\"4165\"},\"glyph\":{\"id\":\"4168\"},\"hover_glyph\":null,\"muted_glyph\":{\"id\":\"4170\"},\"nonselection_glyph\":{\"id\":\"4169\"},\"selection_glyph\":null,\"view\":{\"id\":\"4172\"}},\"id\":\"4171\",\"type\":\"GlyphRenderer\"},{\"attributes\":{\"margin\":[5,5,5,5],\"name\":\"HSpacer09262\",\"sizing_mode\":\"stretch_width\"},\"id\":\"4354\",\"type\":\"Spacer\"},{\"attributes\":{\"margin\":[5,5,5,5],\"name\":\"HSpacer09261\",\"sizing_mode\":\"stretch_width\"},\"id\":\"4106\",\"type\":\"Spacer\"},{\"attributes\":{},\"id\":\"4130\",\"type\":\"SaveTool\"},{\"attributes\":{\"source\":{\"id\":\"4184\"}},\"id\":\"4191\",\"type\":\"CDSView\"},{\"attributes\":{\"callback\":null,\"renderers\":[{\"id\":\"4153\"},{\"id\":\"4171\"},{\"id\":\"4190\"},{\"id\":\"4211\"}],\"tags\":[\"hv_created\"],\"tooltips\":[[\"crypto_cluster_k4\",\"@{crypto_cluster_k4}\"],[\"price_change_percentage_14d\",\"@{price_change_percentage_14d}\"],[\"price_change_percentage_1y\",\"@{price_change_percentage_1y}\"],[\"coin_id\",\"@{coin_id}\"]]},\"id\":\"4109\",\"type\":\"HoverTool\"},{\"attributes\":{},\"id\":\"4131\",\"type\":\"PanTool\"},{\"attributes\":{},\"id\":\"4166\",\"type\":\"Selection\"},{\"attributes\":{},\"id\":\"4225\",\"type\":\"UnionRenderers\"},{\"attributes\":{},\"id\":\"4134\",\"type\":\"ResetTool\"},{\"attributes\":{},\"id\":\"4132\",\"type\":\"WheelZoomTool\"},{\"attributes\":{\"fill_alpha\":{\"value\":0.1},\"fill_color\":{\"value\":\"#d62628\"},\"line_alpha\":{\"value\":0.1},\"line_color\":{\"value\":\"#d62628\"},\"size\":{\"units\":\"screen\",\"value\":5.477225575051661},\"x\":{\"field\":\"price_change_percentage_14d\"},\"y\":{\"field\":\"price_change_percentage_1y\"}},\"id\":\"4209\",\"type\":\"Scatter\"},{\"attributes\":{},\"id\":\"4144\",\"type\":\"BasicTickFormatter\"},{\"attributes\":{\"overlay\":{\"id\":\"4135\"}},\"id\":\"4133\",\"type\":\"BoxZoomTool\"},{\"attributes\":{\"data\":{\"coin_id\":[\"celsius-degree-token\"],\"crypto_cluster_k4\":[2],\"price_change_percentage_14d\":{\"__ndarray__\":\"FlU2faVBB0A=\",\"dtype\":\"float64\",\"order\":\"little\",\"shape\":[1]},\"price_change_percentage_1y\":{\"__ndarray__\":\"OvTrj2iT9T8=\",\"dtype\":\"float64\",\"order\":\"little\",\"shape\":[1]}},\"selected\":{\"id\":\"4185\"},\"selection_policy\":{\"id\":\"4202\"}},\"id\":\"4184\",\"type\":\"ColumnDataSource\"},{\"attributes\":{\"fill_alpha\":{\"value\":0.2},\"fill_color\":{\"value\":\"#ff7e0e\"},\"line_alpha\":{\"value\":0.2},\"line_color\":{\"value\":\"#ff7e0e\"},\"size\":{\"units\":\"screen\",\"value\":5.477225575051661},\"x\":{\"field\":\"price_change_percentage_14d\"},\"y\":{\"field\":\"price_change_percentage_1y\"}},\"id\":\"4170\",\"type\":\"Scatter\"},{\"attributes\":{\"source\":{\"id\":\"4205\"}},\"id\":\"4212\",\"type\":\"CDSView\"},{\"attributes\":{},\"id\":\"4202\",\"type\":\"UnionRenderers\"},{\"attributes\":{},\"id\":\"4185\",\"type\":\"Selection\"},{\"attributes\":{\"label\":{\"value\":\"1\"},\"renderers\":[{\"id\":\"4171\"}]},\"id\":\"4183\",\"type\":\"LegendItem\"},{\"attributes\":{\"label\":{\"value\":\"2\"},\"renderers\":[{\"id\":\"4190\"}]},\"id\":\"4204\",\"type\":\"LegendItem\"},{\"attributes\":{\"end\":6.72712095745086,\"reset_end\":6.72712095745086,\"reset_start\":-0.9348250733816648,\"start\":-0.9348250733816648,\"tags\":[[[\"price_change_percentage_1y\",\"price_change_percentage_1y\",null]]]},\"id\":\"4108\",\"type\":\"Range1d\"},{\"attributes\":{\"data_source\":{\"id\":\"4184\"},\"glyph\":{\"id\":\"4187\"},\"hover_glyph\":null,\"muted_glyph\":{\"id\":\"4189\"},\"nonselection_glyph\":{\"id\":\"4188\"},\"selection_glyph\":null,\"view\":{\"id\":\"4191\"}},\"id\":\"4190\",\"type\":\"GlyphRenderer\"},{\"attributes\":{\"label\":{\"value\":\"3\"},\"renderers\":[{\"id\":\"4211\"}]},\"id\":\"4227\",\"type\":\"LegendItem\"},{\"attributes\":{},\"id\":\"4146\",\"type\":\"BasicTickFormatter\"},{\"attributes\":{\"source\":{\"id\":\"4147\"}},\"id\":\"4154\",\"type\":\"CDSView\"},{\"attributes\":{\"fill_alpha\":{\"value\":0.2},\"fill_color\":{\"value\":\"#1f77b3\"},\"line_alpha\":{\"value\":0.2},\"line_color\":{\"value\":\"#1f77b3\"},\"size\":{\"units\":\"screen\",\"value\":5.477225575051661},\"x\":{\"field\":\"price_change_percentage_14d\"},\"y\":{\"field\":\"price_change_percentage_1y\"}},\"id\":\"4152\",\"type\":\"Scatter\"}],\"root_ids\":[\"4105\"]},\"title\":\"Bokeh Application\",\"version\":\"2.2.3\"}};\n",
       "    var render_items = [{\"docid\":\"821887a6-86cb-44d2-9ac2-e5537bd848c9\",\"root_ids\":[\"4105\"],\"roots\":{\"4105\":\"6a903fee-fd0b-42df-8cf5-e7b536cf02b1\"}}];\n",
       "    root.Bokeh.embed.embed_items_notebook(docs_json, render_items);\n",
       "  }\n",
       "  if (root.Bokeh !== undefined && root.Bokeh.Panel !== undefined) {\n",
       "    embed_document(root);\n",
       "  } else {\n",
       "    var attempts = 0;\n",
       "    var timer = setInterval(function(root) {\n",
       "      if (root.Bokeh !== undefined && root.Bokeh.Panel !== undefined) {\n",
       "        clearInterval(timer);\n",
       "        embed_document(root);\n",
       "      } else if (document.readyState == \"complete\") {\n",
       "        attempts++;\n",
       "        if (attempts > 100) {\n",
       "          clearInterval(timer);\n",
       "          console.log(\"Bokeh: ERROR: Unable to run BokehJS code because BokehJS library is missing\");\n",
       "        }\n",
       "      }\n",
       "    }, 10, root)\n",
       "  }\n",
       "})(window);</script>"
      ],
      "text/plain": [
       ":NdOverlay   [crypto_cluster_k4]\n",
       "   :Scatter   [price_change_percentage_14d]   (price_change_percentage_1y,coin_id)"
      ]
     },
     "execution_count": 55,
     "metadata": {
      "application/vnd.holoviews_exec.v0+json": {
       "id": "4105"
      }
     },
     "output_type": "execute_result"
    }
   ],
   "source": [
    "# Create a scatter plot for the Crypto Clusters using k=4 data.\n",
    "# Use the PCA data to create a scatter plot with hvPlot by setting \n",
    "# x=\"price_change_percentage_14d\" and y=\"price_change_percentage_1y\".\n",
    "# Group by the clusters using `by=\"crypto_cluster_k4\".\n",
    "# Set the hover colors to the coin id with `hover_cols=[\"coin_id\"]\n",
    "# Create a descriptive title for the plot using the title parameter.\n",
    "# YOUR CODE HERE!\n",
    "scatter_plot_k4 = df_market_data_scaled.hvplot.scatter(\n",
    "    x=\"price_change_percentage_14d\",\n",
    "    y=\"price_change_percentage_1y\",\n",
    "    by=\"crypto_cluster_k4\",\n",
    "    hover_cols=[\"coin_id\"])\n",
    "\n",
    "scatter_plot_k4"
   ]
  },
  {
   "cell_type": "code",
   "execution_count": 56,
   "metadata": {},
   "outputs": [
    {
     "data": {},
     "metadata": {},
     "output_type": "display_data"
    },
    {
     "data": {
      "application/vnd.holoviews_exec.v0+json": "",
      "text/html": [
       "<div id='4426'>\n",
       "\n",
       "\n",
       "\n",
       "\n",
       "\n",
       "  <div class=\"bk-root\" id=\"9fc20d2e-eb1f-415a-99ca-fb54f245b07b\" data-root-id=\"4426\"></div>\n",
       "</div>\n",
       "<script type=\"application/javascript\">(function(root) {\n",
       "  function embed_document(root) {\n",
       "    var docs_json = {\"c464270d-f8a1-4e70-8a89-f4e9f4b40b0c\":{\"roots\":{\"references\":[{\"attributes\":{\"axis_label\":\"price_change_percentage_14d\",\"bounds\":\"auto\",\"formatter\":{\"id\":\"4466\"},\"major_label_orientation\":\"horizontal\",\"ticker\":{\"id\":\"4445\"}},\"id\":\"4444\",\"type\":\"LinearAxis\"},{\"attributes\":{\"bottom_units\":\"screen\",\"fill_alpha\":0.5,\"fill_color\":\"lightgrey\",\"left_units\":\"screen\",\"level\":\"overlay\",\"line_alpha\":1.0,\"line_color\":\"black\",\"line_dash\":[4,4],\"line_width\":2,\"right_units\":\"screen\",\"top_units\":\"screen\"},\"id\":\"4457\",\"type\":\"BoxAnnotation\"},{\"attributes\":{},\"id\":\"4528\",\"type\":\"Selection\"},{\"attributes\":{\"fill_alpha\":{\"value\":0.1},\"fill_color\":{\"value\":\"#2ba02b\"},\"line_alpha\":{\"value\":0.1},\"line_color\":{\"value\":\"#2ba02b\"},\"size\":{\"units\":\"screen\",\"value\":5.477225575051661},\"x\":{\"field\":\"price_change_percentage_14d\"},\"y\":{\"field\":\"price_change_percentage_1y\"}},\"id\":\"4510\",\"type\":\"Scatter\"},{\"attributes\":{\"margin\":[5,5,5,5],\"name\":\"HSpacer10075\",\"sizing_mode\":\"stretch_width\"},\"id\":\"4719\",\"type\":\"Spacer\"},{\"attributes\":{\"children\":[{\"id\":\"4427\"},{\"id\":\"4435\"},{\"id\":\"4719\"}],\"margin\":[0,0,0,0],\"name\":\"Row10070\",\"tags\":[\"embedded\"]},\"id\":\"4426\",\"type\":\"Row\"},{\"attributes\":{\"axis_label\":\"price_change_percentage_1y\",\"bounds\":\"auto\",\"formatter\":{\"id\":\"4468\"},\"major_label_orientation\":\"horizontal\",\"ticker\":{\"id\":\"4449\"}},\"id\":\"4448\",\"type\":\"LinearAxis\"},{\"attributes\":{},\"id\":\"4449\",\"type\":\"BasicTicker\"},{\"attributes\":{\"text\":\"\",\"text_color\":{\"value\":\"black\"},\"text_font_size\":{\"value\":\"12pt\"}},\"id\":\"4436\",\"type\":\"Title\"},{\"attributes\":{\"data\":{\"coin_id\":[\"celsius-degree-token\"],\"crypto_cluster_k5\":[2],\"price_change_percentage_14d\":{\"__ndarray__\":\"vodLjjs9OEA=\",\"dtype\":\"float64\",\"order\":\"little\",\"shape\":[1]},\"price_change_percentage_1y\":{\"__ndarray__\":\"nFCIgONmn0A=\",\"dtype\":\"float64\",\"order\":\"little\",\"shape\":[1]}},\"selected\":{\"id\":\"4507\"},\"selection_policy\":{\"id\":\"4524\"}},\"id\":\"4506\",\"type\":\"ColumnDataSource\"},{\"attributes\":{\"data\":{\"coin_id\":[\"ethlend\"],\"crypto_cluster_k5\":[1],\"price_change_percentage_14d\":{\"__ndarray__\":\"RIts5/uZI8A=\",\"dtype\":\"float64\",\"order\":\"little\",\"shape\":[1]},\"price_change_percentage_1y\":{\"__ndarray__\":\"dEaU9hasvkA=\",\"dtype\":\"float64\",\"order\":\"little\",\"shape\":[1]}},\"selected\":{\"id\":\"4488\"},\"selection_policy\":{\"id\":\"4503\"}},\"id\":\"4487\",\"type\":\"ColumnDataSource\"},{\"attributes\":{\"fill_alpha\":{\"value\":0.2},\"fill_color\":{\"value\":\"#9367bc\"},\"line_alpha\":{\"value\":0.2},\"line_color\":{\"value\":\"#9367bc\"},\"size\":{\"units\":\"screen\",\"value\":5.477225575051661},\"x\":{\"field\":\"price_change_percentage_14d\"},\"y\":{\"field\":\"price_change_percentage_1y\"}},\"id\":\"4555\",\"type\":\"Scatter\"},{\"attributes\":{\"label\":{\"value\":\"0\"},\"renderers\":[{\"id\":\"4475\"}]},\"id\":\"4486\",\"type\":\"LegendItem\"},{\"attributes\":{\"source\":{\"id\":\"4469\"}},\"id\":\"4476\",\"type\":\"CDSView\"},{\"attributes\":{\"fill_color\":{\"value\":\"#d62628\"},\"line_color\":{\"value\":\"#d62628\"},\"size\":{\"units\":\"screen\",\"value\":5.477225575051661},\"x\":{\"field\":\"price_change_percentage_14d\"},\"y\":{\"field\":\"price_change_percentage_1y\"}},\"id\":\"4530\",\"type\":\"Scatter\"},{\"attributes\":{\"data\":{\"coin_id\":[\"theta-token\",\"havven\"],\"crypto_cluster_k5\":[4,4],\"price_change_percentage_14d\":{\"__ndarray__\":\"l8rbEU5LGsAvaYzWUZUqwA==\",\"dtype\":\"float64\",\"order\":\"little\",\"shape\":[2]},\"price_change_percentage_1y\":{\"__ndarray__\":\"/IwLBwLrhUDfiVkvRjaFQA==\",\"dtype\":\"float64\",\"order\":\"little\",\"shape\":[2]}},\"selected\":{\"id\":\"4551\"},\"selection_policy\":{\"id\":\"4572\"}},\"id\":\"4550\",\"type\":\"ColumnDataSource\"},{\"attributes\":{\"fill_color\":{\"value\":\"#ff7e0e\"},\"line_color\":{\"value\":\"#ff7e0e\"},\"size\":{\"units\":\"screen\",\"value\":5.477225575051661},\"x\":{\"field\":\"price_change_percentage_14d\"},\"y\":{\"field\":\"price_change_percentage_1y\"}},\"id\":\"4490\",\"type\":\"Scatter\"},{\"attributes\":{\"fill_color\":{\"value\":\"#9367bc\"},\"line_color\":{\"value\":\"#9367bc\"},\"size\":{\"units\":\"screen\",\"value\":5.477225575051661},\"x\":{\"field\":\"price_change_percentage_14d\"},\"y\":{\"field\":\"price_change_percentage_1y\"}},\"id\":\"4553\",\"type\":\"Scatter\"},{\"attributes\":{\"data_source\":{\"id\":\"4550\"},\"glyph\":{\"id\":\"4553\"},\"hover_glyph\":null,\"muted_glyph\":{\"id\":\"4555\"},\"nonselection_glyph\":{\"id\":\"4554\"},\"selection_glyph\":null,\"view\":{\"id\":\"4557\"}},\"id\":\"4556\",\"type\":\"GlyphRenderer\"},{\"attributes\":{},\"id\":\"4456\",\"type\":\"ResetTool\"},{\"attributes\":{\"axis\":{\"id\":\"4448\"},\"dimension\":1,\"grid_line_color\":null,\"ticker\":null},\"id\":\"4451\",\"type\":\"Grid\"},{\"attributes\":{},\"id\":\"4468\",\"type\":\"BasicTickFormatter\"},{\"attributes\":{\"fill_color\":{\"value\":\"#1f77b3\"},\"line_color\":{\"value\":\"#1f77b3\"},\"size\":{\"units\":\"screen\",\"value\":5.477225575051661},\"x\":{\"field\":\"price_change_percentage_14d\"},\"y\":{\"field\":\"price_change_percentage_1y\"}},\"id\":\"4472\",\"type\":\"Scatter\"},{\"attributes\":{\"fill_alpha\":{\"value\":0.2},\"fill_color\":{\"value\":\"#d62628\"},\"line_alpha\":{\"value\":0.2},\"line_color\":{\"value\":\"#d62628\"},\"size\":{\"units\":\"screen\",\"value\":5.477225575051661},\"x\":{\"field\":\"price_change_percentage_14d\"},\"y\":{\"field\":\"price_change_percentage_1y\"}},\"id\":\"4532\",\"type\":\"Scatter\"},{\"attributes\":{\"callback\":null,\"renderers\":[{\"id\":\"4475\"},{\"id\":\"4493\"},{\"id\":\"4512\"},{\"id\":\"4533\"},{\"id\":\"4556\"}],\"tags\":[\"hv_created\"],\"tooltips\":[[\"crypto_cluster_k5\",\"@{crypto_cluster_k5}\"],[\"price_change_percentage_14d\",\"@{price_change_percentage_14d}\"],[\"price_change_percentage_1y\",\"@{price_change_percentage_1y}\"],[\"coin_id\",\"@{coin_id}\"]]},\"id\":\"4430\",\"type\":\"HoverTool\"},{\"attributes\":{},\"id\":\"4440\",\"type\":\"LinearScale\"},{\"attributes\":{},\"id\":\"4507\",\"type\":\"Selection\"},{\"attributes\":{\"data_source\":{\"id\":\"4469\"},\"glyph\":{\"id\":\"4472\"},\"hover_glyph\":null,\"muted_glyph\":{\"id\":\"4474\"},\"nonselection_glyph\":{\"id\":\"4473\"},\"selection_glyph\":null,\"view\":{\"id\":\"4476\"}},\"id\":\"4475\",\"type\":\"GlyphRenderer\"},{\"attributes\":{},\"id\":\"4572\",\"type\":\"UnionRenderers\"},{\"attributes\":{\"end\":26.056251,\"reset_end\":26.056251,\"reset_start\":-19.975960999999998,\"start\":-19.975960999999998,\"tags\":[[[\"price_change_percentage_14d\",\"price_change_percentage_14d\",null]]]},\"id\":\"4428\",\"type\":\"Range1d\"},{\"attributes\":{\"active_drag\":\"auto\",\"active_inspect\":\"auto\",\"active_multi\":null,\"active_scroll\":\"auto\",\"active_tap\":\"auto\",\"tools\":[{\"id\":\"4430\"},{\"id\":\"4452\"},{\"id\":\"4453\"},{\"id\":\"4454\"},{\"id\":\"4455\"},{\"id\":\"4456\"}]},\"id\":\"4458\",\"type\":\"Toolbar\"},{\"attributes\":{\"fill_alpha\":{\"value\":0.2},\"fill_color\":{\"value\":\"#2ba02b\"},\"line_alpha\":{\"value\":0.2},\"line_color\":{\"value\":\"#2ba02b\"},\"size\":{\"units\":\"screen\",\"value\":5.477225575051661},\"x\":{\"field\":\"price_change_percentage_14d\"},\"y\":{\"field\":\"price_change_percentage_1y\"}},\"id\":\"4511\",\"type\":\"Scatter\"},{\"attributes\":{},\"id\":\"4470\",\"type\":\"Selection\"},{\"attributes\":{},\"id\":\"4452\",\"type\":\"SaveTool\"},{\"attributes\":{\"fill_alpha\":{\"value\":0.1},\"fill_color\":{\"value\":\"#1f77b3\"},\"line_alpha\":{\"value\":0.1},\"line_color\":{\"value\":\"#1f77b3\"},\"size\":{\"units\":\"screen\",\"value\":5.477225575051661},\"x\":{\"field\":\"price_change_percentage_14d\"},\"y\":{\"field\":\"price_change_percentage_1y\"}},\"id\":\"4473\",\"type\":\"Scatter\"},{\"attributes\":{\"data_source\":{\"id\":\"4487\"},\"glyph\":{\"id\":\"4490\"},\"hover_glyph\":null,\"muted_glyph\":{\"id\":\"4492\"},\"nonselection_glyph\":{\"id\":\"4491\"},\"selection_glyph\":null,\"view\":{\"id\":\"4494\"}},\"id\":\"4493\",\"type\":\"GlyphRenderer\"},{\"attributes\":{\"label\":{\"value\":\"2\"},\"renderers\":[{\"id\":\"4512\"}]},\"id\":\"4526\",\"type\":\"LegendItem\"},{\"attributes\":{\"data_source\":{\"id\":\"4527\"},\"glyph\":{\"id\":\"4530\"},\"hover_glyph\":null,\"muted_glyph\":{\"id\":\"4532\"},\"nonselection_glyph\":{\"id\":\"4531\"},\"selection_glyph\":null,\"view\":{\"id\":\"4534\"}},\"id\":\"4533\",\"type\":\"GlyphRenderer\"},{\"attributes\":{\"margin\":[5,5,5,5],\"name\":\"HSpacer10074\",\"sizing_mode\":\"stretch_width\"},\"id\":\"4427\",\"type\":\"Spacer\"},{\"attributes\":{\"click_policy\":\"mute\",\"items\":[{\"id\":\"4486\"},{\"id\":\"4505\"},{\"id\":\"4526\"},{\"id\":\"4549\"},{\"id\":\"4574\"}],\"location\":[0,0],\"title\":\"crypto_cluster_k5\"},\"id\":\"4485\",\"type\":\"Legend\"},{\"attributes\":{\"data\":{\"coin_id\":[\"chainlink\",\"cardano\",\"crypto-com-chain\",\"monero\",\"tezos\",\"okb\",\"neo\",\"nem\",\"vechain\",\"omisego\",\"ftx-token\",\"digibyte\"],\"crypto_cluster_k5\":[3,3,3,3,3,3,3,3,3,3,3,3],\"price_change_percentage_14d\":{\"__ndarray__\":\"CoDxDBqaIkAOhGQBEzgWQDGx+bg2FCHAGqN1VDVpMkBUjPM3oZACQJet9UVCGxTAww34/DCyI8COWItPATAFQJtVn6utKDLAO1PovMZuKsCd9L7xtWfKv7sPQGoTRx3A\",\"dtype\":\"float64\",\"order\":\"little\",\"shape\":[12]},\"price_change_percentage_1y\":{\"__ndarray__\":\"aTo7GRxSdEC6LCY2H4NjQJC93v3xEHNA6LzGLlGhYUDo9pLGaIBhQF1Q3zKnvmFAH/RsVn1pYEBLsDic+RZpQCLDKt7IW2lAR8mrcwwLdEDbbRea6wtlQNl8XBsqDGdA\",\"dtype\":\"float64\",\"order\":\"little\",\"shape\":[12]}},\"selected\":{\"id\":\"4528\"},\"selection_policy\":{\"id\":\"4547\"}},\"id\":\"4527\",\"type\":\"ColumnDataSource\"},{\"attributes\":{\"end\":8639.055423,\"reset_end\":8639.055423,\"reset_start\":-804.5332530000002,\"start\":-804.5332530000002,\"tags\":[[[\"price_change_percentage_1y\",\"price_change_percentage_1y\",null]]]},\"id\":\"4429\",\"type\":\"Range1d\"},{\"attributes\":{},\"id\":\"4453\",\"type\":\"PanTool\"},{\"attributes\":{\"source\":{\"id\":\"4487\"}},\"id\":\"4494\",\"type\":\"CDSView\"},{\"attributes\":{},\"id\":\"4488\",\"type\":\"Selection\"},{\"attributes\":{},\"id\":\"4547\",\"type\":\"UnionRenderers\"},{\"attributes\":{\"fill_color\":{\"value\":\"#2ba02b\"},\"line_color\":{\"value\":\"#2ba02b\"},\"size\":{\"units\":\"screen\",\"value\":5.477225575051661},\"x\":{\"field\":\"price_change_percentage_14d\"},\"y\":{\"field\":\"price_change_percentage_1y\"}},\"id\":\"4509\",\"type\":\"Scatter\"},{\"attributes\":{},\"id\":\"4454\",\"type\":\"WheelZoomTool\"},{\"attributes\":{\"fill_alpha\":{\"value\":0.1},\"fill_color\":{\"value\":\"#ff7e0e\"},\"line_alpha\":{\"value\":0.1},\"line_color\":{\"value\":\"#ff7e0e\"},\"size\":{\"units\":\"screen\",\"value\":5.477225575051661},\"x\":{\"field\":\"price_change_percentage_14d\"},\"y\":{\"field\":\"price_change_percentage_1y\"}},\"id\":\"4491\",\"type\":\"Scatter\"},{\"attributes\":{\"label\":{\"value\":\"4\"},\"renderers\":[{\"id\":\"4556\"}]},\"id\":\"4574\",\"type\":\"LegendItem\"},{\"attributes\":{},\"id\":\"4551\",\"type\":\"Selection\"},{\"attributes\":{\"data\":{\"coin_id\":[\"bitcoin\",\"ethereum\",\"tether\",\"ripple\",\"bitcoin-cash\",\"binancecoin\",\"litecoin\",\"bitcoin-cash-sv\",\"usd-coin\",\"eos\",\"tron\",\"stellar\",\"cosmos\",\"cdai\",\"wrapped-bitcoin\",\"leo-token\",\"huobi-token\",\"binance-usd\",\"iota\",\"zcash\",\"dash\",\"ethereum-classic\",\"maker\",\"ontology\",\"true-usd\"],\"crypto_cluster_k5\":[0,0,0,0,0,0,0,0,0,0,0,0,0,0,0,0,0,0,0,0,0,0,0,0,0],\"price_change_percentage_14d\":{\"__ndarray__\":\"zQaZZORMGkB5knTN5DsTQC1DHOviNno/ctwpHaz/AUCLic3HtYEtQJgvL8A+OhtAgJ9x4UAoHUAhWcAEbt39v2tI3GPpQ3e/pfeNrz0z8j8VAOMZNHT2P6pla32RUPG/Qgkzbf8KFkDPg7uzdtvFP2BZaVIKOhpAd/hrskYdHMDNr+YAwRzdP9atnpPeN64/uk4jLZU3DsAJM23/yioXQEBNLVvri+A/TrnCu1xE9L/+mqxRD9H3v3JQwkzbHyXAZCMQr+sXvD8=\",\"dtype\":\"float64\",\"order\":\"little\",\"shape\":[25]},\"price_change_percentage_1y\":{\"__ndarray__\":\"kQpjC0HCQkDWqIdodH1ZQN/42jNLApQ/NXugFRiaMMDN6bKY2PwsQOcdp+hIbFFA+dozSwJUKcDQ0D/BxW5XQL4wmSoYlci/t39lpUmRMcBDyk+qfZ5NQMzuycNCnStAw7ZFmQ2cVEAHsTOFzmvSv4Yb8PlhxEJADf0TXKwANUDfFcH/VpI4QBVSflLt08E/NSTusfThD8Bf0hito7hUQM7Cnnb4qwPA8KKvIM04JkDKT6p9Ok4lQKxWJvxSTynAyXGndLD+2T8=\",\"dtype\":\"float64\",\"order\":\"little\",\"shape\":[25]}},\"selected\":{\"id\":\"4470\"},\"selection_policy\":{\"id\":\"4483\"}},\"id\":\"4469\",\"type\":\"ColumnDataSource\"},{\"attributes\":{},\"id\":\"4483\",\"type\":\"UnionRenderers\"},{\"attributes\":{},\"id\":\"4466\",\"type\":\"BasicTickFormatter\"},{\"attributes\":{},\"id\":\"4524\",\"type\":\"UnionRenderers\"},{\"attributes\":{\"fill_alpha\":{\"value\":0.2},\"fill_color\":{\"value\":\"#1f77b3\"},\"line_alpha\":{\"value\":0.2},\"line_color\":{\"value\":\"#1f77b3\"},\"size\":{\"units\":\"screen\",\"value\":5.477225575051661},\"x\":{\"field\":\"price_change_percentage_14d\"},\"y\":{\"field\":\"price_change_percentage_1y\"}},\"id\":\"4474\",\"type\":\"Scatter\"},{\"attributes\":{\"source\":{\"id\":\"4506\"}},\"id\":\"4513\",\"type\":\"CDSView\"},{\"attributes\":{\"source\":{\"id\":\"4527\"}},\"id\":\"4534\",\"type\":\"CDSView\"},{\"attributes\":{\"label\":{\"value\":\"1\"},\"renderers\":[{\"id\":\"4493\"}]},\"id\":\"4505\",\"type\":\"LegendItem\"},{\"attributes\":{\"data_source\":{\"id\":\"4506\"},\"glyph\":{\"id\":\"4509\"},\"hover_glyph\":null,\"muted_glyph\":{\"id\":\"4511\"},\"nonselection_glyph\":{\"id\":\"4510\"},\"selection_glyph\":null,\"view\":{\"id\":\"4513\"}},\"id\":\"4512\",\"type\":\"GlyphRenderer\"},{\"attributes\":{\"source\":{\"id\":\"4550\"}},\"id\":\"4557\",\"type\":\"CDSView\"},{\"attributes\":{\"label\":{\"value\":\"3\"},\"renderers\":[{\"id\":\"4533\"}]},\"id\":\"4549\",\"type\":\"LegendItem\"},{\"attributes\":{},\"id\":\"4503\",\"type\":\"UnionRenderers\"},{\"attributes\":{\"axis\":{\"id\":\"4444\"},\"grid_line_color\":null,\"ticker\":null},\"id\":\"4447\",\"type\":\"Grid\"},{\"attributes\":{\"overlay\":{\"id\":\"4457\"}},\"id\":\"4455\",\"type\":\"BoxZoomTool\"},{\"attributes\":{\"fill_alpha\":{\"value\":0.2},\"fill_color\":{\"value\":\"#ff7e0e\"},\"line_alpha\":{\"value\":0.2},\"line_color\":{\"value\":\"#ff7e0e\"},\"size\":{\"units\":\"screen\",\"value\":5.477225575051661},\"x\":{\"field\":\"price_change_percentage_14d\"},\"y\":{\"field\":\"price_change_percentage_1y\"}},\"id\":\"4492\",\"type\":\"Scatter\"},{\"attributes\":{},\"id\":\"4442\",\"type\":\"LinearScale\"},{\"attributes\":{\"below\":[{\"id\":\"4444\"}],\"center\":[{\"id\":\"4447\"},{\"id\":\"4451\"}],\"left\":[{\"id\":\"4448\"}],\"margin\":[5,5,5,5],\"min_border_bottom\":10,\"min_border_left\":10,\"min_border_right\":10,\"min_border_top\":10,\"plot_height\":300,\"plot_width\":700,\"renderers\":[{\"id\":\"4475\"},{\"id\":\"4493\"},{\"id\":\"4512\"},{\"id\":\"4533\"},{\"id\":\"4556\"}],\"right\":[{\"id\":\"4485\"}],\"sizing_mode\":\"fixed\",\"title\":{\"id\":\"4436\"},\"toolbar\":{\"id\":\"4458\"},\"x_range\":{\"id\":\"4428\"},\"x_scale\":{\"id\":\"4440\"},\"y_range\":{\"id\":\"4429\"},\"y_scale\":{\"id\":\"4442\"}},\"id\":\"4435\",\"subtype\":\"Figure\",\"type\":\"Plot\"},{\"attributes\":{\"fill_alpha\":{\"value\":0.1},\"fill_color\":{\"value\":\"#d62628\"},\"line_alpha\":{\"value\":0.1},\"line_color\":{\"value\":\"#d62628\"},\"size\":{\"units\":\"screen\",\"value\":5.477225575051661},\"x\":{\"field\":\"price_change_percentage_14d\"},\"y\":{\"field\":\"price_change_percentage_1y\"}},\"id\":\"4531\",\"type\":\"Scatter\"},{\"attributes\":{\"fill_alpha\":{\"value\":0.1},\"fill_color\":{\"value\":\"#9367bc\"},\"line_alpha\":{\"value\":0.1},\"line_color\":{\"value\":\"#9367bc\"},\"size\":{\"units\":\"screen\",\"value\":5.477225575051661},\"x\":{\"field\":\"price_change_percentage_14d\"},\"y\":{\"field\":\"price_change_percentage_1y\"}},\"id\":\"4554\",\"type\":\"Scatter\"},{\"attributes\":{},\"id\":\"4445\",\"type\":\"BasicTicker\"}],\"root_ids\":[\"4426\"]},\"title\":\"Bokeh Application\",\"version\":\"2.2.3\"}};\n",
       "    var render_items = [{\"docid\":\"c464270d-f8a1-4e70-8a89-f4e9f4b40b0c\",\"root_ids\":[\"4426\"],\"roots\":{\"4426\":\"9fc20d2e-eb1f-415a-99ca-fb54f245b07b\"}}];\n",
       "    root.Bokeh.embed.embed_items_notebook(docs_json, render_items);\n",
       "  }\n",
       "  if (root.Bokeh !== undefined && root.Bokeh.Panel !== undefined) {\n",
       "    embed_document(root);\n",
       "  } else {\n",
       "    var attempts = 0;\n",
       "    var timer = setInterval(function(root) {\n",
       "      if (root.Bokeh !== undefined && root.Bokeh.Panel !== undefined) {\n",
       "        clearInterval(timer);\n",
       "        embed_document(root);\n",
       "      } else if (document.readyState == \"complete\") {\n",
       "        attempts++;\n",
       "        if (attempts > 100) {\n",
       "          clearInterval(timer);\n",
       "          console.log(\"Bokeh: ERROR: Unable to run BokehJS code because BokehJS library is missing\");\n",
       "        }\n",
       "      }\n",
       "    }, 10, root)\n",
       "  }\n",
       "})(window);</script>"
      ],
      "text/plain": [
       ":NdOverlay   [crypto_cluster_k5]\n",
       "   :Scatter   [price_change_percentage_14d]   (price_change_percentage_1y,coin_id)"
      ]
     },
     "execution_count": 56,
     "metadata": {
      "application/vnd.holoviews_exec.v0+json": {
       "id": "4426"
      }
     },
     "output_type": "execute_result"
    }
   ],
   "source": [
    "# Create a scatter plot for the Crypto Clusters using k=5 data.\n",
    "# Use the PCA data to create a scatter plot with hvPlot by setting \n",
    "# x=\"price_change_percentage_14d\" and y=\"price_change_percentage_1y\".\n",
    "# Group by the clusters using `by=\"crypto_cluster_k5\".\n",
    "# Set the hover colors to the coin id with `hover_cols=[\"coin_id\"]\n",
    "# Create a descriptive title for the plot using the title parameter.\n",
    "# YOUR CODE HERE!\n",
    "scatter_plot_k5 = df_market_data_pca.hvplot.scatter(\n",
    "    x=\"price_change_percentage_14d\",\n",
    "    y=\"price_change_percentage_1y\",\n",
    "    by=\"crypto_cluster_k5\",\n",
    "    hover_cols=[\"coin_id\"])\n",
    "scatter_plot_k5"
   ]
  },
  {
   "cell_type": "code",
   "execution_count": 59,
   "metadata": {},
   "outputs": [
    {
     "data": {},
     "metadata": {},
     "output_type": "display_data"
    },
    {
     "data": {
      "application/vnd.holoviews_exec.v0+json": "",
      "text/html": [
       "<div id='4801'>\n",
       "\n",
       "\n",
       "\n",
       "\n",
       "\n",
       "  <div class=\"bk-root\" id=\"b366f5f2-8cf1-4702-bcd7-14e1cc828de5\" data-root-id=\"4801\"></div>\n",
       "</div>\n",
       "<script type=\"application/javascript\">(function(root) {\n",
       "  function embed_document(root) {\n",
       "    var docs_json = {\"af72d956-5f48-4c26-b1d3-e6a9a2bf70b6\":{\"roots\":{\"references\":[{\"attributes\":{\"label\":{\"value\":\"1\"},\"renderers\":[{\"id\":\"4867\"}]},\"id\":\"4879\",\"type\":\"LegendItem\"},{\"attributes\":{\"label\":{\"value\":\"2\"},\"renderers\":[{\"id\":\"4886\"}]},\"id\":\"4900\",\"type\":\"LegendItem\"},{\"attributes\":{\"axis\":{\"id\":\"4822\"},\"dimension\":1,\"grid_line_color\":null,\"ticker\":null},\"id\":\"4825\",\"type\":\"Grid\"},{\"attributes\":{\"fill_alpha\":{\"value\":0.2},\"fill_color\":{\"value\":\"#d62628\"},\"line_alpha\":{\"value\":0.2},\"line_color\":{\"value\":\"#d62628\"},\"size\":{\"units\":\"screen\",\"value\":5.477225575051661},\"x\":{\"field\":\"price_change_percentage_14d\"},\"y\":{\"field\":\"price_change_percentage_1y\"}},\"id\":\"4906\",\"type\":\"Scatter\"},{\"attributes\":{\"below\":[{\"id\":\"4818\"}],\"center\":[{\"id\":\"4821\"},{\"id\":\"4825\"}],\"left\":[{\"id\":\"4822\"}],\"margin\":[5,5,5,5],\"min_border_bottom\":10,\"min_border_left\":10,\"min_border_right\":10,\"min_border_top\":10,\"plot_height\":300,\"plot_width\":700,\"renderers\":[{\"id\":\"4849\"},{\"id\":\"4867\"},{\"id\":\"4886\"},{\"id\":\"4907\"}],\"right\":[{\"id\":\"4859\"}],\"sizing_mode\":\"fixed\",\"title\":{\"id\":\"4810\"},\"toolbar\":{\"id\":\"4832\"},\"x_range\":{\"id\":\"4803\"},\"x_scale\":{\"id\":\"4814\"},\"y_range\":{\"id\":\"4804\"},\"y_scale\":{\"id\":\"4816\"}},\"id\":\"4809\",\"subtype\":\"Figure\",\"type\":\"Plot\"},{\"attributes\":{},\"id\":\"4826\",\"type\":\"SaveTool\"},{\"attributes\":{\"data\":{\"coin_id\":[\"celsius-degree-token\"],\"crypto_cluster_k4\":[2],\"price_change_percentage_14d\":{\"__ndarray__\":\"FlU2faVBB0A=\",\"dtype\":\"float64\",\"order\":\"little\",\"shape\":[1]},\"price_change_percentage_1y\":{\"__ndarray__\":\"OvTrj2iT9T8=\",\"dtype\":\"float64\",\"order\":\"little\",\"shape\":[1]}},\"selected\":{\"id\":\"4881\"},\"selection_policy\":{\"id\":\"4898\"}},\"id\":\"4880\",\"type\":\"ColumnDataSource\"},{\"attributes\":{},\"id\":\"4844\",\"type\":\"Selection\"},{\"attributes\":{\"data_source\":{\"id\":\"4880\"},\"glyph\":{\"id\":\"4883\"},\"hover_glyph\":null,\"muted_glyph\":{\"id\":\"4885\"},\"nonselection_glyph\":{\"id\":\"4884\"},\"selection_glyph\":null,\"view\":{\"id\":\"4887\"}},\"id\":\"4886\",\"type\":\"GlyphRenderer\"},{\"attributes\":{},\"id\":\"4827\",\"type\":\"PanTool\"},{\"attributes\":{},\"id\":\"4819\",\"type\":\"BasicTicker\"},{\"attributes\":{},\"id\":\"4877\",\"type\":\"UnionRenderers\"},{\"attributes\":{\"active_drag\":\"auto\",\"active_inspect\":\"auto\",\"active_multi\":null,\"active_scroll\":\"auto\",\"active_tap\":\"auto\",\"tools\":[{\"id\":\"4805\"},{\"id\":\"4826\"},{\"id\":\"4827\"},{\"id\":\"4828\"},{\"id\":\"4829\"},{\"id\":\"4830\"}]},\"id\":\"4832\",\"type\":\"Toolbar\"},{\"attributes\":{\"data\":{\"coin_id\":[\"tether\",\"ripple\",\"bitcoin-cash-sv\",\"crypto-com-chain\",\"usd-coin\",\"eos\",\"tron\",\"okb\",\"stellar\",\"cdai\",\"neo\",\"leo-token\",\"huobi-token\",\"nem\",\"binance-usd\",\"iota\",\"vechain\",\"theta-token\",\"dash\",\"ethereum-classic\",\"havven\",\"omisego\",\"ontology\",\"ftx-token\",\"true-usd\",\"digibyte\"],\"crypto_cluster_k4\":[1,1,1,1,1,1,1,1,1,1,1,1,1,1,1,1,1,1,1,1,1,1,1,1,1,1],\"price_change_percentage_14d\":{\"__ndarray__\":\"HnsBaGQzlr/N3F8oPe7PP3NjPGDhv8+/S7Jsj1Hf8L+Ea3M8HbKXv2o3cmQwcr0/gfuS3PnVwj9EVmWxpyjkvyGfjNZ4ncO/W90W1njBXb8A0bj4GGfzv1aDDY2/5uu/0N4oQb2moD9Mn4eDZwzTPyS7/nSKYI+/K8wLTSmn3r+8kqAso7wBwNk2MV03JOq/M7ls7Q6ApD91cedROXjGvyvzUbHOD/q/O1/1hYrq+b/cP0enpcj0v+FC29fyQqi/ijCfoLDSgr+uLyxJrgbtvw==\",\"dtype\":\"float64\",\"order\":\"little\",\"shape\":[26]},\"price_change_percentage_1y\":{\"__ndarray__\":\"0tbtgUcN0r9onRVeOurSv8DzHRIoX8q/ZYfU+i+zob9Zt1uMFxDSv9d+3k0Q99K/EJWswyz0zb8aTqSC/lzFv7zx0EUAVtG/r2LTfF0R0r/sbi65b3jGv4MlKg5a9tC/jZL+tujG0L8+5EUem4W+v7L3RgiwC9K/QBFeFIRC0r8zoGQ8RRO+vx0crWPUXdI/EKFv4Dku0r8VsZZ513nRv3r6/cSEMdE/58IWQ8Jplr9Y0yK6wrXSvxKiHMC8nsK/P3pCziMI0r/iEUnTKPXAvw==\",\"dtype\":\"float64\",\"order\":\"little\",\"shape\":[26]}},\"selected\":{\"id\":\"4862\"},\"selection_policy\":{\"id\":\"4877\"}},\"id\":\"4861\",\"type\":\"ColumnDataSource\"},{\"attributes\":{\"label\":{\"value\":\"3\"},\"renderers\":[{\"id\":\"4907\"}]},\"id\":\"4923\",\"type\":\"LegendItem\"},{\"attributes\":{},\"id\":\"4902\",\"type\":\"Selection\"},{\"attributes\":{},\"id\":\"4842\",\"type\":\"BasicTickFormatter\"},{\"attributes\":{},\"id\":\"4830\",\"type\":\"ResetTool\"},{\"attributes\":{},\"id\":\"4814\",\"type\":\"LinearScale\"},{\"attributes\":{\"axis\":{\"id\":\"4818\"},\"grid_line_color\":null,\"ticker\":null},\"id\":\"4821\",\"type\":\"Grid\"},{\"attributes\":{},\"id\":\"4828\",\"type\":\"WheelZoomTool\"},{\"attributes\":{\"fill_color\":{\"value\":\"#1f77b3\"},\"line_color\":{\"value\":\"#1f77b3\"},\"size\":{\"units\":\"screen\",\"value\":5.477225575051661},\"x\":{\"field\":\"price_change_percentage_14d\"},\"y\":{\"field\":\"price_change_percentage_1y\"}},\"id\":\"4846\",\"type\":\"Scatter\"},{\"attributes\":{\"children\":[{\"id\":\"4802\"},{\"id\":\"4809\"},{\"id\":\"5050\"}],\"margin\":[0,0,0,0],\"name\":\"Row10853\",\"tags\":[\"embedded\"]},\"id\":\"4801\",\"type\":\"Row\"},{\"attributes\":{\"click_policy\":\"mute\",\"items\":[{\"id\":\"4860\"},{\"id\":\"4879\"},{\"id\":\"4900\"},{\"id\":\"4923\"}],\"location\":[0,0],\"title\":\"crypto_cluster_k4\"},\"id\":\"4859\",\"type\":\"Legend\"},{\"attributes\":{\"source\":{\"id\":\"4880\"}},\"id\":\"4887\",\"type\":\"CDSView\"},{\"attributes\":{\"fill_alpha\":{\"value\":0.1},\"fill_color\":{\"value\":\"#2ba02b\"},\"line_alpha\":{\"value\":0.1},\"line_color\":{\"value\":\"#2ba02b\"},\"size\":{\"units\":\"screen\",\"value\":5.477225575051661},\"x\":{\"field\":\"price_change_percentage_14d\"},\"y\":{\"field\":\"price_change_percentage_1y\"}},\"id\":\"4884\",\"type\":\"Scatter\"},{\"attributes\":{\"callback\":null,\"renderers\":[{\"id\":\"4849\"},{\"id\":\"4867\"},{\"id\":\"4886\"},{\"id\":\"4907\"}],\"tags\":[\"hv_created\"],\"tooltips\":[[\"crypto_cluster_k4\",\"@{crypto_cluster_k4}\"],[\"price_change_percentage_14d\",\"@{price_change_percentage_14d}\"],[\"price_change_percentage_1y\",\"@{price_change_percentage_1y}\"],[\"coin_id\",\"@{coin_id}\"]]},\"id\":\"4805\",\"type\":\"HoverTool\"},{\"attributes\":{\"overlay\":{\"id\":\"4831\"}},\"id\":\"4829\",\"type\":\"BoxZoomTool\"},{\"attributes\":{},\"id\":\"4921\",\"type\":\"UnionRenderers\"},{\"attributes\":{\"data_source\":{\"id\":\"4901\"},\"glyph\":{\"id\":\"4904\"},\"hover_glyph\":null,\"muted_glyph\":{\"id\":\"4906\"},\"nonselection_glyph\":{\"id\":\"4905\"},\"selection_glyph\":null,\"view\":{\"id\":\"4908\"}},\"id\":\"4907\",\"type\":\"GlyphRenderer\"},{\"attributes\":{\"margin\":[5,5,5,5],\"name\":\"HSpacer10857\",\"sizing_mode\":\"stretch_width\"},\"id\":\"4802\",\"type\":\"Spacer\"},{\"attributes\":{\"end\":3.1266608709070227,\"reset_end\":3.1266608709070227,\"reset_start\":-2.4367150495547434,\"start\":-2.4367150495547434,\"tags\":[[[\"price_change_percentage_14d\",\"price_change_percentage_14d\",null]]]},\"id\":\"4803\",\"type\":\"Range1d\"},{\"attributes\":{\"fill_alpha\":{\"value\":0.2},\"fill_color\":{\"value\":\"#ff7e0e\"},\"line_alpha\":{\"value\":0.2},\"line_color\":{\"value\":\"#ff7e0e\"},\"size\":{\"units\":\"screen\",\"value\":5.477225575051661},\"x\":{\"field\":\"price_change_percentage_14d\"},\"y\":{\"field\":\"price_change_percentage_1y\"}},\"id\":\"4866\",\"type\":\"Scatter\"},{\"attributes\":{\"source\":{\"id\":\"4861\"}},\"id\":\"4868\",\"type\":\"CDSView\"},{\"attributes\":{\"fill_color\":{\"value\":\"#ff7e0e\"},\"line_color\":{\"value\":\"#ff7e0e\"},\"size\":{\"units\":\"screen\",\"value\":5.477225575051661},\"x\":{\"field\":\"price_change_percentage_14d\"},\"y\":{\"field\":\"price_change_percentage_1y\"}},\"id\":\"4864\",\"type\":\"Scatter\"},{\"attributes\":{\"axis_label\":\"price_change_percentage_14d\",\"bounds\":\"auto\",\"formatter\":{\"id\":\"4840\"},\"major_label_orientation\":\"horizontal\",\"ticker\":{\"id\":\"4819\"}},\"id\":\"4818\",\"type\":\"LinearAxis\"},{\"attributes\":{},\"id\":\"4840\",\"type\":\"BasicTickFormatter\"},{\"attributes\":{},\"id\":\"4862\",\"type\":\"Selection\"},{\"attributes\":{\"data_source\":{\"id\":\"4843\"},\"glyph\":{\"id\":\"4846\"},\"hover_glyph\":null,\"muted_glyph\":{\"id\":\"4848\"},\"nonselection_glyph\":{\"id\":\"4847\"},\"selection_glyph\":null,\"view\":{\"id\":\"4850\"}},\"id\":\"4849\",\"type\":\"GlyphRenderer\"},{\"attributes\":{\"data_source\":{\"id\":\"4861\"},\"glyph\":{\"id\":\"4864\"},\"hover_glyph\":null,\"muted_glyph\":{\"id\":\"4866\"},\"nonselection_glyph\":{\"id\":\"4865\"},\"selection_glyph\":null,\"view\":{\"id\":\"4868\"}},\"id\":\"4867\",\"type\":\"GlyphRenderer\"},{\"attributes\":{\"end\":6.72712095745086,\"reset_end\":6.72712095745086,\"reset_start\":-0.9348250733816648,\"start\":-0.9348250733816648,\"tags\":[[[\"price_change_percentage_1y\",\"price_change_percentage_1y\",null]]]},\"id\":\"4804\",\"type\":\"Range1d\"},{\"attributes\":{\"fill_color\":{\"value\":\"#d62628\"},\"line_color\":{\"value\":\"#d62628\"},\"size\":{\"units\":\"screen\",\"value\":5.477225575051661},\"x\":{\"field\":\"price_change_percentage_14d\"},\"y\":{\"field\":\"price_change_percentage_1y\"}},\"id\":\"4904\",\"type\":\"Scatter\"},{\"attributes\":{\"data\":{\"coin_id\":[\"ethlend\"],\"crypto_cluster_k4\":[0],\"price_change_percentage_14d\":{\"__ndarray__\":\"EjPPN7FP878=\",\"dtype\":\"float64\",\"order\":\"little\",\"shape\":[1]},\"price_change_percentage_1y\":{\"__ndarray__\":\"gzyZocBaGEA=\",\"dtype\":\"float64\",\"order\":\"little\",\"shape\":[1]}},\"selected\":{\"id\":\"4844\"},\"selection_policy\":{\"id\":\"4857\"}},\"id\":\"4843\",\"type\":\"ColumnDataSource\"},{\"attributes\":{\"fill_alpha\":{\"value\":0.2},\"fill_color\":{\"value\":\"#2ba02b\"},\"line_alpha\":{\"value\":0.2},\"line_color\":{\"value\":\"#2ba02b\"},\"size\":{\"units\":\"screen\",\"value\":5.477225575051661},\"x\":{\"field\":\"price_change_percentage_14d\"},\"y\":{\"field\":\"price_change_percentage_1y\"}},\"id\":\"4885\",\"type\":\"Scatter\"},{\"attributes\":{\"source\":{\"id\":\"4843\"}},\"id\":\"4850\",\"type\":\"CDSView\"},{\"attributes\":{\"data\":{\"coin_id\":[\"bitcoin\",\"ethereum\",\"bitcoin-cash\",\"binancecoin\",\"chainlink\",\"cardano\",\"litecoin\",\"monero\",\"tezos\",\"cosmos\",\"wrapped-bitcoin\",\"zcash\",\"maker\"],\"crypto_cluster_k4\":[3,3,3,3,3,3,3,3,3,3,3,3,3],\"price_change_percentage_14d\":{\"__ndarray__\":\"nuLdrt216D+RSHVMzuDhP7sQi2Z1K/w/Mmmtxlqb6T8Qp+OGWKDxPxbMkJqqw+Q/7/2Jpv546z+cw3/YDp8BQLkNxiFGg9A/6WDgXhWY5D8zjSqEo6PoPw0FcdFXruU/AkzpMNDmyb8=\",\"dtype\":\"float64\",\"order\":\"little\",\"shape\":[13]},\"price_change_percentage_1y\":{\"__ndarray__\":\"ZIOvlNEa0L8/RW61XoTJvzHqfHffTNG/VVzrnEDezL8xTPVHJbmSv24aeg4U5cO/QqlS3eG10r+H6xnpXXXFv2O+GP+0kMW/vQghwWCLy7/FkSn9mBrQvxtcXcmAf8u/IdIwj+5/0b8=\",\"dtype\":\"float64\",\"order\":\"little\",\"shape\":[13]}},\"selected\":{\"id\":\"4902\"},\"selection_policy\":{\"id\":\"4921\"}},\"id\":\"4901\",\"type\":\"ColumnDataSource\"},{\"attributes\":{},\"id\":\"4857\",\"type\":\"UnionRenderers\"},{\"attributes\":{},\"id\":\"4816\",\"type\":\"LinearScale\"},{\"attributes\":{},\"id\":\"4881\",\"type\":\"Selection\"},{\"attributes\":{\"margin\":[5,5,5,5],\"name\":\"HSpacer10858\",\"sizing_mode\":\"stretch_width\"},\"id\":\"5050\",\"type\":\"Spacer\"},{\"attributes\":{\"fill_alpha\":{\"value\":0.2},\"fill_color\":{\"value\":\"#1f77b3\"},\"line_alpha\":{\"value\":0.2},\"line_color\":{\"value\":\"#1f77b3\"},\"size\":{\"units\":\"screen\",\"value\":5.477225575051661},\"x\":{\"field\":\"price_change_percentage_14d\"},\"y\":{\"field\":\"price_change_percentage_1y\"}},\"id\":\"4848\",\"type\":\"Scatter\"},{\"attributes\":{\"text\":\"\",\"text_color\":{\"value\":\"black\"},\"text_font_size\":{\"value\":\"12pt\"}},\"id\":\"4810\",\"type\":\"Title\"},{\"attributes\":{},\"id\":\"4823\",\"type\":\"BasicTicker\"},{\"attributes\":{\"fill_alpha\":{\"value\":0.1},\"fill_color\":{\"value\":\"#1f77b3\"},\"line_alpha\":{\"value\":0.1},\"line_color\":{\"value\":\"#1f77b3\"},\"size\":{\"units\":\"screen\",\"value\":5.477225575051661},\"x\":{\"field\":\"price_change_percentage_14d\"},\"y\":{\"field\":\"price_change_percentage_1y\"}},\"id\":\"4847\",\"type\":\"Scatter\"},{\"attributes\":{\"fill_alpha\":{\"value\":0.1},\"fill_color\":{\"value\":\"#ff7e0e\"},\"line_alpha\":{\"value\":0.1},\"line_color\":{\"value\":\"#ff7e0e\"},\"size\":{\"units\":\"screen\",\"value\":5.477225575051661},\"x\":{\"field\":\"price_change_percentage_14d\"},\"y\":{\"field\":\"price_change_percentage_1y\"}},\"id\":\"4865\",\"type\":\"Scatter\"},{\"attributes\":{\"axis_label\":\"price_change_percentage_1y\",\"bounds\":\"auto\",\"formatter\":{\"id\":\"4842\"},\"major_label_orientation\":\"horizontal\",\"ticker\":{\"id\":\"4823\"}},\"id\":\"4822\",\"type\":\"LinearAxis\"},{\"attributes\":{},\"id\":\"4898\",\"type\":\"UnionRenderers\"},{\"attributes\":{\"label\":{\"value\":\"0\"},\"renderers\":[{\"id\":\"4849\"}]},\"id\":\"4860\",\"type\":\"LegendItem\"},{\"attributes\":{\"bottom_units\":\"screen\",\"fill_alpha\":0.5,\"fill_color\":\"lightgrey\",\"left_units\":\"screen\",\"level\":\"overlay\",\"line_alpha\":1.0,\"line_color\":\"black\",\"line_dash\":[4,4],\"line_width\":2,\"right_units\":\"screen\",\"top_units\":\"screen\"},\"id\":\"4831\",\"type\":\"BoxAnnotation\"},{\"attributes\":{\"fill_color\":{\"value\":\"#2ba02b\"},\"line_color\":{\"value\":\"#2ba02b\"},\"size\":{\"units\":\"screen\",\"value\":5.477225575051661},\"x\":{\"field\":\"price_change_percentage_14d\"},\"y\":{\"field\":\"price_change_percentage_1y\"}},\"id\":\"4883\",\"type\":\"Scatter\"},{\"attributes\":{\"fill_alpha\":{\"value\":0.1},\"fill_color\":{\"value\":\"#d62628\"},\"line_alpha\":{\"value\":0.1},\"line_color\":{\"value\":\"#d62628\"},\"size\":{\"units\":\"screen\",\"value\":5.477225575051661},\"x\":{\"field\":\"price_change_percentage_14d\"},\"y\":{\"field\":\"price_change_percentage_1y\"}},\"id\":\"4905\",\"type\":\"Scatter\"},{\"attributes\":{\"source\":{\"id\":\"4901\"}},\"id\":\"4908\",\"type\":\"CDSView\"}],\"root_ids\":[\"4801\"]},\"title\":\"Bokeh Application\",\"version\":\"2.2.3\"}};\n",
       "    var render_items = [{\"docid\":\"af72d956-5f48-4c26-b1d3-e6a9a2bf70b6\",\"root_ids\":[\"4801\"],\"roots\":{\"4801\":\"b366f5f2-8cf1-4702-bcd7-14e1cc828de5\"}}];\n",
       "    root.Bokeh.embed.embed_items_notebook(docs_json, render_items);\n",
       "  }\n",
       "  if (root.Bokeh !== undefined && root.Bokeh.Panel !== undefined) {\n",
       "    embed_document(root);\n",
       "  } else {\n",
       "    var attempts = 0;\n",
       "    var timer = setInterval(function(root) {\n",
       "      if (root.Bokeh !== undefined && root.Bokeh.Panel !== undefined) {\n",
       "        clearInterval(timer);\n",
       "        embed_document(root);\n",
       "      } else if (document.readyState == \"complete\") {\n",
       "        attempts++;\n",
       "        if (attempts > 100) {\n",
       "          clearInterval(timer);\n",
       "          console.log(\"Bokeh: ERROR: Unable to run BokehJS code because BokehJS library is missing\");\n",
       "        }\n",
       "      }\n",
       "    }, 10, root)\n",
       "  }\n",
       "})(window);</script>"
      ],
      "text/plain": [
       ":NdOverlay   [crypto_cluster_k4]\n",
       "   :Scatter   [price_change_percentage_14d]   (price_change_percentage_1y,coin_id)"
      ]
     },
     "metadata": {
      "application/vnd.holoviews_exec.v0+json": {
       "id": "4801"
      }
     },
     "output_type": "display_data"
    },
    {
     "data": {},
     "metadata": {},
     "output_type": "display_data"
    },
    {
     "data": {
      "application/vnd.holoviews_exec.v0+json": "",
      "text/html": [
       "<div id='5122'>\n",
       "\n",
       "\n",
       "\n",
       "\n",
       "\n",
       "  <div class=\"bk-root\" id=\"2e04632f-3a6a-4563-ad7b-eafdc7e4fb4c\" data-root-id=\"5122\"></div>\n",
       "</div>\n",
       "<script type=\"application/javascript\">(function(root) {\n",
       "  function embed_document(root) {\n",
       "    var docs_json = {\"4fd72847-3087-4dd7-9d61-9dd54ac19f9d\":{\"roots\":{\"references\":[{\"attributes\":{\"active_drag\":\"auto\",\"active_inspect\":\"auto\",\"active_multi\":null,\"active_scroll\":\"auto\",\"active_tap\":\"auto\",\"tools\":[{\"id\":\"5126\"},{\"id\":\"5148\"},{\"id\":\"5149\"},{\"id\":\"5150\"},{\"id\":\"5151\"},{\"id\":\"5152\"}]},\"id\":\"5154\",\"type\":\"Toolbar\"},{\"attributes\":{\"callback\":null,\"renderers\":[{\"id\":\"5171\"},{\"id\":\"5189\"},{\"id\":\"5208\"},{\"id\":\"5229\"},{\"id\":\"5252\"}],\"tags\":[\"hv_created\"],\"tooltips\":[[\"crypto_cluster_k5\",\"@{crypto_cluster_k5}\"],[\"price_change_percentage_14d\",\"@{price_change_percentage_14d}\"],[\"price_change_percentage_1y\",\"@{price_change_percentage_1y}\"],[\"coin_id\",\"@{coin_id}\"]]},\"id\":\"5126\",\"type\":\"HoverTool\"},{\"attributes\":{\"overlay\":{\"id\":\"5153\"}},\"id\":\"5151\",\"type\":\"BoxZoomTool\"},{\"attributes\":{\"data\":{\"coin_id\":[\"bitcoin\",\"ethereum\",\"tether\",\"ripple\",\"bitcoin-cash\",\"binancecoin\",\"litecoin\",\"bitcoin-cash-sv\",\"usd-coin\",\"eos\",\"tron\",\"stellar\",\"cosmos\",\"cdai\",\"wrapped-bitcoin\",\"leo-token\",\"huobi-token\",\"binance-usd\",\"iota\",\"zcash\",\"dash\",\"ethereum-classic\",\"maker\",\"ontology\",\"true-usd\"],\"crypto_cluster_k5\":[0,0,0,0,0,0,0,0,0,0,0,0,0,0,0,0,0,0,0,0,0,0,0,0,0],\"price_change_percentage_14d\":{\"__ndarray__\":\"zQaZZORMGkB5knTN5DsTQC1DHOviNno/ctwpHaz/AUCLic3HtYEtQJgvL8A+OhtAgJ9x4UAoHUAhWcAEbt39v2tI3GPpQ3e/pfeNrz0z8j8VAOMZNHT2P6pla32RUPG/Qgkzbf8KFkDPg7uzdtvFP2BZaVIKOhpAd/hrskYdHMDNr+YAwRzdP9atnpPeN64/uk4jLZU3DsAJM23/yioXQEBNLVvri+A/TrnCu1xE9L/+mqxRD9H3v3JQwkzbHyXAZCMQr+sXvD8=\",\"dtype\":\"float64\",\"order\":\"little\",\"shape\":[25]},\"price_change_percentage_1y\":{\"__ndarray__\":\"kQpjC0HCQkDWqIdodH1ZQN/42jNLApQ/NXugFRiaMMDN6bKY2PwsQOcdp+hIbFFA+dozSwJUKcDQ0D/BxW5XQL4wmSoYlci/t39lpUmRMcBDyk+qfZ5NQMzuycNCnStAw7ZFmQ2cVEAHsTOFzmvSv4Yb8PlhxEJADf0TXKwANUDfFcH/VpI4QBVSflLt08E/NSTusfThD8Bf0hito7hUQM7Cnnb4qwPA8KKvIM04JkDKT6p9Ok4lQKxWJvxSTynAyXGndLD+2T8=\",\"dtype\":\"float64\",\"order\":\"little\",\"shape\":[25]}},\"selected\":{\"id\":\"5166\"},\"selection_policy\":{\"id\":\"5179\"}},\"id\":\"5165\",\"type\":\"ColumnDataSource\"},{\"attributes\":{\"data\":{\"coin_id\":[\"chainlink\",\"cardano\",\"crypto-com-chain\",\"monero\",\"tezos\",\"okb\",\"neo\",\"nem\",\"vechain\",\"omisego\",\"ftx-token\",\"digibyte\"],\"crypto_cluster_k5\":[3,3,3,3,3,3,3,3,3,3,3,3],\"price_change_percentage_14d\":{\"__ndarray__\":\"CoDxDBqaIkAOhGQBEzgWQDGx+bg2FCHAGqN1VDVpMkBUjPM3oZACQJet9UVCGxTAww34/DCyI8COWItPATAFQJtVn6utKDLAO1PovMZuKsCd9L7xtWfKv7sPQGoTRx3A\",\"dtype\":\"float64\",\"order\":\"little\",\"shape\":[12]},\"price_change_percentage_1y\":{\"__ndarray__\":\"aTo7GRxSdEC6LCY2H4NjQJC93v3xEHNA6LzGLlGhYUDo9pLGaIBhQF1Q3zKnvmFAH/RsVn1pYEBLsDic+RZpQCLDKt7IW2lAR8mrcwwLdEDbbRea6wtlQNl8XBsqDGdA\",\"dtype\":\"float64\",\"order\":\"little\",\"shape\":[12]}},\"selected\":{\"id\":\"5224\"},\"selection_policy\":{\"id\":\"5243\"}},\"id\":\"5223\",\"type\":\"ColumnDataSource\"},{\"attributes\":{\"fill_alpha\":{\"value\":0.1},\"fill_color\":{\"value\":\"#2ba02b\"},\"line_alpha\":{\"value\":0.1},\"line_color\":{\"value\":\"#2ba02b\"},\"size\":{\"units\":\"screen\",\"value\":5.477225575051661},\"x\":{\"field\":\"price_change_percentage_14d\"},\"y\":{\"field\":\"price_change_percentage_1y\"}},\"id\":\"5206\",\"type\":\"Scatter\"},{\"attributes\":{},\"id\":\"5203\",\"type\":\"Selection\"},{\"attributes\":{},\"id\":\"5141\",\"type\":\"BasicTicker\"},{\"attributes\":{\"data\":{\"coin_id\":[\"ethlend\"],\"crypto_cluster_k5\":[1],\"price_change_percentage_14d\":{\"__ndarray__\":\"RIts5/uZI8A=\",\"dtype\":\"float64\",\"order\":\"little\",\"shape\":[1]},\"price_change_percentage_1y\":{\"__ndarray__\":\"dEaU9hasvkA=\",\"dtype\":\"float64\",\"order\":\"little\",\"shape\":[1]}},\"selected\":{\"id\":\"5184\"},\"selection_policy\":{\"id\":\"5199\"}},\"id\":\"5183\",\"type\":\"ColumnDataSource\"},{\"attributes\":{\"fill_alpha\":{\"value\":0.2},\"fill_color\":{\"value\":\"#9367bc\"},\"line_alpha\":{\"value\":0.2},\"line_color\":{\"value\":\"#9367bc\"},\"size\":{\"units\":\"screen\",\"value\":5.477225575051661},\"x\":{\"field\":\"price_change_percentage_14d\"},\"y\":{\"field\":\"price_change_percentage_1y\"}},\"id\":\"5251\",\"type\":\"Scatter\"},{\"attributes\":{\"fill_alpha\":{\"value\":0.1},\"fill_color\":{\"value\":\"#9367bc\"},\"line_alpha\":{\"value\":0.1},\"line_color\":{\"value\":\"#9367bc\"},\"size\":{\"units\":\"screen\",\"value\":5.477225575051661},\"x\":{\"field\":\"price_change_percentage_14d\"},\"y\":{\"field\":\"price_change_percentage_1y\"}},\"id\":\"5250\",\"type\":\"Scatter\"},{\"attributes\":{},\"id\":\"5136\",\"type\":\"LinearScale\"},{\"attributes\":{\"axis_label\":\"price_change_percentage_1y\",\"bounds\":\"auto\",\"formatter\":{\"id\":\"5164\"},\"major_label_orientation\":\"horizontal\",\"ticker\":{\"id\":\"5145\"}},\"id\":\"5144\",\"type\":\"LinearAxis\"},{\"attributes\":{\"end\":26.056251,\"reset_end\":26.056251,\"reset_start\":-19.975960999999998,\"start\":-19.975960999999998,\"tags\":[[[\"price_change_percentage_14d\",\"price_change_percentage_14d\",null]]]},\"id\":\"5124\",\"type\":\"Range1d\"},{\"attributes\":{\"axis\":{\"id\":\"5144\"},\"dimension\":1,\"grid_line_color\":null,\"ticker\":null},\"id\":\"5147\",\"type\":\"Grid\"},{\"attributes\":{},\"id\":\"5166\",\"type\":\"Selection\"},{\"attributes\":{\"fill_alpha\":{\"value\":0.2},\"fill_color\":{\"value\":\"#d62628\"},\"line_alpha\":{\"value\":0.2},\"line_color\":{\"value\":\"#d62628\"},\"size\":{\"units\":\"screen\",\"value\":5.477225575051661},\"x\":{\"field\":\"price_change_percentage_14d\"},\"y\":{\"field\":\"price_change_percentage_1y\"}},\"id\":\"5228\",\"type\":\"Scatter\"},{\"attributes\":{\"fill_color\":{\"value\":\"#2ba02b\"},\"line_color\":{\"value\":\"#2ba02b\"},\"size\":{\"units\":\"screen\",\"value\":5.477225575051661},\"x\":{\"field\":\"price_change_percentage_14d\"},\"y\":{\"field\":\"price_change_percentage_1y\"}},\"id\":\"5205\",\"type\":\"Scatter\"},{\"attributes\":{\"below\":[{\"id\":\"5140\"}],\"center\":[{\"id\":\"5143\"},{\"id\":\"5147\"}],\"left\":[{\"id\":\"5144\"}],\"margin\":[5,5,5,5],\"min_border_bottom\":10,\"min_border_left\":10,\"min_border_right\":10,\"min_border_top\":10,\"plot_height\":300,\"plot_width\":700,\"renderers\":[{\"id\":\"5171\"},{\"id\":\"5189\"},{\"id\":\"5208\"},{\"id\":\"5229\"},{\"id\":\"5252\"}],\"right\":[{\"id\":\"5181\"}],\"sizing_mode\":\"fixed\",\"title\":{\"id\":\"5132\"},\"toolbar\":{\"id\":\"5154\"},\"x_range\":{\"id\":\"5124\"},\"x_scale\":{\"id\":\"5136\"},\"y_range\":{\"id\":\"5125\"},\"y_scale\":{\"id\":\"5138\"}},\"id\":\"5131\",\"subtype\":\"Figure\",\"type\":\"Plot\"},{\"attributes\":{\"data\":{\"coin_id\":[\"celsius-degree-token\"],\"crypto_cluster_k5\":[2],\"price_change_percentage_14d\":{\"__ndarray__\":\"vodLjjs9OEA=\",\"dtype\":\"float64\",\"order\":\"little\",\"shape\":[1]},\"price_change_percentage_1y\":{\"__ndarray__\":\"nFCIgONmn0A=\",\"dtype\":\"float64\",\"order\":\"little\",\"shape\":[1]}},\"selected\":{\"id\":\"5203\"},\"selection_policy\":{\"id\":\"5220\"}},\"id\":\"5202\",\"type\":\"ColumnDataSource\"},{\"attributes\":{},\"id\":\"5224\",\"type\":\"Selection\"},{\"attributes\":{\"children\":[{\"id\":\"5123\"},{\"id\":\"5131\"},{\"id\":\"5415\"}],\"margin\":[0,0,0,0],\"name\":\"Row11496\",\"tags\":[\"embedded\"]},\"id\":\"5122\",\"type\":\"Row\"},{\"attributes\":{\"fill_alpha\":{\"value\":0.1},\"fill_color\":{\"value\":\"#ff7e0e\"},\"line_alpha\":{\"value\":0.1},\"line_color\":{\"value\":\"#ff7e0e\"},\"size\":{\"units\":\"screen\",\"value\":5.477225575051661},\"x\":{\"field\":\"price_change_percentage_14d\"},\"y\":{\"field\":\"price_change_percentage_1y\"}},\"id\":\"5187\",\"type\":\"Scatter\"},{\"attributes\":{\"axis_label\":\"price_change_percentage_14d\",\"bounds\":\"auto\",\"formatter\":{\"id\":\"5162\"},\"major_label_orientation\":\"horizontal\",\"ticker\":{\"id\":\"5141\"}},\"id\":\"5140\",\"type\":\"LinearAxis\"},{\"attributes\":{\"data_source\":{\"id\":\"5183\"},\"glyph\":{\"id\":\"5186\"},\"hover_glyph\":null,\"muted_glyph\":{\"id\":\"5188\"},\"nonselection_glyph\":{\"id\":\"5187\"},\"selection_glyph\":null,\"view\":{\"id\":\"5190\"}},\"id\":\"5189\",\"type\":\"GlyphRenderer\"},{\"attributes\":{},\"id\":\"5138\",\"type\":\"LinearScale\"},{\"attributes\":{\"margin\":[5,5,5,5],\"name\":\"HSpacer11500\",\"sizing_mode\":\"stretch_width\"},\"id\":\"5123\",\"type\":\"Spacer\"},{\"attributes\":{\"fill_color\":{\"value\":\"#1f77b3\"},\"line_color\":{\"value\":\"#1f77b3\"},\"size\":{\"units\":\"screen\",\"value\":5.477225575051661},\"x\":{\"field\":\"price_change_percentage_14d\"},\"y\":{\"field\":\"price_change_percentage_1y\"}},\"id\":\"5168\",\"type\":\"Scatter\"},{\"attributes\":{},\"id\":\"5199\",\"type\":\"UnionRenderers\"},{\"attributes\":{\"label\":{\"value\":\"2\"},\"renderers\":[{\"id\":\"5208\"}]},\"id\":\"5222\",\"type\":\"LegendItem\"},{\"attributes\":{},\"id\":\"5152\",\"type\":\"ResetTool\"},{\"attributes\":{\"source\":{\"id\":\"5202\"}},\"id\":\"5209\",\"type\":\"CDSView\"},{\"attributes\":{\"margin\":[5,5,5,5],\"name\":\"HSpacer11501\",\"sizing_mode\":\"stretch_width\"},\"id\":\"5415\",\"type\":\"Spacer\"},{\"attributes\":{\"fill_alpha\":{\"value\":0.2},\"fill_color\":{\"value\":\"#2ba02b\"},\"line_alpha\":{\"value\":0.2},\"line_color\":{\"value\":\"#2ba02b\"},\"size\":{\"units\":\"screen\",\"value\":5.477225575051661},\"x\":{\"field\":\"price_change_percentage_14d\"},\"y\":{\"field\":\"price_change_percentage_1y\"}},\"id\":\"5207\",\"type\":\"Scatter\"},{\"attributes\":{\"bottom_units\":\"screen\",\"fill_alpha\":0.5,\"fill_color\":\"lightgrey\",\"left_units\":\"screen\",\"level\":\"overlay\",\"line_alpha\":1.0,\"line_color\":\"black\",\"line_dash\":[4,4],\"line_width\":2,\"right_units\":\"screen\",\"top_units\":\"screen\"},\"id\":\"5153\",\"type\":\"BoxAnnotation\"},{\"attributes\":{},\"id\":\"5220\",\"type\":\"UnionRenderers\"},{\"attributes\":{},\"id\":\"5149\",\"type\":\"PanTool\"},{\"attributes\":{},\"id\":\"5162\",\"type\":\"BasicTickFormatter\"},{\"attributes\":{\"fill_alpha\":{\"value\":0.1},\"fill_color\":{\"value\":\"#d62628\"},\"line_alpha\":{\"value\":0.1},\"line_color\":{\"value\":\"#d62628\"},\"size\":{\"units\":\"screen\",\"value\":5.477225575051661},\"x\":{\"field\":\"price_change_percentage_14d\"},\"y\":{\"field\":\"price_change_percentage_1y\"}},\"id\":\"5227\",\"type\":\"Scatter\"},{\"attributes\":{},\"id\":\"5148\",\"type\":\"SaveTool\"},{\"attributes\":{},\"id\":\"5164\",\"type\":\"BasicTickFormatter\"},{\"attributes\":{},\"id\":\"5150\",\"type\":\"WheelZoomTool\"},{\"attributes\":{\"fill_color\":{\"value\":\"#ff7e0e\"},\"line_color\":{\"value\":\"#ff7e0e\"},\"size\":{\"units\":\"screen\",\"value\":5.477225575051661},\"x\":{\"field\":\"price_change_percentage_14d\"},\"y\":{\"field\":\"price_change_percentage_1y\"}},\"id\":\"5186\",\"type\":\"Scatter\"},{\"attributes\":{\"fill_color\":{\"value\":\"#9367bc\"},\"line_color\":{\"value\":\"#9367bc\"},\"size\":{\"units\":\"screen\",\"value\":5.477225575051661},\"x\":{\"field\":\"price_change_percentage_14d\"},\"y\":{\"field\":\"price_change_percentage_1y\"}},\"id\":\"5249\",\"type\":\"Scatter\"},{\"attributes\":{\"data\":{\"coin_id\":[\"theta-token\",\"havven\"],\"crypto_cluster_k5\":[4,4],\"price_change_percentage_14d\":{\"__ndarray__\":\"l8rbEU5LGsAvaYzWUZUqwA==\",\"dtype\":\"float64\",\"order\":\"little\",\"shape\":[2]},\"price_change_percentage_1y\":{\"__ndarray__\":\"/IwLBwLrhUDfiVkvRjaFQA==\",\"dtype\":\"float64\",\"order\":\"little\",\"shape\":[2]}},\"selected\":{\"id\":\"5247\"},\"selection_policy\":{\"id\":\"5268\"}},\"id\":\"5246\",\"type\":\"ColumnDataSource\"},{\"attributes\":{\"data_source\":{\"id\":\"5165\"},\"glyph\":{\"id\":\"5168\"},\"hover_glyph\":null,\"muted_glyph\":{\"id\":\"5170\"},\"nonselection_glyph\":{\"id\":\"5169\"},\"selection_glyph\":null,\"view\":{\"id\":\"5172\"}},\"id\":\"5171\",\"type\":\"GlyphRenderer\"},{\"attributes\":{\"click_policy\":\"mute\",\"items\":[{\"id\":\"5182\"},{\"id\":\"5201\"},{\"id\":\"5222\"},{\"id\":\"5245\"},{\"id\":\"5270\"}],\"location\":[0,0],\"title\":\"crypto_cluster_k5\"},\"id\":\"5181\",\"type\":\"Legend\"},{\"attributes\":{\"label\":{\"value\":\"4\"},\"renderers\":[{\"id\":\"5252\"}]},\"id\":\"5270\",\"type\":\"LegendItem\"},{\"attributes\":{\"source\":{\"id\":\"5183\"}},\"id\":\"5190\",\"type\":\"CDSView\"},{\"attributes\":{\"text\":\"\",\"text_color\":{\"value\":\"black\"},\"text_font_size\":{\"value\":\"12pt\"}},\"id\":\"5132\",\"type\":\"Title\"},{\"attributes\":{\"fill_color\":{\"value\":\"#d62628\"},\"line_color\":{\"value\":\"#d62628\"},\"size\":{\"units\":\"screen\",\"value\":5.477225575051661},\"x\":{\"field\":\"price_change_percentage_14d\"},\"y\":{\"field\":\"price_change_percentage_1y\"}},\"id\":\"5226\",\"type\":\"Scatter\"},{\"attributes\":{},\"id\":\"5243\",\"type\":\"UnionRenderers\"},{\"attributes\":{\"end\":8639.055423,\"reset_end\":8639.055423,\"reset_start\":-804.5332530000002,\"start\":-804.5332530000002,\"tags\":[[[\"price_change_percentage_1y\",\"price_change_percentage_1y\",null]]]},\"id\":\"5125\",\"type\":\"Range1d\"},{\"attributes\":{\"label\":{\"value\":\"1\"},\"renderers\":[{\"id\":\"5189\"}]},\"id\":\"5201\",\"type\":\"LegendItem\"},{\"attributes\":{},\"id\":\"5247\",\"type\":\"Selection\"},{\"attributes\":{\"data_source\":{\"id\":\"5246\"},\"glyph\":{\"id\":\"5249\"},\"hover_glyph\":null,\"muted_glyph\":{\"id\":\"5251\"},\"nonselection_glyph\":{\"id\":\"5250\"},\"selection_glyph\":null,\"view\":{\"id\":\"5253\"}},\"id\":\"5252\",\"type\":\"GlyphRenderer\"},{\"attributes\":{\"axis\":{\"id\":\"5140\"},\"grid_line_color\":null,\"ticker\":null},\"id\":\"5143\",\"type\":\"Grid\"},{\"attributes\":{\"fill_alpha\":{\"value\":0.2},\"fill_color\":{\"value\":\"#ff7e0e\"},\"line_alpha\":{\"value\":0.2},\"line_color\":{\"value\":\"#ff7e0e\"},\"size\":{\"units\":\"screen\",\"value\":5.477225575051661},\"x\":{\"field\":\"price_change_percentage_14d\"},\"y\":{\"field\":\"price_change_percentage_1y\"}},\"id\":\"5188\",\"type\":\"Scatter\"},{\"attributes\":{},\"id\":\"5179\",\"type\":\"UnionRenderers\"},{\"attributes\":{\"label\":{\"value\":\"3\"},\"renderers\":[{\"id\":\"5229\"}]},\"id\":\"5245\",\"type\":\"LegendItem\"},{\"attributes\":{\"fill_alpha\":{\"value\":0.1},\"fill_color\":{\"value\":\"#1f77b3\"},\"line_alpha\":{\"value\":0.1},\"line_color\":{\"value\":\"#1f77b3\"},\"size\":{\"units\":\"screen\",\"value\":5.477225575051661},\"x\":{\"field\":\"price_change_percentage_14d\"},\"y\":{\"field\":\"price_change_percentage_1y\"}},\"id\":\"5169\",\"type\":\"Scatter\"},{\"attributes\":{\"label\":{\"value\":\"0\"},\"renderers\":[{\"id\":\"5171\"}]},\"id\":\"5182\",\"type\":\"LegendItem\"},{\"attributes\":{},\"id\":\"5184\",\"type\":\"Selection\"},{\"attributes\":{},\"id\":\"5145\",\"type\":\"BasicTicker\"},{\"attributes\":{\"source\":{\"id\":\"5223\"}},\"id\":\"5230\",\"type\":\"CDSView\"},{\"attributes\":{\"source\":{\"id\":\"5246\"}},\"id\":\"5253\",\"type\":\"CDSView\"},{\"attributes\":{\"data_source\":{\"id\":\"5223\"},\"glyph\":{\"id\":\"5226\"},\"hover_glyph\":null,\"muted_glyph\":{\"id\":\"5228\"},\"nonselection_glyph\":{\"id\":\"5227\"},\"selection_glyph\":null,\"view\":{\"id\":\"5230\"}},\"id\":\"5229\",\"type\":\"GlyphRenderer\"},{\"attributes\":{\"fill_alpha\":{\"value\":0.2},\"fill_color\":{\"value\":\"#1f77b3\"},\"line_alpha\":{\"value\":0.2},\"line_color\":{\"value\":\"#1f77b3\"},\"size\":{\"units\":\"screen\",\"value\":5.477225575051661},\"x\":{\"field\":\"price_change_percentage_14d\"},\"y\":{\"field\":\"price_change_percentage_1y\"}},\"id\":\"5170\",\"type\":\"Scatter\"},{\"attributes\":{},\"id\":\"5268\",\"type\":\"UnionRenderers\"},{\"attributes\":{\"source\":{\"id\":\"5165\"}},\"id\":\"5172\",\"type\":\"CDSView\"},{\"attributes\":{\"data_source\":{\"id\":\"5202\"},\"glyph\":{\"id\":\"5205\"},\"hover_glyph\":null,\"muted_glyph\":{\"id\":\"5207\"},\"nonselection_glyph\":{\"id\":\"5206\"},\"selection_glyph\":null,\"view\":{\"id\":\"5209\"}},\"id\":\"5208\",\"type\":\"GlyphRenderer\"}],\"root_ids\":[\"5122\"]},\"title\":\"Bokeh Application\",\"version\":\"2.2.3\"}};\n",
       "    var render_items = [{\"docid\":\"4fd72847-3087-4dd7-9d61-9dd54ac19f9d\",\"root_ids\":[\"5122\"],\"roots\":{\"5122\":\"2e04632f-3a6a-4563-ad7b-eafdc7e4fb4c\"}}];\n",
       "    root.Bokeh.embed.embed_items_notebook(docs_json, render_items);\n",
       "  }\n",
       "  if (root.Bokeh !== undefined && root.Bokeh.Panel !== undefined) {\n",
       "    embed_document(root);\n",
       "  } else {\n",
       "    var attempts = 0;\n",
       "    var timer = setInterval(function(root) {\n",
       "      if (root.Bokeh !== undefined && root.Bokeh.Panel !== undefined) {\n",
       "        clearInterval(timer);\n",
       "        embed_document(root);\n",
       "      } else if (document.readyState == \"complete\") {\n",
       "        attempts++;\n",
       "        if (attempts > 100) {\n",
       "          clearInterval(timer);\n",
       "          console.log(\"Bokeh: ERROR: Unable to run BokehJS code because BokehJS library is missing\");\n",
       "        }\n",
       "      }\n",
       "    }, 10, root)\n",
       "  }\n",
       "})(window);</script>"
      ],
      "text/plain": [
       ":NdOverlay   [crypto_cluster_k5]\n",
       "   :Scatter   [price_change_percentage_14d]   (price_change_percentage_1y,coin_id)"
      ]
     },
     "metadata": {
      "application/vnd.holoviews_exec.v0+json": {
       "id": "5122"
      }
     },
     "output_type": "display_data"
    }
   ],
   "source": [
    "# Compare both scatter plots\n",
    "display(scatter_plot_k4)\n",
    "display(scatter_plot_k5)"
   ]
  },
  {
   "cell_type": "markdown",
   "metadata": {},
   "source": [
    "Answer the following question: What value of k creates the most accurate clusters of cryptocurrencies, grouped by profitability?\n",
    "\n",
    "**Question:** What value of `k` seems to create the most accurate clusters to group cryptocurrencies according to their profitability?\n",
    "\n",
    "**Answer:** YOUR ANSWER HERE!"
   ]
  },
  {
   "cell_type": "markdown",
   "metadata": {},
   "source": [
    "The value for k that seems to create the most accurate clusters grouping cryptocurrencies according to profitability is 4."
   ]
  }
 ],
 "metadata": {
  "kernelspec": {
   "display_name": "dev",
   "language": "python",
   "name": "dev"
  },
  "language_info": {
   "codemirror_mode": {
    "name": "ipython",
    "version": 3
   },
   "file_extension": ".py",
   "mimetype": "text/x-python",
   "name": "python",
   "nbconvert_exporter": "python",
   "pygments_lexer": "ipython3",
   "version": "3.7.9"
  }
 },
 "nbformat": 4,
 "nbformat_minor": 4
}
